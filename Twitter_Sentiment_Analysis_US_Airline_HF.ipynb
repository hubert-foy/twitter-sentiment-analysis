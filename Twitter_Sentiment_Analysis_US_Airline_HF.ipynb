{
  "cells": [
    {
      "cell_type": "markdown",
      "metadata": {
        "id": "utp_I1zLD95j"
      },
      "source": [
        "# <font color='blue'>Project 9 Solution Notebook: Twitter US Airline Sentiment</font>\n",
        "Author: Hubert Foy\n",
        "\n",
        "Date created: 2022/03/30\n",
        "\n",
        "Last modified: 2022/04/23\n",
        "\n",
        "Description: Natural Language Processing"
      ]
    },
    {
      "cell_type": "markdown",
      "metadata": {
        "id": "wGKk_1MtE5CQ"
      },
      "source": [
        "# **Problem Statement**\n",
        "\n",
        "## Background and Context:\n",
        "\n",
        "Twitter possesses 330 million monthly active users, which allows businesses to reach a broad population and connect with customers without intermediaries. On the other hand, there’s so much information that it’s difficult for brands to quickly detect negative social mentions that could harm their business.\n",
        "\n",
        "That's why sentiment analysis/classification, which involves monitoring emotions in conversations on social media platforms, has become a key strategy in social media marketing.\n",
        "\n",
        "\n",
        "Listening to how customers feel about the product/service on Twitter allows companies to understand their audience, keep on top of what’s being said about their brand and their competitors, and discover new trends in the industry.\n",
        "\n",
        " \n",
        "\n",
        "## Data Description:\n",
        "\n",
        "A sentiment analysis job about the problems of each major U.S. airline. Twitter data was scraped from February of 2015 and contributors were asked to first classify positive, negative, and neutral tweets, followed by categorizing negative reasons (such as \"late flight\" or \"rude service\").\n",
        "\n",
        " \n",
        "\n",
        "## Dataset:\n",
        "\n",
        "The dataset has the following columns:\n",
        "\n",
        "- tweet_id                                                           \n",
        "- airline_sentiment                                               \n",
        "- airline_sentiment_confidence                               \n",
        "- negativereason                                                   \n",
        "- negativereason_confidence                                    \n",
        "- airline                                                                    \n",
        "- airline_sentiment_gold                                              \n",
        "- name     \n",
        "- negativereason_gold \n",
        "- retweet_count\n",
        "- text\n",
        "- tweet_coord\n",
        "- tweet_created\n",
        "- tweet_location \n",
        "- user_timezone\n",
        " \n",
        "\n",
        "## Objective:\n",
        "\n",
        "To implement the techniques learned as a part of the course.\n",
        "\n",
        "\n",
        "## Learning Outcomes:\n",
        "\n",
        "- Basic understanding of text pre-processing.\n",
        "- What to do after text pre-processing\n",
        "- Bag of words\n",
        "- Tf-idf\n",
        "- Build the classification model.\n",
        "- Evaluate the Model"
      ]
    },
    {
      "cell_type": "markdown",
      "metadata": {
        "id": "XWFYJO3sGVb3"
      },
      "source": [
        "## **1. Data Summary**\n",
        "- Add your view and opinion along with the problem statement, Import the libraries, load dataset, print the shape of data, data description."
      ]
    },
    {
      "cell_type": "markdown",
      "metadata": {
        "id": "dAlCMFg4GvoL"
      },
      "source": [
        "## Install and import necessary libraries"
      ]
    },
    {
      "cell_type": "code",
      "execution_count": 119,
      "metadata": {
        "colab": {
          "base_uri": "https://localhost:8080/"
        },
        "id": "0dxicr6uHxtY",
        "outputId": "627df750-f49c-4ea3-80de-17a0edaf1bd4"
      },
      "outputs": [
        {
          "output_type": "stream",
          "name": "stdout",
          "text": [
            "Requirement already satisfied: contractions in /usr/local/lib/python3.7/dist-packages (0.1.68)\n",
            "Requirement already satisfied: textsearch>=0.0.21 in /usr/local/lib/python3.7/dist-packages (from contractions) (0.0.21)\n",
            "Requirement already satisfied: pyahocorasick in /usr/local/lib/python3.7/dist-packages (from textsearch>=0.0.21->contractions) (1.4.4)\n",
            "Requirement already satisfied: anyascii in /usr/local/lib/python3.7/dist-packages (from textsearch>=0.0.21->contractions) (0.3.1)\n",
            "Requirement already satisfied: unidecode in /usr/local/lib/python3.7/dist-packages (1.3.4)\n"
          ]
        }
      ],
      "source": [
        "# install the modules contractions and unicode\n",
        "!pip install contractions\n",
        "!pip install unidecode"
      ]
    },
    {
      "cell_type": "code",
      "execution_count": 149,
      "metadata": {
        "colab": {
          "base_uri": "https://localhost:8080/"
        },
        "id": "OV6oHvidHsN6",
        "outputId": "1a3ea915-0682-4a2b-924e-8b11a08c2b55"
      },
      "outputs": [
        {
          "output_type": "stream",
          "name": "stdout",
          "text": [
            "[nltk_data] Downloading package stopwords to /root/nltk_data...\n",
            "[nltk_data]   Package stopwords is already up-to-date!\n",
            "[nltk_data] Downloading package punkt to /root/nltk_data...\n",
            "[nltk_data]   Package punkt is already up-to-date!\n",
            "[nltk_data] Downloading package wordnet to /root/nltk_data...\n",
            "[nltk_data]   Package wordnet is already up-to-date!\n"
          ]
        }
      ],
      "source": [
        "# import the libraries\n",
        "import re, string, random, os                           # Import Regex and string\n",
        "import contractions                                     # Import contractions library.\n",
        "from bs4 import BeautifulSoup                           # Import BeautifulSoup.\n",
        "import unicodedata                                      # Removing accented characters\n",
        "import numpy as np                                      # Import numpy.\n",
        "import pandas as pd                                     # Import pandas.\n",
        "import seaborn as sns                                   # Import seaborn\n",
        "import matplotlib.pyplot as plt\n",
        "import nltk                                             # Import Natural Language Tool-Kit.\n",
        "import spacy\n",
        "\n",
        "import plotly.express as px\n",
        "import plotly.figure_factory as ff\n",
        "\n",
        "nltk.download('stopwords')                              # Download Stopwords.\n",
        "nltk.download('punkt')\n",
        "nltk.download('wordnet')\n",
        "\n",
        "from nltk.corpus import stopwords                       # Import stopwords.\n",
        "from nltk.tokenize import word_tokenize, sent_tokenize  # Import Tokenizer.\n",
        "from nltk.stem.wordnet import WordNetLemmatizer         # Import Lemmatizer. For removing stem words\n",
        "\n",
        "from plotly import graph_objs as go\n",
        "\n",
        "from collections import Counter\n",
        "\n",
        "from PIL import Image\n",
        "from wordcloud import WordCloud, STOPWORDS, ImageColorGenerator\n",
        "from spacy.util import compounding\n",
        "from spacy.util import minibatch\n",
        "from textblob import TextBlob\n",
        "\n",
        "from nltk.stem import LancasterStemmer, WordNetLemmatizer\n",
        "from sklearn.feature_extraction.text import CountVectorizer, TfidfVectorizer\n",
        "from sklearn import metrics\n",
        "from sklearn.ensemble import RandomForestClassifier\n",
        "from sklearn.model_selection import train_test_split\n",
        "from sklearn.model_selection import cross_val_score\n",
        "from sklearn.model_selection import GridSearchCV\n",
        "\n",
        "from sklearn.metrics import accuracy_score,confusion_matrix,classification_report\n",
        "from mlxtend.plotting import plot_confusion_matrix\n",
        "\n",
        "from imblearn.over_sampling import SMOTE\n",
        "from IPython.display import display\n",
        "\n",
        "import warnings\n",
        "warnings.filterwarnings('ignore')\n",
        "%matplotlib inline   "
      ]
    },
    {
      "cell_type": "markdown",
      "metadata": {
        "id": "roW1SCN7IBqN"
      },
      "source": [
        "## Mount Google Drive files in Google Colab"
      ]
    },
    {
      "cell_type": "code",
      "execution_count": 121,
      "metadata": {
        "colab": {
          "base_uri": "https://localhost:8080/"
        },
        "id": "MPMWody6I4Oh",
        "outputId": "ff14bb00-cd13-4522-c33f-d9ca506bc6c5"
      },
      "outputs": [
        {
          "output_type": "stream",
          "name": "stdout",
          "text": [
            "Drive already mounted at /content/drive; to attempt to forcibly remount, call drive.mount(\"/content/drive\", force_remount=True).\n"
          ]
        }
      ],
      "source": [
        "# Mount your Google Drive at the specified mountpoint path.\n",
        "from google.colab import drive\n",
        "drive.mount('/content/drive')"
      ]
    },
    {
      "cell_type": "code",
      "execution_count": 122,
      "metadata": {
        "colab": {
          "base_uri": "https://localhost:8080/",
          "height": 35
        },
        "id": "dTddP2CAJF88",
        "outputId": "82e4cae6-71ea-4359-8478-814626d26a18"
      },
      "outputs": [
        {
          "output_type": "execute_result",
          "data": {
            "text/plain": [
              "'/content/drive/My Drive/Colab Notebooks/Project9'"
            ],
            "application/vnd.google.colaboratory.intrinsic+json": {
              "type": "string"
            }
          },
          "metadata": {},
          "execution_count": 122
        }
      ],
      "source": [
        "# Return a unicode string representing the current working directory\n",
        "import os\n",
        "os.getcwd()"
      ]
    },
    {
      "cell_type": "code",
      "execution_count": 123,
      "metadata": {
        "colab": {
          "base_uri": "https://localhost:8080/",
          "height": 35
        },
        "id": "hgn4WWwVJ6xh",
        "outputId": "2d865b51-3db7-46a5-a644-6c874422349d"
      },
      "outputs": [
        {
          "output_type": "execute_result",
          "data": {
            "text/plain": [
              "'/content/drive/MyDrive/Colab Notebooks/Project9'"
            ],
            "application/vnd.google.colaboratory.intrinsic+json": {
              "type": "string"
            }
          },
          "metadata": {},
          "execution_count": 123
        }
      ],
      "source": [
        "# change the OS to use your project folder in google drive as the working directory. This way, if your notebook times out,\n",
        "# your files will be saved in your Google Drive!\n",
        "os.chdir('/content/drive/MyDrive/Colab Notebooks/Project9')\n",
        "# Verify directory is changed successfully\n",
        "os.getcwd() # !pwd returns current working directory. "
      ]
    },
    {
      "cell_type": "markdown",
      "metadata": {
        "id": "sZpid02lPxrk"
      },
      "source": [
        "## Activate Interactive Table for Pandas DataFrame"
      ]
    },
    {
      "cell_type": "code",
      "execution_count": 124,
      "metadata": {
        "id": "ou0r3g_IPyd9"
      },
      "outputs": [],
      "source": [
        "# Activate Interactive Table that is a colab extension that enhances the rendering and exploration of DataFrame\n",
        "from google.colab import data_table\n",
        "data_table.enable_dataframe_formatter() #invoke the associated enble method on the data set"
      ]
    },
    {
      "cell_type": "markdown",
      "metadata": {
        "id": "Xxjl9B1OGuGX"
      },
      "source": [
        "## Load dataset"
      ]
    },
    {
      "cell_type": "code",
      "execution_count": 125,
      "metadata": {
        "colab": {
          "base_uri": "https://localhost:8080/",
          "height": 609
        },
        "id": "M2Ko4Bx4K9fm",
        "outputId": "c639ac61-94ad-4f84-95fa-5dcefdd15805"
      },
      "outputs": [
        {
          "output_type": "execute_result",
          "data": {
            "text/plain": [
              "             tweet_id airline_sentiment  airline_sentiment_confidence  \\\n",
              "0  570306133677760513           neutral                        1.0000   \n",
              "1  570301130888122368          positive                        0.3486   \n",
              "2  570301083672813571           neutral                        0.6837   \n",
              "3  570301031407624196          negative                        1.0000   \n",
              "4  570300817074462722          negative                        1.0000   \n",
              "\n",
              "  negativereason  negativereason_confidence         airline  \\\n",
              "0            NaN                        NaN  Virgin America   \n",
              "1            NaN                     0.0000  Virgin America   \n",
              "2            NaN                        NaN  Virgin America   \n",
              "3     Bad Flight                     0.7033  Virgin America   \n",
              "4     Can't Tell                     1.0000  Virgin America   \n",
              "\n",
              "  airline_sentiment_gold        name negativereason_gold  retweet_count  \\\n",
              "0                    NaN     cairdin                 NaN              0   \n",
              "1                    NaN    jnardino                 NaN              0   \n",
              "2                    NaN  yvonnalynn                 NaN              0   \n",
              "3                    NaN    jnardino                 NaN              0   \n",
              "4                    NaN    jnardino                 NaN              0   \n",
              "\n",
              "                                                text tweet_coord  \\\n",
              "0                @VirginAmerica What @dhepburn said.         NaN   \n",
              "1  @VirginAmerica plus you've added commercials t...         NaN   \n",
              "2  @VirginAmerica I didn't today... Must mean I n...         NaN   \n",
              "3  @VirginAmerica it's really aggressive to blast...         NaN   \n",
              "4  @VirginAmerica and it's a really big bad thing...         NaN   \n",
              "\n",
              "               tweet_created tweet_location               user_timezone  \n",
              "0  2015-02-24 11:35:52 -0800            NaN  Eastern Time (US & Canada)  \n",
              "1  2015-02-24 11:15:59 -0800            NaN  Pacific Time (US & Canada)  \n",
              "2  2015-02-24 11:15:48 -0800      Lets Play  Central Time (US & Canada)  \n",
              "3  2015-02-24 11:15:36 -0800            NaN  Pacific Time (US & Canada)  \n",
              "4  2015-02-24 11:14:45 -0800            NaN  Pacific Time (US & Canada)  "
            ],
            "text/html": [
              "\n",
              "  <div id=\"df-e5f7a9fa-8503-4f66-a437-22c7805e79ab\">\n",
              "    <div class=\"colab-df-container\">\n",
              "      <div>\n",
              "<style scoped>\n",
              "    .dataframe tbody tr th:only-of-type {\n",
              "        vertical-align: middle;\n",
              "    }\n",
              "\n",
              "    .dataframe tbody tr th {\n",
              "        vertical-align: top;\n",
              "    }\n",
              "\n",
              "    .dataframe thead th {\n",
              "        text-align: right;\n",
              "    }\n",
              "</style>\n",
              "<table border=\"1\" class=\"dataframe\">\n",
              "  <thead>\n",
              "    <tr style=\"text-align: right;\">\n",
              "      <th></th>\n",
              "      <th>tweet_id</th>\n",
              "      <th>airline_sentiment</th>\n",
              "      <th>airline_sentiment_confidence</th>\n",
              "      <th>negativereason</th>\n",
              "      <th>negativereason_confidence</th>\n",
              "      <th>airline</th>\n",
              "      <th>airline_sentiment_gold</th>\n",
              "      <th>name</th>\n",
              "      <th>negativereason_gold</th>\n",
              "      <th>retweet_count</th>\n",
              "      <th>text</th>\n",
              "      <th>tweet_coord</th>\n",
              "      <th>tweet_created</th>\n",
              "      <th>tweet_location</th>\n",
              "      <th>user_timezone</th>\n",
              "    </tr>\n",
              "  </thead>\n",
              "  <tbody>\n",
              "    <tr>\n",
              "      <th>0</th>\n",
              "      <td>570306133677760513</td>\n",
              "      <td>neutral</td>\n",
              "      <td>1.0000</td>\n",
              "      <td>NaN</td>\n",
              "      <td>NaN</td>\n",
              "      <td>Virgin America</td>\n",
              "      <td>NaN</td>\n",
              "      <td>cairdin</td>\n",
              "      <td>NaN</td>\n",
              "      <td>0</td>\n",
              "      <td>@VirginAmerica What @dhepburn said.</td>\n",
              "      <td>NaN</td>\n",
              "      <td>2015-02-24 11:35:52 -0800</td>\n",
              "      <td>NaN</td>\n",
              "      <td>Eastern Time (US &amp; Canada)</td>\n",
              "    </tr>\n",
              "    <tr>\n",
              "      <th>1</th>\n",
              "      <td>570301130888122368</td>\n",
              "      <td>positive</td>\n",
              "      <td>0.3486</td>\n",
              "      <td>NaN</td>\n",
              "      <td>0.0000</td>\n",
              "      <td>Virgin America</td>\n",
              "      <td>NaN</td>\n",
              "      <td>jnardino</td>\n",
              "      <td>NaN</td>\n",
              "      <td>0</td>\n",
              "      <td>@VirginAmerica plus you've added commercials t...</td>\n",
              "      <td>NaN</td>\n",
              "      <td>2015-02-24 11:15:59 -0800</td>\n",
              "      <td>NaN</td>\n",
              "      <td>Pacific Time (US &amp; Canada)</td>\n",
              "    </tr>\n",
              "    <tr>\n",
              "      <th>2</th>\n",
              "      <td>570301083672813571</td>\n",
              "      <td>neutral</td>\n",
              "      <td>0.6837</td>\n",
              "      <td>NaN</td>\n",
              "      <td>NaN</td>\n",
              "      <td>Virgin America</td>\n",
              "      <td>NaN</td>\n",
              "      <td>yvonnalynn</td>\n",
              "      <td>NaN</td>\n",
              "      <td>0</td>\n",
              "      <td>@VirginAmerica I didn't today... Must mean I n...</td>\n",
              "      <td>NaN</td>\n",
              "      <td>2015-02-24 11:15:48 -0800</td>\n",
              "      <td>Lets Play</td>\n",
              "      <td>Central Time (US &amp; Canada)</td>\n",
              "    </tr>\n",
              "    <tr>\n",
              "      <th>3</th>\n",
              "      <td>570301031407624196</td>\n",
              "      <td>negative</td>\n",
              "      <td>1.0000</td>\n",
              "      <td>Bad Flight</td>\n",
              "      <td>0.7033</td>\n",
              "      <td>Virgin America</td>\n",
              "      <td>NaN</td>\n",
              "      <td>jnardino</td>\n",
              "      <td>NaN</td>\n",
              "      <td>0</td>\n",
              "      <td>@VirginAmerica it's really aggressive to blast...</td>\n",
              "      <td>NaN</td>\n",
              "      <td>2015-02-24 11:15:36 -0800</td>\n",
              "      <td>NaN</td>\n",
              "      <td>Pacific Time (US &amp; Canada)</td>\n",
              "    </tr>\n",
              "    <tr>\n",
              "      <th>4</th>\n",
              "      <td>570300817074462722</td>\n",
              "      <td>negative</td>\n",
              "      <td>1.0000</td>\n",
              "      <td>Can't Tell</td>\n",
              "      <td>1.0000</td>\n",
              "      <td>Virgin America</td>\n",
              "      <td>NaN</td>\n",
              "      <td>jnardino</td>\n",
              "      <td>NaN</td>\n",
              "      <td>0</td>\n",
              "      <td>@VirginAmerica and it's a really big bad thing...</td>\n",
              "      <td>NaN</td>\n",
              "      <td>2015-02-24 11:14:45 -0800</td>\n",
              "      <td>NaN</td>\n",
              "      <td>Pacific Time (US &amp; Canada)</td>\n",
              "    </tr>\n",
              "  </tbody>\n",
              "</table>\n",
              "</div>\n",
              "      <button class=\"colab-df-convert\" onclick=\"convertToInteractive('df-e5f7a9fa-8503-4f66-a437-22c7805e79ab')\"\n",
              "              title=\"Convert this dataframe to an interactive table.\"\n",
              "              style=\"display:none;\">\n",
              "        \n",
              "  <svg xmlns=\"http://www.w3.org/2000/svg\" height=\"24px\"viewBox=\"0 0 24 24\"\n",
              "       width=\"24px\">\n",
              "    <path d=\"M0 0h24v24H0V0z\" fill=\"none\"/>\n",
              "    <path d=\"M18.56 5.44l.94 2.06.94-2.06 2.06-.94-2.06-.94-.94-2.06-.94 2.06-2.06.94zm-11 1L8.5 8.5l.94-2.06 2.06-.94-2.06-.94L8.5 2.5l-.94 2.06-2.06.94zm10 10l.94 2.06.94-2.06 2.06-.94-2.06-.94-.94-2.06-.94 2.06-2.06.94z\"/><path d=\"M17.41 7.96l-1.37-1.37c-.4-.4-.92-.59-1.43-.59-.52 0-1.04.2-1.43.59L10.3 9.45l-7.72 7.72c-.78.78-.78 2.05 0 2.83L4 21.41c.39.39.9.59 1.41.59.51 0 1.02-.2 1.41-.59l7.78-7.78 2.81-2.81c.8-.78.8-2.07 0-2.86zM5.41 20L4 18.59l7.72-7.72 1.47 1.35L5.41 20z\"/>\n",
              "  </svg>\n",
              "      </button>\n",
              "      \n",
              "  <style>\n",
              "    .colab-df-container {\n",
              "      display:flex;\n",
              "      flex-wrap:wrap;\n",
              "      gap: 12px;\n",
              "    }\n",
              "\n",
              "    .colab-df-convert {\n",
              "      background-color: #E8F0FE;\n",
              "      border: none;\n",
              "      border-radius: 50%;\n",
              "      cursor: pointer;\n",
              "      display: none;\n",
              "      fill: #1967D2;\n",
              "      height: 32px;\n",
              "      padding: 0 0 0 0;\n",
              "      width: 32px;\n",
              "    }\n",
              "\n",
              "    .colab-df-convert:hover {\n",
              "      background-color: #E2EBFA;\n",
              "      box-shadow: 0px 1px 2px rgba(60, 64, 67, 0.3), 0px 1px 3px 1px rgba(60, 64, 67, 0.15);\n",
              "      fill: #174EA6;\n",
              "    }\n",
              "\n",
              "    [theme=dark] .colab-df-convert {\n",
              "      background-color: #3B4455;\n",
              "      fill: #D2E3FC;\n",
              "    }\n",
              "\n",
              "    [theme=dark] .colab-df-convert:hover {\n",
              "      background-color: #434B5C;\n",
              "      box-shadow: 0px 1px 3px 1px rgba(0, 0, 0, 0.15);\n",
              "      filter: drop-shadow(0px 1px 2px rgba(0, 0, 0, 0.3));\n",
              "      fill: #FFFFFF;\n",
              "    }\n",
              "  </style>\n",
              "\n",
              "      <script>\n",
              "        const buttonEl =\n",
              "          document.querySelector('#df-e5f7a9fa-8503-4f66-a437-22c7805e79ab button.colab-df-convert');\n",
              "        buttonEl.style.display =\n",
              "          google.colab.kernel.accessAllowed ? 'block' : 'none';\n",
              "\n",
              "        async function convertToInteractive(key) {\n",
              "          const element = document.querySelector('#df-e5f7a9fa-8503-4f66-a437-22c7805e79ab');\n",
              "          const dataTable =\n",
              "            await google.colab.kernel.invokeFunction('convertToInteractive',\n",
              "                                                     [key], {});\n",
              "          if (!dataTable) return;\n",
              "\n",
              "          const docLinkHtml = 'Like what you see? Visit the ' +\n",
              "            '<a target=\"_blank\" href=https://colab.research.google.com/notebooks/data_table.ipynb>data table notebook</a>'\n",
              "            + ' to learn more about interactive tables.';\n",
              "          element.innerHTML = '';\n",
              "          dataTable['output_type'] = 'display_data';\n",
              "          await google.colab.output.renderOutput(dataTable, element);\n",
              "          const docLink = document.createElement('div');\n",
              "          docLink.innerHTML = docLinkHtml;\n",
              "          element.appendChild(docLink);\n",
              "        }\n",
              "      </script>\n",
              "    </div>\n",
              "  </div>\n",
              "  "
            ],
            "application/vnd.google.colaboratory.module+javascript": "\n      import \"https://ssl.gstatic.com/colaboratory/data_table/f872b2c2305463fd/data_table.js\";\n\n      window.createDataTable({\n        data: [[{\n            'v': 0,\n            'f': \"0\",\n        },\n{\n            'v': \"570306133677760513\",\n            'f': \"570306133677760513\",\n        },\n\"neutral\",\n{\n            'v': 1.0,\n            'f': \"1.0\",\n        },\nNaN,\n{\n            'v': NaN,\n            'f': \"NaN\",\n        },\n\"Virgin America\",\n{\n            'v': NaN,\n            'f': \"NaN\",\n        },\n\"cairdin\",\n{\n            'v': NaN,\n            'f': \"NaN\",\n        },\n{\n            'v': 0,\n            'f': \"0\",\n        },\n\"@VirginAmerica What @dhepburn said.\",\n{\n            'v': NaN,\n            'f': \"NaN\",\n        },\n\"2015-02-24 11:35:52 -0800\",\nNaN,\n\"Eastern Time (US & Canada)\"],\n [{\n            'v': 1,\n            'f': \"1\",\n        },\n{\n            'v': \"570301130888122368\",\n            'f': \"570301130888122368\",\n        },\n\"positive\",\n{\n            'v': 0.3486,\n            'f': \"0.3486\",\n        },\nNaN,\n{\n            'v': 0.0,\n            'f': \"0.0\",\n        },\n\"Virgin America\",\n{\n            'v': NaN,\n            'f': \"NaN\",\n        },\n\"jnardino\",\n{\n            'v': NaN,\n            'f': \"NaN\",\n        },\n{\n            'v': 0,\n            'f': \"0\",\n        },\n\"@VirginAmerica plus you've added commercials to the experience... tacky.\",\n{\n            'v': NaN,\n            'f': \"NaN\",\n        },\n\"2015-02-24 11:15:59 -0800\",\nNaN,\n\"Pacific Time (US & Canada)\"],\n [{\n            'v': 2,\n            'f': \"2\",\n        },\n{\n            'v': \"570301083672813571\",\n            'f': \"570301083672813571\",\n        },\n\"neutral\",\n{\n            'v': 0.6837,\n            'f': \"0.6837\",\n        },\nNaN,\n{\n            'v': NaN,\n            'f': \"NaN\",\n        },\n\"Virgin America\",\n{\n            'v': NaN,\n            'f': \"NaN\",\n        },\n\"yvonnalynn\",\n{\n            'v': NaN,\n            'f': \"NaN\",\n        },\n{\n            'v': 0,\n            'f': \"0\",\n        },\n\"@VirginAmerica I didn't today... Must mean I need to take another trip!\",\n{\n            'v': NaN,\n            'f': \"NaN\",\n        },\n\"2015-02-24 11:15:48 -0800\",\n\"Lets Play\",\n\"Central Time (US & Canada)\"],\n [{\n            'v': 3,\n            'f': \"3\",\n        },\n{\n            'v': \"570301031407624196\",\n            'f': \"570301031407624196\",\n        },\n\"negative\",\n{\n            'v': 1.0,\n            'f': \"1.0\",\n        },\n\"Bad Flight\",\n{\n            'v': 0.7033,\n            'f': \"0.7033\",\n        },\n\"Virgin America\",\n{\n            'v': NaN,\n            'f': \"NaN\",\n        },\n\"jnardino\",\n{\n            'v': NaN,\n            'f': \"NaN\",\n        },\n{\n            'v': 0,\n            'f': \"0\",\n        },\n\"@VirginAmerica it's really aggressive to blast obnoxious \\\"entertainment\\\" in your guests' faces &amp; they have little recourse\",\n{\n            'v': NaN,\n            'f': \"NaN\",\n        },\n\"2015-02-24 11:15:36 -0800\",\nNaN,\n\"Pacific Time (US & Canada)\"],\n [{\n            'v': 4,\n            'f': \"4\",\n        },\n{\n            'v': \"570300817074462722\",\n            'f': \"570300817074462722\",\n        },\n\"negative\",\n{\n            'v': 1.0,\n            'f': \"1.0\",\n        },\n\"Can't Tell\",\n{\n            'v': 1.0,\n            'f': \"1.0\",\n        },\n\"Virgin America\",\n{\n            'v': NaN,\n            'f': \"NaN\",\n        },\n\"jnardino\",\n{\n            'v': NaN,\n            'f': \"NaN\",\n        },\n{\n            'v': 0,\n            'f': \"0\",\n        },\n\"@VirginAmerica and it's a really big bad thing about it\",\n{\n            'v': NaN,\n            'f': \"NaN\",\n        },\n\"2015-02-24 11:14:45 -0800\",\nNaN,\n\"Pacific Time (US & Canada)\"]],\n        columns: [[\"number\", \"index\"], [\"number\", \"tweet_id\"], [\"string\", \"airline_sentiment\"], [\"number\", \"airline_sentiment_confidence\"], [\"string\", \"negativereason\"], [\"number\", \"negativereason_confidence\"], [\"string\", \"airline\"], [\"number\", \"airline_sentiment_gold\"], [\"string\", \"name\"], [\"number\", \"negativereason_gold\"], [\"number\", \"retweet_count\"], [\"string\", \"text\"], [\"number\", \"tweet_coord\"], [\"string\", \"tweet_created\"], [\"string\", \"tweet_location\"], [\"string\", \"user_timezone\"]],\n        columnOptions: [{\"width\": \"1px\", \"className\": \"index_column\"}],\n        rowsPerPage: 25,\n        helpUrl: \"https://colab.research.google.com/notebooks/data_table.ipynb\",\n        suppressOutputScrolling: true,\n        minimumWidth: undefined,\n      });\n    "
          },
          "metadata": {},
          "execution_count": 125
        }
      ],
      "source": [
        "# Read a comma-separated values (csv) file into Python Pandas DataFrame and assign it to a variable\n",
        "data=pd.read_csv('Tweets.csv')\n",
        "data.head()"
      ]
    },
    {
      "cell_type": "code",
      "source": [
        "print(\"There are {} observations and {} features in this dataset. \\n\".format(data.shape[0],data.shape[1]))\n",
        "\n",
        "print(\"There are {} types of sentiments in this dataset such as {}... \\n\".format(len(data['airline_sentiment'].unique()), \", \".join(data['airline_sentiment'].unique()[0:5])))\n",
        "\n",
        "print(\"There are {} airlines that air passengers mentioned in this dataset such as {}... \\n\".format(len(data['airline'].unique()), \", \".join(data['airline'].unique()[0:5])))"
      ],
      "metadata": {
        "colab": {
          "base_uri": "https://localhost:8080/"
        },
        "id": "BxPMrmOc5NjD",
        "outputId": "ed9f3865-b90c-4273-852e-2bddba675dda"
      },
      "execution_count": 126,
      "outputs": [
        {
          "output_type": "stream",
          "name": "stdout",
          "text": [
            "There are 14640 observations and 15 features in this dataset. \n",
            "\n",
            "There are 3 types of sentiments in this dataset such as neutral, positive, negative... \n",
            "\n",
            "There are 6 airlines that air passengers mentioned in this dataset such as Virgin America, United, Southwest, Delta, US Airways... \n",
            "\n"
          ]
        }
      ]
    },
    {
      "cell_type": "markdown",
      "metadata": {
        "id": "O7-sp6HVGt2Z"
      },
      "source": [
        "## Print the shape of the data"
      ]
    },
    {
      "cell_type": "code",
      "execution_count": 127,
      "metadata": {
        "colab": {
          "base_uri": "https://localhost:8080/"
        },
        "id": "tTekRmn1Ljw-",
        "outputId": "3a5cd87f-30cc-464d-f836-1f229edf713c"
      },
      "outputs": [
        {
          "output_type": "execute_result",
          "data": {
            "text/plain": [
              "(14640, 15)"
            ]
          },
          "metadata": {},
          "execution_count": 127
        }
      ],
      "source": [
        "data.shape"
      ]
    },
    {
      "cell_type": "markdown",
      "metadata": {
        "id": "e4dfRO0YN3ML"
      },
      "source": [
        "- Observation: DataFrame comprise of 14,640 examples and 15 features.\n"
      ]
    },
    {
      "cell_type": "markdown",
      "metadata": {
        "id": "MQbsQ1gOHam6"
      },
      "source": [
        "## Data description"
      ]
    },
    {
      "cell_type": "code",
      "execution_count": 128,
      "metadata": {
        "colab": {
          "base_uri": "https://localhost:8080/"
        },
        "id": "W0X30YbGDbYp",
        "outputId": "c40b3677-c2e9-4315-bb91-a150493cdf55"
      },
      "outputs": [
        {
          "output_type": "stream",
          "name": "stdout",
          "text": [
            "<class 'pandas.core.frame.DataFrame'>\n",
            "RangeIndex: 14640 entries, 0 to 14639\n",
            "Data columns (total 15 columns):\n",
            " #   Column                        Non-Null Count  Dtype  \n",
            "---  ------                        --------------  -----  \n",
            " 0   tweet_id                      14640 non-null  int64  \n",
            " 1   airline_sentiment             14640 non-null  object \n",
            " 2   airline_sentiment_confidence  14640 non-null  float64\n",
            " 3   negativereason                9178 non-null   object \n",
            " 4   negativereason_confidence     10522 non-null  float64\n",
            " 5   airline                       14640 non-null  object \n",
            " 6   airline_sentiment_gold        40 non-null     object \n",
            " 7   name                          14640 non-null  object \n",
            " 8   negativereason_gold           32 non-null     object \n",
            " 9   retweet_count                 14640 non-null  int64  \n",
            " 10  text                          14640 non-null  object \n",
            " 11  tweet_coord                   1019 non-null   object \n",
            " 12  tweet_created                 14640 non-null  object \n",
            " 13  tweet_location                9907 non-null   object \n",
            " 14  user_timezone                 9820 non-null   object \n",
            "dtypes: float64(2), int64(2), object(11)\n",
            "memory usage: 1.7+ MB\n"
          ]
        }
      ],
      "source": [
        "# Print a concise summary of the DataFrame 'tweet'\n",
        "data.info()"
      ]
    },
    {
      "cell_type": "code",
      "execution_count": 129,
      "metadata": {
        "colab": {
          "base_uri": "https://localhost:8080/"
        },
        "id": "1Li1AS3JuGKN",
        "outputId": "2b9ad0f9-52ad-4daa-e760-dc300455fca7"
      },
      "outputs": [
        {
          "output_type": "execute_result",
          "data": {
            "text/plain": [
              "tweet_id                          int64\n",
              "airline_sentiment                object\n",
              "airline_sentiment_confidence    float64\n",
              "negativereason                   object\n",
              "negativereason_confidence       float64\n",
              "airline                          object\n",
              "airline_sentiment_gold           object\n",
              "name                             object\n",
              "negativereason_gold              object\n",
              "retweet_count                     int64\n",
              "text                             object\n",
              "tweet_coord                      object\n",
              "tweet_created                    object\n",
              "tweet_location                   object\n",
              "user_timezone                    object\n",
              "dtype: object"
            ]
          },
          "metadata": {},
          "execution_count": 129
        }
      ],
      "source": [
        "data.dtypes"
      ]
    },
    {
      "cell_type": "code",
      "execution_count": 130,
      "metadata": {
        "colab": {
          "base_uri": "https://localhost:8080/"
        },
        "id": "WKyC516iuovU",
        "outputId": "573be2a3-b01c-44bd-e634-5ad3b626299f"
      },
      "outputs": [
        {
          "output_type": "execute_result",
          "data": {
            "text/plain": [
              "Index(['tweet_id', 'airline_sentiment', 'airline_sentiment_confidence',\n",
              "       'negativereason', 'negativereason_confidence', 'airline',\n",
              "       'airline_sentiment_gold', 'name', 'negativereason_gold',\n",
              "       'retweet_count', 'text', 'tweet_coord', 'tweet_created',\n",
              "       'tweet_location', 'user_timezone'],\n",
              "      dtype='object')"
            ]
          },
          "metadata": {},
          "execution_count": 130
        }
      ],
      "source": [
        "data.columns"
      ]
    },
    {
      "cell_type": "markdown",
      "metadata": {
        "id": "SVBd39KZwuAJ"
      },
      "source": [
        "### Checking if data is duplicated and removing duplicates"
      ]
    },
    {
      "cell_type": "code",
      "execution_count": 131,
      "metadata": {
        "colab": {
          "base_uri": "https://localhost:8080/"
        },
        "id": "iH-oZpFnw2UK",
        "outputId": "2a20d708-bea4-4e8e-ea4a-42e8fd94fe60"
      },
      "outputs": [
        {
          "output_type": "stream",
          "name": "stdout",
          "text": [
            "                 tweet_id airline_sentiment  airline_sentiment_confidence  \\\n",
            "12040  570308309682675712          negative                           1.0   \n",
            "12059  570305051819941889           neutral                           1.0   \n",
            "12063  570303383782989824           neutral                           1.0   \n",
            "12066  570301929580048385           neutral                           1.0   \n",
            "12068  570301395141836801          negative                           1.0   \n",
            "\n",
            "               negativereason  negativereason_confidence   airline  \\\n",
            "12040  Customer Service Issue                        1.0  American   \n",
            "12059                     NaN                        NaN  American   \n",
            "12063                     NaN                        NaN  American   \n",
            "12066                     NaN                        NaN  American   \n",
            "12068             Late Flight                        1.0  American   \n",
            "\n",
            "      airline_sentiment_gold            name negativereason_gold  \\\n",
            "12040                    NaN      SweeLoTmac                 NaN   \n",
            "12059                    NaN   Chandrafaythe                 NaN   \n",
            "12063                    NaN  trentgillaspie                 NaN   \n",
            "12066                    NaN       FinEdChat                 NaN   \n",
            "12068                    NaN      JoBarredaV                 NaN   \n",
            "\n",
            "       retweet_count                                               text  \\\n",
            "12040              0  @AmericanAir why would I even consider continu...   \n",
            "12059              0  @AmericanAir my flight got Cancelled Flightled...   \n",
            "12063              0  .@AmericanAir just disappointed with the Fligh...   \n",
            "12066              0                                 @AmericanAir I did   \n",
            "12068              1  @AmericanAir r u serious?? 304min #delay with ...   \n",
            "\n",
            "      tweet_coord              tweet_created            tweet_location  \\\n",
            "12040         NaN  2015-02-24 11:44:31 -0800                       NaN   \n",
            "12059         NaN  2015-02-24 11:31:34 -0800                       NaN   \n",
            "12063         NaN  2015-02-24 11:24:57 -0800  Austin, but often Denver   \n",
            "12066         NaN  2015-02-24 11:19:10 -0800          Cincinnati, Ohio   \n",
            "12068         NaN  2015-02-24 11:17:02 -0800               Mexico City   \n",
            "\n",
            "                     user_timezone  \n",
            "12040                        Quito  \n",
            "12059                        Quito  \n",
            "12063  Mountain Time (US & Canada)  \n",
            "12066       Atlantic Time (Canada)  \n",
            "12068   Central Time (US & Canada)  \n"
          ]
        }
      ],
      "source": [
        "# Check for duplicate rows\n",
        "duplicateRowsDF = data[data.duplicated()]\n",
        "print(duplicateRowsDF.head())"
      ]
    },
    {
      "cell_type": "code",
      "source": [
        "print(duplicateRowsDF.shape)  "
      ],
      "metadata": {
        "colab": {
          "base_uri": "https://localhost:8080/"
        },
        "id": "7MvktVUGR4wW",
        "outputId": "5805f2cd-0991-4fd3-bcd7-6390bc70dad6"
      },
      "execution_count": 132,
      "outputs": [
        {
          "output_type": "stream",
          "name": "stdout",
          "text": [
            "(36, 15)\n"
          ]
        }
      ]
    },
    {
      "cell_type": "markdown",
      "metadata": {
        "id": "K_0uVmUrw_Im"
      },
      "source": [
        "- There are 36 duplicate rows"
      ]
    },
    {
      "cell_type": "code",
      "execution_count": 133,
      "metadata": {
        "id": "rOGOmEUMxI20"
      },
      "outputs": [],
      "source": [
        "# Drop the duplicate rows\n",
        "data.drop_duplicates(keep=False,inplace=True) "
      ]
    },
    {
      "cell_type": "code",
      "execution_count": 134,
      "metadata": {
        "colab": {
          "base_uri": "https://localhost:8080/"
        },
        "id": "Xe9ZhLrlxSeg",
        "outputId": "6152ce41-db80-4a52-ba4c-80d90e14a243"
      },
      "outputs": [
        {
          "output_type": "stream",
          "name": "stdout",
          "text": [
            "(14568, 15)\n"
          ]
        }
      ],
      "source": [
        "print(data.shape)"
      ]
    },
    {
      "cell_type": "markdown",
      "metadata": {
        "id": "8A0DZoV3xZ3o"
      },
      "source": [
        "- There are 14568 rows and 15 columns after dropping 36 duplicate rows from the initial load dataset"
      ]
    },
    {
      "cell_type": "code",
      "execution_count": 135,
      "metadata": {
        "colab": {
          "base_uri": "https://localhost:8080/",
          "height": 261
        },
        "id": "yAcfzrPFxnPY",
        "outputId": "3ac735dc-3220-4a03-e493-ff488aee7973"
      },
      "outputs": [
        {
          "output_type": "execute_result",
          "data": {
            "text/plain": [
              "           tweet_id  airline_sentiment_confidence  negativereason_confidence  \\\n",
              "count  1.456800e+04                  14568.000000               10484.000000   \n",
              "mean   5.692131e+17                      0.899675                   0.636987   \n",
              "std    7.773880e+14                      0.163080                   0.330318   \n",
              "min    5.675883e+17                      0.335000                   0.000000   \n",
              "25%    5.685551e+17                      0.691975                   0.360300   \n",
              "50%    5.694655e+17                      1.000000                   0.670400   \n",
              "75%    5.698859e+17                      1.000000                   1.000000   \n",
              "max    5.703106e+17                      1.000000                   1.000000   \n",
              "\n",
              "       retweet_count  \n",
              "count   14568.000000  \n",
              "mean        0.082921  \n",
              "std         0.747520  \n",
              "min         0.000000  \n",
              "25%         0.000000  \n",
              "50%         0.000000  \n",
              "75%         0.000000  \n",
              "max        44.000000  "
            ],
            "text/html": [
              "\n",
              "  <div id=\"df-134ff2d5-9385-45b9-b410-86e584163e58\">\n",
              "    <div class=\"colab-df-container\">\n",
              "      <div>\n",
              "<style scoped>\n",
              "    .dataframe tbody tr th:only-of-type {\n",
              "        vertical-align: middle;\n",
              "    }\n",
              "\n",
              "    .dataframe tbody tr th {\n",
              "        vertical-align: top;\n",
              "    }\n",
              "\n",
              "    .dataframe thead th {\n",
              "        text-align: right;\n",
              "    }\n",
              "</style>\n",
              "<table border=\"1\" class=\"dataframe\">\n",
              "  <thead>\n",
              "    <tr style=\"text-align: right;\">\n",
              "      <th></th>\n",
              "      <th>tweet_id</th>\n",
              "      <th>airline_sentiment_confidence</th>\n",
              "      <th>negativereason_confidence</th>\n",
              "      <th>retweet_count</th>\n",
              "    </tr>\n",
              "  </thead>\n",
              "  <tbody>\n",
              "    <tr>\n",
              "      <th>count</th>\n",
              "      <td>1.456800e+04</td>\n",
              "      <td>14568.000000</td>\n",
              "      <td>10484.000000</td>\n",
              "      <td>14568.000000</td>\n",
              "    </tr>\n",
              "    <tr>\n",
              "      <th>mean</th>\n",
              "      <td>5.692131e+17</td>\n",
              "      <td>0.899675</td>\n",
              "      <td>0.636987</td>\n",
              "      <td>0.082921</td>\n",
              "    </tr>\n",
              "    <tr>\n",
              "      <th>std</th>\n",
              "      <td>7.773880e+14</td>\n",
              "      <td>0.163080</td>\n",
              "      <td>0.330318</td>\n",
              "      <td>0.747520</td>\n",
              "    </tr>\n",
              "    <tr>\n",
              "      <th>min</th>\n",
              "      <td>5.675883e+17</td>\n",
              "      <td>0.335000</td>\n",
              "      <td>0.000000</td>\n",
              "      <td>0.000000</td>\n",
              "    </tr>\n",
              "    <tr>\n",
              "      <th>25%</th>\n",
              "      <td>5.685551e+17</td>\n",
              "      <td>0.691975</td>\n",
              "      <td>0.360300</td>\n",
              "      <td>0.000000</td>\n",
              "    </tr>\n",
              "    <tr>\n",
              "      <th>50%</th>\n",
              "      <td>5.694655e+17</td>\n",
              "      <td>1.000000</td>\n",
              "      <td>0.670400</td>\n",
              "      <td>0.000000</td>\n",
              "    </tr>\n",
              "    <tr>\n",
              "      <th>75%</th>\n",
              "      <td>5.698859e+17</td>\n",
              "      <td>1.000000</td>\n",
              "      <td>1.000000</td>\n",
              "      <td>0.000000</td>\n",
              "    </tr>\n",
              "    <tr>\n",
              "      <th>max</th>\n",
              "      <td>5.703106e+17</td>\n",
              "      <td>1.000000</td>\n",
              "      <td>1.000000</td>\n",
              "      <td>44.000000</td>\n",
              "    </tr>\n",
              "  </tbody>\n",
              "</table>\n",
              "</div>\n",
              "      <button class=\"colab-df-convert\" onclick=\"convertToInteractive('df-134ff2d5-9385-45b9-b410-86e584163e58')\"\n",
              "              title=\"Convert this dataframe to an interactive table.\"\n",
              "              style=\"display:none;\">\n",
              "        \n",
              "  <svg xmlns=\"http://www.w3.org/2000/svg\" height=\"24px\"viewBox=\"0 0 24 24\"\n",
              "       width=\"24px\">\n",
              "    <path d=\"M0 0h24v24H0V0z\" fill=\"none\"/>\n",
              "    <path d=\"M18.56 5.44l.94 2.06.94-2.06 2.06-.94-2.06-.94-.94-2.06-.94 2.06-2.06.94zm-11 1L8.5 8.5l.94-2.06 2.06-.94-2.06-.94L8.5 2.5l-.94 2.06-2.06.94zm10 10l.94 2.06.94-2.06 2.06-.94-2.06-.94-.94-2.06-.94 2.06-2.06.94z\"/><path d=\"M17.41 7.96l-1.37-1.37c-.4-.4-.92-.59-1.43-.59-.52 0-1.04.2-1.43.59L10.3 9.45l-7.72 7.72c-.78.78-.78 2.05 0 2.83L4 21.41c.39.39.9.59 1.41.59.51 0 1.02-.2 1.41-.59l7.78-7.78 2.81-2.81c.8-.78.8-2.07 0-2.86zM5.41 20L4 18.59l7.72-7.72 1.47 1.35L5.41 20z\"/>\n",
              "  </svg>\n",
              "      </button>\n",
              "      \n",
              "  <style>\n",
              "    .colab-df-container {\n",
              "      display:flex;\n",
              "      flex-wrap:wrap;\n",
              "      gap: 12px;\n",
              "    }\n",
              "\n",
              "    .colab-df-convert {\n",
              "      background-color: #E8F0FE;\n",
              "      border: none;\n",
              "      border-radius: 50%;\n",
              "      cursor: pointer;\n",
              "      display: none;\n",
              "      fill: #1967D2;\n",
              "      height: 32px;\n",
              "      padding: 0 0 0 0;\n",
              "      width: 32px;\n",
              "    }\n",
              "\n",
              "    .colab-df-convert:hover {\n",
              "      background-color: #E2EBFA;\n",
              "      box-shadow: 0px 1px 2px rgba(60, 64, 67, 0.3), 0px 1px 3px 1px rgba(60, 64, 67, 0.15);\n",
              "      fill: #174EA6;\n",
              "    }\n",
              "\n",
              "    [theme=dark] .colab-df-convert {\n",
              "      background-color: #3B4455;\n",
              "      fill: #D2E3FC;\n",
              "    }\n",
              "\n",
              "    [theme=dark] .colab-df-convert:hover {\n",
              "      background-color: #434B5C;\n",
              "      box-shadow: 0px 1px 3px 1px rgba(0, 0, 0, 0.15);\n",
              "      filter: drop-shadow(0px 1px 2px rgba(0, 0, 0, 0.3));\n",
              "      fill: #FFFFFF;\n",
              "    }\n",
              "  </style>\n",
              "\n",
              "      <script>\n",
              "        const buttonEl =\n",
              "          document.querySelector('#df-134ff2d5-9385-45b9-b410-86e584163e58 button.colab-df-convert');\n",
              "        buttonEl.style.display =\n",
              "          google.colab.kernel.accessAllowed ? 'block' : 'none';\n",
              "\n",
              "        async function convertToInteractive(key) {\n",
              "          const element = document.querySelector('#df-134ff2d5-9385-45b9-b410-86e584163e58');\n",
              "          const dataTable =\n",
              "            await google.colab.kernel.invokeFunction('convertToInteractive',\n",
              "                                                     [key], {});\n",
              "          if (!dataTable) return;\n",
              "\n",
              "          const docLinkHtml = 'Like what you see? Visit the ' +\n",
              "            '<a target=\"_blank\" href=https://colab.research.google.com/notebooks/data_table.ipynb>data table notebook</a>'\n",
              "            + ' to learn more about interactive tables.';\n",
              "          element.innerHTML = '';\n",
              "          dataTable['output_type'] = 'display_data';\n",
              "          await google.colab.output.renderOutput(dataTable, element);\n",
              "          const docLink = document.createElement('div');\n",
              "          docLink.innerHTML = docLinkHtml;\n",
              "          element.appendChild(docLink);\n",
              "        }\n",
              "      </script>\n",
              "    </div>\n",
              "  </div>\n",
              "  "
            ],
            "application/vnd.google.colaboratory.module+javascript": "\n      import \"https://ssl.gstatic.com/colaboratory/data_table/f872b2c2305463fd/data_table.js\";\n\n      window.createDataTable({\n        data: [[\"count\",\n{\n            'v': 14568.0,\n            'f': \"14568.0\",\n        },\n{\n            'v': 14568.0,\n            'f': \"14568.0\",\n        },\n{\n            'v': 10484.0,\n            'f': \"10484.0\",\n        },\n{\n            'v': 14568.0,\n            'f': \"14568.0\",\n        }],\n [\"mean\",\n{\n            'v': 5.692130657770557e+17,\n            'f': \"5.692130657770557e+17\",\n        },\n{\n            'v': 0.8996754530477749,\n            'f': \"0.8996754530477749\",\n        },\n{\n            'v': 0.636987266310564,\n            'f': \"0.636987266310564\",\n        },\n{\n            'v': 0.0829214717188358,\n            'f': \"0.0829214717188358\",\n        }],\n [\"std\",\n{\n            'v': 777387963565738.5,\n            'f': \"777387963565738.5\",\n        },\n{\n            'v': 0.16308016523349814,\n            'f': \"0.16308016523349814\",\n        },\n{\n            'v': 0.3303184538804372,\n            'f': \"0.3303184538804372\",\n        },\n{\n            'v': 0.7475196790046592,\n            'f': \"0.7475196790046592\",\n        }],\n [\"min\",\n{\n            'v': 5.675882788752138e+17,\n            'f': \"5.675882788752138e+17\",\n        },\n{\n            'v': 0.335,\n            'f': \"0.335\",\n        },\n{\n            'v': 0.0,\n            'f': \"0.0\",\n        },\n{\n            'v': 0.0,\n            'f': \"0.0\",\n        }],\n [\"25%\",\n{\n            'v': 5.6855510352062464e+17,\n            'f': \"5.6855510352062464e+17\",\n        },\n{\n            'v': 0.691975,\n            'f': \"0.691975\",\n        },\n{\n            'v': 0.3603,\n            'f': \"0.3603\",\n        },\n{\n            'v': 0.0,\n            'f': \"0.0\",\n        }],\n [\"50%\",\n{\n            'v': 5.6946546089845555e+17,\n            'f': \"5.6946546089845555e+17\",\n        },\n{\n            'v': 1.0,\n            'f': \"1.0\",\n        },\n{\n            'v': 0.6704,\n            'f': \"0.6704\",\n        },\n{\n            'v': 0.0,\n            'f': \"0.0\",\n        }],\n [\"75%\",\n{\n            'v': 5.698859497301535e+17,\n            'f': \"5.698859497301535e+17\",\n        },\n{\n            'v': 1.0,\n            'f': \"1.0\",\n        },\n{\n            'v': 1.0,\n            'f': \"1.0\",\n        },\n{\n            'v': 0.0,\n            'f': \"0.0\",\n        }],\n [\"max\",\n{\n            'v': 5.703106004605256e+17,\n            'f': \"5.703106004605256e+17\",\n        },\n{\n            'v': 1.0,\n            'f': \"1.0\",\n        },\n{\n            'v': 1.0,\n            'f': \"1.0\",\n        },\n{\n            'v': 44.0,\n            'f': \"44.0\",\n        }]],\n        columns: [[\"string\", \"index\"], [\"number\", \"tweet_id\"], [\"number\", \"airline_sentiment_confidence\"], [\"number\", \"negativereason_confidence\"], [\"number\", \"retweet_count\"]],\n        columnOptions: [{\"width\": \"1px\", \"className\": \"index_column\"}],\n        rowsPerPage: 25,\n        helpUrl: \"https://colab.research.google.com/notebooks/data_table.ipynb\",\n        suppressOutputScrolling: true,\n        minimumWidth: undefined,\n      });\n    "
          },
          "metadata": {},
          "execution_count": 135
        }
      ],
      "source": [
        "data.describe()"
      ]
    },
    {
      "cell_type": "code",
      "source": [
        "# Groupby by airline\n",
        "airlines = data.groupby(\"airline\")\n",
        "\n",
        "# Summary statistic of all airlines\n",
        "airlines.describe().head()"
      ],
      "metadata": {
        "colab": {
          "base_uri": "https://localhost:8080/",
          "height": 379
        },
        "id": "7X_Jvxlr7jnB",
        "outputId": "488d1981-48ed-43a5-ee70-26086351540f"
      },
      "execution_count": 136,
      "outputs": [
        {
          "output_type": "execute_result",
          "data": {
            "text/plain": [
              "           tweet_id                                                          \\\n",
              "              count          mean           std           min           25%   \n",
              "airline                                                                       \n",
              "American     2687.0  5.699020e+17  2.309522e+14  5.682651e+17  5.696831e+17   \n",
              "Delta        2222.0  5.690478e+17  7.760069e+14  5.675883e+17  5.684140e+17   \n",
              "Southwest    2420.0  5.689358e+17  7.965088e+14  5.675944e+17  5.681877e+17   \n",
              "US Airways   2913.0  5.691208e+17  7.676358e+14  5.676433e+17  5.684797e+17   \n",
              "United       3822.0  5.690949e+17  7.515777e+14  5.675915e+17  5.684908e+17   \n",
              "\n",
              "                                                      \\\n",
              "                     50%           75%           max   \n",
              "airline                                                \n",
              "American    5.698924e+17  5.700806e+17  5.703081e+17   \n",
              "Delta       5.691760e+17  5.696792e+17  5.703093e+17   \n",
              "Southwest   5.689135e+17  5.696390e+17  5.703092e+17   \n",
              "US Airways  5.693176e+17  5.697157e+17  5.703106e+17   \n",
              "United      5.692193e+17  5.697103e+17  5.703079e+17   \n",
              "\n",
              "           airline_sentiment_confidence            ...  \\\n",
              "                                  count      mean  ...   \n",
              "airline                                            ...   \n",
              "American                         2687.0  0.915137  ...   \n",
              "Delta                            2222.0  0.869878  ...   \n",
              "Southwest                        2420.0  0.886516  ...   \n",
              "US Airways                       2913.0  0.921578  ...   \n",
              "United                           3822.0  0.900878  ...   \n",
              "\n",
              "           negativereason_confidence      retweet_count                      \\\n",
              "                                 75%  max         count      mean       std   \n",
              "airline                                                                       \n",
              "American                         1.0  1.0        2687.0  0.042799  0.307561   \n",
              "Delta                            1.0  1.0        2222.0  0.113411  1.074325   \n",
              "Southwest                        1.0  1.0        2420.0  0.059917  0.549460   \n",
              "US Airways                       1.0  1.0        2913.0  0.085479  1.172269   \n",
              "United                           1.0  1.0        3822.0  0.110152  0.368416   \n",
              "\n",
              "                                      \n",
              "            min  25%  50%  75%   max  \n",
              "airline                               \n",
              "American    0.0  0.0  0.0  0.0   5.0  \n",
              "Delta       0.0  0.0  0.0  0.0  31.0  \n",
              "Southwest   0.0  0.0  0.0  0.0  22.0  \n",
              "US Airways  0.0  0.0  0.0  0.0  44.0  \n",
              "United      0.0  0.0  0.0  0.0   7.0  \n",
              "\n",
              "[5 rows x 32 columns]"
            ],
            "text/html": [
              "\n",
              "  <div id=\"df-93279a97-1bdd-4370-ad2a-12204effde7c\">\n",
              "    <div class=\"colab-df-container\">\n",
              "      <div>\n",
              "<style scoped>\n",
              "    .dataframe tbody tr th:only-of-type {\n",
              "        vertical-align: middle;\n",
              "    }\n",
              "\n",
              "    .dataframe tbody tr th {\n",
              "        vertical-align: top;\n",
              "    }\n",
              "\n",
              "    .dataframe thead tr th {\n",
              "        text-align: left;\n",
              "    }\n",
              "\n",
              "    .dataframe thead tr:last-of-type th {\n",
              "        text-align: right;\n",
              "    }\n",
              "</style>\n",
              "<table border=\"1\" class=\"dataframe\">\n",
              "  <thead>\n",
              "    <tr>\n",
              "      <th></th>\n",
              "      <th colspan=\"8\" halign=\"left\">tweet_id</th>\n",
              "      <th colspan=\"2\" halign=\"left\">airline_sentiment_confidence</th>\n",
              "      <th>...</th>\n",
              "      <th colspan=\"2\" halign=\"left\">negativereason_confidence</th>\n",
              "      <th colspan=\"8\" halign=\"left\">retweet_count</th>\n",
              "    </tr>\n",
              "    <tr>\n",
              "      <th></th>\n",
              "      <th>count</th>\n",
              "      <th>mean</th>\n",
              "      <th>std</th>\n",
              "      <th>min</th>\n",
              "      <th>25%</th>\n",
              "      <th>50%</th>\n",
              "      <th>75%</th>\n",
              "      <th>max</th>\n",
              "      <th>count</th>\n",
              "      <th>mean</th>\n",
              "      <th>...</th>\n",
              "      <th>75%</th>\n",
              "      <th>max</th>\n",
              "      <th>count</th>\n",
              "      <th>mean</th>\n",
              "      <th>std</th>\n",
              "      <th>min</th>\n",
              "      <th>25%</th>\n",
              "      <th>50%</th>\n",
              "      <th>75%</th>\n",
              "      <th>max</th>\n",
              "    </tr>\n",
              "    <tr>\n",
              "      <th>airline</th>\n",
              "      <th></th>\n",
              "      <th></th>\n",
              "      <th></th>\n",
              "      <th></th>\n",
              "      <th></th>\n",
              "      <th></th>\n",
              "      <th></th>\n",
              "      <th></th>\n",
              "      <th></th>\n",
              "      <th></th>\n",
              "      <th></th>\n",
              "      <th></th>\n",
              "      <th></th>\n",
              "      <th></th>\n",
              "      <th></th>\n",
              "      <th></th>\n",
              "      <th></th>\n",
              "      <th></th>\n",
              "      <th></th>\n",
              "      <th></th>\n",
              "      <th></th>\n",
              "    </tr>\n",
              "  </thead>\n",
              "  <tbody>\n",
              "    <tr>\n",
              "      <th>American</th>\n",
              "      <td>2687.0</td>\n",
              "      <td>5.699020e+17</td>\n",
              "      <td>2.309522e+14</td>\n",
              "      <td>5.682651e+17</td>\n",
              "      <td>5.696831e+17</td>\n",
              "      <td>5.698924e+17</td>\n",
              "      <td>5.700806e+17</td>\n",
              "      <td>5.703081e+17</td>\n",
              "      <td>2687.0</td>\n",
              "      <td>0.915137</td>\n",
              "      <td>...</td>\n",
              "      <td>1.0</td>\n",
              "      <td>1.0</td>\n",
              "      <td>2687.0</td>\n",
              "      <td>0.042799</td>\n",
              "      <td>0.307561</td>\n",
              "      <td>0.0</td>\n",
              "      <td>0.0</td>\n",
              "      <td>0.0</td>\n",
              "      <td>0.0</td>\n",
              "      <td>5.0</td>\n",
              "    </tr>\n",
              "    <tr>\n",
              "      <th>Delta</th>\n",
              "      <td>2222.0</td>\n",
              "      <td>5.690478e+17</td>\n",
              "      <td>7.760069e+14</td>\n",
              "      <td>5.675883e+17</td>\n",
              "      <td>5.684140e+17</td>\n",
              "      <td>5.691760e+17</td>\n",
              "      <td>5.696792e+17</td>\n",
              "      <td>5.703093e+17</td>\n",
              "      <td>2222.0</td>\n",
              "      <td>0.869878</td>\n",
              "      <td>...</td>\n",
              "      <td>1.0</td>\n",
              "      <td>1.0</td>\n",
              "      <td>2222.0</td>\n",
              "      <td>0.113411</td>\n",
              "      <td>1.074325</td>\n",
              "      <td>0.0</td>\n",
              "      <td>0.0</td>\n",
              "      <td>0.0</td>\n",
              "      <td>0.0</td>\n",
              "      <td>31.0</td>\n",
              "    </tr>\n",
              "    <tr>\n",
              "      <th>Southwest</th>\n",
              "      <td>2420.0</td>\n",
              "      <td>5.689358e+17</td>\n",
              "      <td>7.965088e+14</td>\n",
              "      <td>5.675944e+17</td>\n",
              "      <td>5.681877e+17</td>\n",
              "      <td>5.689135e+17</td>\n",
              "      <td>5.696390e+17</td>\n",
              "      <td>5.703092e+17</td>\n",
              "      <td>2420.0</td>\n",
              "      <td>0.886516</td>\n",
              "      <td>...</td>\n",
              "      <td>1.0</td>\n",
              "      <td>1.0</td>\n",
              "      <td>2420.0</td>\n",
              "      <td>0.059917</td>\n",
              "      <td>0.549460</td>\n",
              "      <td>0.0</td>\n",
              "      <td>0.0</td>\n",
              "      <td>0.0</td>\n",
              "      <td>0.0</td>\n",
              "      <td>22.0</td>\n",
              "    </tr>\n",
              "    <tr>\n",
              "      <th>US Airways</th>\n",
              "      <td>2913.0</td>\n",
              "      <td>5.691208e+17</td>\n",
              "      <td>7.676358e+14</td>\n",
              "      <td>5.676433e+17</td>\n",
              "      <td>5.684797e+17</td>\n",
              "      <td>5.693176e+17</td>\n",
              "      <td>5.697157e+17</td>\n",
              "      <td>5.703106e+17</td>\n",
              "      <td>2913.0</td>\n",
              "      <td>0.921578</td>\n",
              "      <td>...</td>\n",
              "      <td>1.0</td>\n",
              "      <td>1.0</td>\n",
              "      <td>2913.0</td>\n",
              "      <td>0.085479</td>\n",
              "      <td>1.172269</td>\n",
              "      <td>0.0</td>\n",
              "      <td>0.0</td>\n",
              "      <td>0.0</td>\n",
              "      <td>0.0</td>\n",
              "      <td>44.0</td>\n",
              "    </tr>\n",
              "    <tr>\n",
              "      <th>United</th>\n",
              "      <td>3822.0</td>\n",
              "      <td>5.690949e+17</td>\n",
              "      <td>7.515777e+14</td>\n",
              "      <td>5.675915e+17</td>\n",
              "      <td>5.684908e+17</td>\n",
              "      <td>5.692193e+17</td>\n",
              "      <td>5.697103e+17</td>\n",
              "      <td>5.703079e+17</td>\n",
              "      <td>3822.0</td>\n",
              "      <td>0.900878</td>\n",
              "      <td>...</td>\n",
              "      <td>1.0</td>\n",
              "      <td>1.0</td>\n",
              "      <td>3822.0</td>\n",
              "      <td>0.110152</td>\n",
              "      <td>0.368416</td>\n",
              "      <td>0.0</td>\n",
              "      <td>0.0</td>\n",
              "      <td>0.0</td>\n",
              "      <td>0.0</td>\n",
              "      <td>7.0</td>\n",
              "    </tr>\n",
              "  </tbody>\n",
              "</table>\n",
              "<p>5 rows × 32 columns</p>\n",
              "</div>\n",
              "      <button class=\"colab-df-convert\" onclick=\"convertToInteractive('df-93279a97-1bdd-4370-ad2a-12204effde7c')\"\n",
              "              title=\"Convert this dataframe to an interactive table.\"\n",
              "              style=\"display:none;\">\n",
              "        \n",
              "  <svg xmlns=\"http://www.w3.org/2000/svg\" height=\"24px\"viewBox=\"0 0 24 24\"\n",
              "       width=\"24px\">\n",
              "    <path d=\"M0 0h24v24H0V0z\" fill=\"none\"/>\n",
              "    <path d=\"M18.56 5.44l.94 2.06.94-2.06 2.06-.94-2.06-.94-.94-2.06-.94 2.06-2.06.94zm-11 1L8.5 8.5l.94-2.06 2.06-.94-2.06-.94L8.5 2.5l-.94 2.06-2.06.94zm10 10l.94 2.06.94-2.06 2.06-.94-2.06-.94-.94-2.06-.94 2.06-2.06.94z\"/><path d=\"M17.41 7.96l-1.37-1.37c-.4-.4-.92-.59-1.43-.59-.52 0-1.04.2-1.43.59L10.3 9.45l-7.72 7.72c-.78.78-.78 2.05 0 2.83L4 21.41c.39.39.9.59 1.41.59.51 0 1.02-.2 1.41-.59l7.78-7.78 2.81-2.81c.8-.78.8-2.07 0-2.86zM5.41 20L4 18.59l7.72-7.72 1.47 1.35L5.41 20z\"/>\n",
              "  </svg>\n",
              "      </button>\n",
              "      \n",
              "  <style>\n",
              "    .colab-df-container {\n",
              "      display:flex;\n",
              "      flex-wrap:wrap;\n",
              "      gap: 12px;\n",
              "    }\n",
              "\n",
              "    .colab-df-convert {\n",
              "      background-color: #E8F0FE;\n",
              "      border: none;\n",
              "      border-radius: 50%;\n",
              "      cursor: pointer;\n",
              "      display: none;\n",
              "      fill: #1967D2;\n",
              "      height: 32px;\n",
              "      padding: 0 0 0 0;\n",
              "      width: 32px;\n",
              "    }\n",
              "\n",
              "    .colab-df-convert:hover {\n",
              "      background-color: #E2EBFA;\n",
              "      box-shadow: 0px 1px 2px rgba(60, 64, 67, 0.3), 0px 1px 3px 1px rgba(60, 64, 67, 0.15);\n",
              "      fill: #174EA6;\n",
              "    }\n",
              "\n",
              "    [theme=dark] .colab-df-convert {\n",
              "      background-color: #3B4455;\n",
              "      fill: #D2E3FC;\n",
              "    }\n",
              "\n",
              "    [theme=dark] .colab-df-convert:hover {\n",
              "      background-color: #434B5C;\n",
              "      box-shadow: 0px 1px 3px 1px rgba(0, 0, 0, 0.15);\n",
              "      filter: drop-shadow(0px 1px 2px rgba(0, 0, 0, 0.3));\n",
              "      fill: #FFFFFF;\n",
              "    }\n",
              "  </style>\n",
              "\n",
              "      <script>\n",
              "        const buttonEl =\n",
              "          document.querySelector('#df-93279a97-1bdd-4370-ad2a-12204effde7c button.colab-df-convert');\n",
              "        buttonEl.style.display =\n",
              "          google.colab.kernel.accessAllowed ? 'block' : 'none';\n",
              "\n",
              "        async function convertToInteractive(key) {\n",
              "          const element = document.querySelector('#df-93279a97-1bdd-4370-ad2a-12204effde7c');\n",
              "          const dataTable =\n",
              "            await google.colab.kernel.invokeFunction('convertToInteractive',\n",
              "                                                     [key], {});\n",
              "          if (!dataTable) return;\n",
              "\n",
              "          const docLinkHtml = 'Like what you see? Visit the ' +\n",
              "            '<a target=\"_blank\" href=https://colab.research.google.com/notebooks/data_table.ipynb>data table notebook</a>'\n",
              "            + ' to learn more about interactive tables.';\n",
              "          element.innerHTML = '';\n",
              "          dataTable['output_type'] = 'display_data';\n",
              "          await google.colab.output.renderOutput(dataTable, element);\n",
              "          const docLink = document.createElement('div');\n",
              "          docLink.innerHTML = docLinkHtml;\n",
              "          element.appendChild(docLink);\n",
              "        }\n",
              "      </script>\n",
              "    </div>\n",
              "  </div>\n",
              "  "
            ]
          },
          "metadata": {},
          "execution_count": 136
        }
      ]
    },
    {
      "cell_type": "code",
      "source": [
        "# top five airlines among the six airlines\n",
        "airlines.mean().sort_values(by=\"tweet_id\",ascending=False).head()"
      ],
      "metadata": {
        "colab": {
          "base_uri": "https://localhost:8080/",
          "height": 196
        },
        "id": "Y8XykZ9v8Bwm",
        "outputId": "44fc58eb-5da0-4985-8af9-1bcffeef5041"
      },
      "execution_count": 137,
      "outputs": [
        {
          "output_type": "execute_result",
          "data": {
            "text/plain": [
              "                    tweet_id  airline_sentiment_confidence  \\\n",
              "airline                                                      \n",
              "American        5.699020e+17                      0.915137   \n",
              "US Airways      5.691208e+17                      0.921578   \n",
              "United          5.690949e+17                      0.900878   \n",
              "Delta           5.690478e+17                      0.869878   \n",
              "Virgin America  5.690295e+17                      0.876086   \n",
              "\n",
              "                negativereason_confidence  retweet_count  \n",
              "airline                                                   \n",
              "American                         0.660549       0.042799  \n",
              "US Airways                       0.687172       0.085479  \n",
              "United                           0.627285       0.110152  \n",
              "Delta                            0.573097       0.113411  \n",
              "Virgin America                   0.556985       0.051587  "
            ],
            "text/html": [
              "\n",
              "  <div id=\"df-7972c995-b168-466b-a857-824befcddc9f\">\n",
              "    <div class=\"colab-df-container\">\n",
              "      <div>\n",
              "<style scoped>\n",
              "    .dataframe tbody tr th:only-of-type {\n",
              "        vertical-align: middle;\n",
              "    }\n",
              "\n",
              "    .dataframe tbody tr th {\n",
              "        vertical-align: top;\n",
              "    }\n",
              "\n",
              "    .dataframe thead th {\n",
              "        text-align: right;\n",
              "    }\n",
              "</style>\n",
              "<table border=\"1\" class=\"dataframe\">\n",
              "  <thead>\n",
              "    <tr style=\"text-align: right;\">\n",
              "      <th></th>\n",
              "      <th>tweet_id</th>\n",
              "      <th>airline_sentiment_confidence</th>\n",
              "      <th>negativereason_confidence</th>\n",
              "      <th>retweet_count</th>\n",
              "    </tr>\n",
              "    <tr>\n",
              "      <th>airline</th>\n",
              "      <th></th>\n",
              "      <th></th>\n",
              "      <th></th>\n",
              "      <th></th>\n",
              "    </tr>\n",
              "  </thead>\n",
              "  <tbody>\n",
              "    <tr>\n",
              "      <th>American</th>\n",
              "      <td>5.699020e+17</td>\n",
              "      <td>0.915137</td>\n",
              "      <td>0.660549</td>\n",
              "      <td>0.042799</td>\n",
              "    </tr>\n",
              "    <tr>\n",
              "      <th>US Airways</th>\n",
              "      <td>5.691208e+17</td>\n",
              "      <td>0.921578</td>\n",
              "      <td>0.687172</td>\n",
              "      <td>0.085479</td>\n",
              "    </tr>\n",
              "    <tr>\n",
              "      <th>United</th>\n",
              "      <td>5.690949e+17</td>\n",
              "      <td>0.900878</td>\n",
              "      <td>0.627285</td>\n",
              "      <td>0.110152</td>\n",
              "    </tr>\n",
              "    <tr>\n",
              "      <th>Delta</th>\n",
              "      <td>5.690478e+17</td>\n",
              "      <td>0.869878</td>\n",
              "      <td>0.573097</td>\n",
              "      <td>0.113411</td>\n",
              "    </tr>\n",
              "    <tr>\n",
              "      <th>Virgin America</th>\n",
              "      <td>5.690295e+17</td>\n",
              "      <td>0.876086</td>\n",
              "      <td>0.556985</td>\n",
              "      <td>0.051587</td>\n",
              "    </tr>\n",
              "  </tbody>\n",
              "</table>\n",
              "</div>\n",
              "      <button class=\"colab-df-convert\" onclick=\"convertToInteractive('df-7972c995-b168-466b-a857-824befcddc9f')\"\n",
              "              title=\"Convert this dataframe to an interactive table.\"\n",
              "              style=\"display:none;\">\n",
              "        \n",
              "  <svg xmlns=\"http://www.w3.org/2000/svg\" height=\"24px\"viewBox=\"0 0 24 24\"\n",
              "       width=\"24px\">\n",
              "    <path d=\"M0 0h24v24H0V0z\" fill=\"none\"/>\n",
              "    <path d=\"M18.56 5.44l.94 2.06.94-2.06 2.06-.94-2.06-.94-.94-2.06-.94 2.06-2.06.94zm-11 1L8.5 8.5l.94-2.06 2.06-.94-2.06-.94L8.5 2.5l-.94 2.06-2.06.94zm10 10l.94 2.06.94-2.06 2.06-.94-2.06-.94-.94-2.06-.94 2.06-2.06.94z\"/><path d=\"M17.41 7.96l-1.37-1.37c-.4-.4-.92-.59-1.43-.59-.52 0-1.04.2-1.43.59L10.3 9.45l-7.72 7.72c-.78.78-.78 2.05 0 2.83L4 21.41c.39.39.9.59 1.41.59.51 0 1.02-.2 1.41-.59l7.78-7.78 2.81-2.81c.8-.78.8-2.07 0-2.86zM5.41 20L4 18.59l7.72-7.72 1.47 1.35L5.41 20z\"/>\n",
              "  </svg>\n",
              "      </button>\n",
              "      \n",
              "  <style>\n",
              "    .colab-df-container {\n",
              "      display:flex;\n",
              "      flex-wrap:wrap;\n",
              "      gap: 12px;\n",
              "    }\n",
              "\n",
              "    .colab-df-convert {\n",
              "      background-color: #E8F0FE;\n",
              "      border: none;\n",
              "      border-radius: 50%;\n",
              "      cursor: pointer;\n",
              "      display: none;\n",
              "      fill: #1967D2;\n",
              "      height: 32px;\n",
              "      padding: 0 0 0 0;\n",
              "      width: 32px;\n",
              "    }\n",
              "\n",
              "    .colab-df-convert:hover {\n",
              "      background-color: #E2EBFA;\n",
              "      box-shadow: 0px 1px 2px rgba(60, 64, 67, 0.3), 0px 1px 3px 1px rgba(60, 64, 67, 0.15);\n",
              "      fill: #174EA6;\n",
              "    }\n",
              "\n",
              "    [theme=dark] .colab-df-convert {\n",
              "      background-color: #3B4455;\n",
              "      fill: #D2E3FC;\n",
              "    }\n",
              "\n",
              "    [theme=dark] .colab-df-convert:hover {\n",
              "      background-color: #434B5C;\n",
              "      box-shadow: 0px 1px 3px 1px rgba(0, 0, 0, 0.15);\n",
              "      filter: drop-shadow(0px 1px 2px rgba(0, 0, 0, 0.3));\n",
              "      fill: #FFFFFF;\n",
              "    }\n",
              "  </style>\n",
              "\n",
              "      <script>\n",
              "        const buttonEl =\n",
              "          document.querySelector('#df-7972c995-b168-466b-a857-824befcddc9f button.colab-df-convert');\n",
              "        buttonEl.style.display =\n",
              "          google.colab.kernel.accessAllowed ? 'block' : 'none';\n",
              "\n",
              "        async function convertToInteractive(key) {\n",
              "          const element = document.querySelector('#df-7972c995-b168-466b-a857-824befcddc9f');\n",
              "          const dataTable =\n",
              "            await google.colab.kernel.invokeFunction('convertToInteractive',\n",
              "                                                     [key], {});\n",
              "          if (!dataTable) return;\n",
              "\n",
              "          const docLinkHtml = 'Like what you see? Visit the ' +\n",
              "            '<a target=\"_blank\" href=https://colab.research.google.com/notebooks/data_table.ipynb>data table notebook</a>'\n",
              "            + ' to learn more about interactive tables.';\n",
              "          element.innerHTML = '';\n",
              "          dataTable['output_type'] = 'display_data';\n",
              "          await google.colab.output.renderOutput(dataTable, element);\n",
              "          const docLink = document.createElement('div');\n",
              "          docLink.innerHTML = docLinkHtml;\n",
              "          element.appendChild(docLink);\n",
              "        }\n",
              "      </script>\n",
              "    </div>\n",
              "  </div>\n",
              "  "
            ],
            "application/vnd.google.colaboratory.module+javascript": "\n      import \"https://ssl.gstatic.com/colaboratory/data_table/f872b2c2305463fd/data_table.js\";\n\n      window.createDataTable({\n        data: [[\"American\",\n{\n            'v': 5.69902042526424e+17,\n            'f': \"5.69902042526424e+17\",\n        },\n{\n            'v': 0.9151373278749535,\n            'f': \"0.9151373278749535\",\n        },\n{\n            'v': 0.6605489312267657,\n            'f': \"0.6605489312267657\",\n        },\n{\n            'v': 0.042798660215854115,\n            'f': \"0.042798660215854115\",\n        }],\n [\"US Airways\",\n{\n            'v': 5.691207576822663e+17,\n            'f': \"5.691207576822663e+17\",\n        },\n{\n            'v': 0.9215784414692757,\n            'f': \"0.9215784414692757\",\n        },\n{\n            'v': 0.6871717004048583,\n            'f': \"0.6871717004048583\",\n        },\n{\n            'v': 0.0854788877445932,\n            'f': \"0.0854788877445932\",\n        }],\n [\"United\",\n{\n            'v': 5.6909493049638214e+17,\n            'f': \"5.6909493049638214e+17\",\n        },\n{\n            'v': 0.9008776818419676,\n            'f': \"0.9008776818419676\",\n        },\n{\n            'v': 0.6272853666666667,\n            'f': \"0.6272853666666667\",\n        },\n{\n            'v': 0.11015175300889586,\n            'f': \"0.11015175300889586\",\n        }],\n [\"Delta\",\n{\n            'v': 5.69047772593353e+17,\n            'f': \"5.69047772593353e+17\",\n        },\n{\n            'v': 0.8698782628262827,\n            'f': \"0.8698782628262827\",\n        },\n{\n            'v': 0.5730965371621621,\n            'f': \"0.5730965371621621\",\n        },\n{\n            'v': 0.11341134113411341,\n            'f': \"0.11341134113411341\",\n        }],\n [\"Virgin America\",\n{\n            'v': 5.6902945262218496e+17,\n            'f': \"5.6902945262218496e+17\",\n        },\n{\n            'v': 0.8760861111111111,\n            'f': \"0.8760861111111111\",\n        },\n{\n            'v': 0.5569854077253219,\n            'f': \"0.5569854077253219\",\n        },\n{\n            'v': 0.051587301587301584,\n            'f': \"0.051587301587301584\",\n        }]],\n        columns: [[\"string\", \"airline\"], [\"number\", \"tweet_id\"], [\"number\", \"airline_sentiment_confidence\"], [\"number\", \"negativereason_confidence\"], [\"number\", \"retweet_count\"]],\n        columnOptions: [{\"width\": \"1px\", \"className\": \"index_column\"}],\n        rowsPerPage: 25,\n        helpUrl: \"https://colab.research.google.com/notebooks/data_table.ipynb\",\n        suppressOutputScrolling: true,\n        minimumWidth: undefined,\n      });\n    "
          },
          "metadata": {},
          "execution_count": 137
        }
      ]
    },
    {
      "cell_type": "markdown",
      "metadata": {
        "id": "NaIhkdArTNmk"
      },
      "source": [
        "## **2. Exploratory data analysis**\n",
        "Do Exploratory data analysis(EDA) based on the below statement. \n",
        "- a. Plot the distribution of all tweets among each airline & plot the distribution of sentiment across all the tweets. \n",
        "- b. Plot the distribution of Sentiment of tweets for each airline & plot the distribution of all the negative reasons. \n",
        "- c. Plot the word cloud graph of tweets for positive and negative sentiment separately. Mention the observations & insights after plotting each graph."
      ]
    },
    {
      "cell_type": "markdown",
      "metadata": {
        "id": "WJnzKuiNjf-j"
      },
      "source": [
        "### Plot the distribution of all tweets among each airline & plot the distribution of sentiment across all the tweets."
      ]
    },
    {
      "cell_type": "code",
      "execution_count": 138,
      "metadata": {
        "colab": {
          "base_uri": "https://localhost:8080/"
        },
        "id": "0zWgis4ZgB0a",
        "outputId": "01839219-7aab-4507-a35e-9b03608e01fa"
      },
      "outputs": [
        {
          "output_type": "execute_result",
          "data": {
            "text/plain": [
              "6"
            ]
          },
          "metadata": {},
          "execution_count": 138
        }
      ],
      "source": [
        "# number of airline classes\n",
        "data['airline'].nunique()"
      ]
    },
    {
      "cell_type": "code",
      "execution_count": 139,
      "metadata": {
        "colab": {
          "base_uri": "https://localhost:8080/"
        },
        "id": "2kDrdUZxo_lF",
        "outputId": "1140fb7a-5e1c-485e-d990-70caf930f561"
      },
      "outputs": [
        {
          "output_type": "execute_result",
          "data": {
            "text/plain": [
              "array(['Virgin America', 'United', 'Southwest', 'Delta', 'US Airways',\n",
              "       'American'], dtype=object)"
            ]
          },
          "metadata": {},
          "execution_count": 139
        }
      ],
      "source": [
        "# airline classes using Pandas unique method\n",
        "data['airline'].unique()"
      ]
    },
    {
      "cell_type": "code",
      "execution_count": 140,
      "metadata": {
        "colab": {
          "base_uri": "https://localhost:8080/"
        },
        "id": "LxXY1Ex-gCFb",
        "outputId": "871eac99-0fd6-4dc6-d1c7-7c784027122d"
      },
      "outputs": [
        {
          "output_type": "execute_result",
          "data": {
            "text/plain": [
              "Virgin America     504\n",
              "United            3822\n",
              "Southwest         2420\n",
              "Delta             2222\n",
              "US Airways        2913\n",
              "American          2687\n",
              "Name: airline, dtype: int64"
            ]
          },
          "metadata": {},
          "execution_count": 140
        }
      ],
      "source": [
        "# airline class distribution using Pandas value_counts() method\n",
        "data['airline'].value_counts(sort=False)"
      ]
    },
    {
      "cell_type": "code",
      "execution_count": 141,
      "metadata": {
        "colab": {
          "base_uri": "https://localhost:8080/"
        },
        "id": "gf-jm4XDosNy",
        "outputId": "43f873f0-58df-4674-92ff-4ba26c971e3b"
      },
      "outputs": [
        {
          "output_type": "execute_result",
          "data": {
            "text/plain": [
              "Index(['Virgin America', 'United', 'Southwest', 'Delta', 'US Airways',\n",
              "       'American'],\n",
              "      dtype='object')"
            ]
          },
          "metadata": {},
          "execution_count": 141
        }
      ],
      "source": [
        "# returns an array of index names from a Pandas Series only\n",
        "data['airline'].value_counts(sort=False).index"
      ]
    },
    {
      "cell_type": "code",
      "execution_count": 142,
      "metadata": {
        "colab": {
          "base_uri": "https://localhost:8080/"
        },
        "id": "j9s-dQlRozV1",
        "outputId": "bdcf0fac-fd95-434f-d24d-4448e5b3a2ff"
      },
      "outputs": [
        {
          "output_type": "execute_result",
          "data": {
            "text/plain": [
              "array([ 504, 3822, 2420, 2222, 2913, 2687])"
            ]
          },
          "metadata": {},
          "execution_count": 142
        }
      ],
      "source": [
        "# returns an array of values from a Pandas Series only\n",
        "data['airline'].value_counts(sort=False).values"
      ]
    },
    {
      "cell_type": "code",
      "source": [
        "# Plot the distribution of sentiment across all the tweets\n",
        "plt.figure(figsize=(8,5))\n",
        "colors='plasma'\n",
        "sns.barplot(x=data['airline'].value_counts(sort=False).index, y=data['airline'].value_counts(sort=False).values, palette=colors)\n",
        "plt.title('Distribution of tweets among Airines Companies')\n",
        "plt.xlabel(\"Class Distribution\")\n",
        "plt.ylabel(\"Count of tweet\")\n",
        "plt.show()"
      ],
      "metadata": {
        "colab": {
          "base_uri": "https://localhost:8080/",
          "height": 350
        },
        "id": "_Yt4I5uv8zwr",
        "outputId": "87db7514-2cbc-4aad-b28b-8cfd427b5e26"
      },
      "execution_count": 143,
      "outputs": [
        {
          "output_type": "display_data",
          "data": {
            "text/plain": [
              "<Figure size 576x360 with 1 Axes>"
            ],
            "image/png": "[encoded data removed]"
          },
          "metadata": {
            "needs_background": "light"
          }
        }
      ]
    },
    {
      "cell_type": "markdown",
      "metadata": {
        "id": "qAKoyJX0jmJ8"
      },
      "source": [
        "### Plot the distribution of sentiment across all the tweets"
      ]
    },
    {
      "cell_type": "code",
      "execution_count": 144,
      "metadata": {
        "colab": {
          "base_uri": "https://localhost:8080/",
          "height": 350
        },
        "id": "cGPZhQ3nXcRe",
        "outputId": "79aa15be-add9-4336-f779-8ed533e23d8f"
      },
      "outputs": [
        {
          "output_type": "display_data",
          "data": {
            "text/plain": [
              "<Figure size 576x360 with 1 Axes>"
            ],
            "image/png": "[encoded data removed]"
          },
          "metadata": {
            "needs_background": "light"
          }
        }
      ],
      "source": [
        "# Plot the distribution of sentiment across all the tweets\n",
        "plt.figure(figsize=(8,5))\n",
        "colors='plasma'\n",
        "sns.barplot(x=data['airline_sentiment'].value_counts(sort=False).index, y=data['airline_sentiment'].value_counts(sort=False).values, palette=colors)\n",
        "plt.title('Distribution of tweets among taret classes')\n",
        "plt.xlabel(\"Class Distribution\")\n",
        "plt.ylabel(\"Count of tweet\")\n",
        "plt.show()"
      ]
    },
    {
      "cell_type": "markdown",
      "metadata": {
        "id": "EKJv8Iatu8D8"
      },
      "source": [
        "Observations:\n",
        "- Majorities are negative, and it would be great/free feedback to airlines to provide appropriate responses. \n",
        "- We can also show sentiments for each airline.\n",
        "- It also shows that the class distribution is imbalanced and our model may not generalize well with unseen data. Therefore, we could use one of the optimization techniques to balance the target classes. "
      ]
    },
    {
      "cell_type": "markdown",
      "metadata": {
        "id": "MoicISnMkTa1"
      },
      "source": [
        "### Plot the distribution of Sentiment of tweets for each airline & plot the distribution of all the negative reasons."
      ]
    },
    {
      "cell_type": "code",
      "execution_count": 145,
      "metadata": {
        "colab": {
          "base_uri": "https://localhost:8080/",
          "height": 729
        },
        "id": "3pSLHqZCvLvp",
        "outputId": "1c74a9f4-7f02-46f3-c351-b6d69fd8c3d3"
      },
      "outputs": [
        {
          "output_type": "display_data",
          "data": {
            "text/plain": [
              "<Figure size 756x720 with 6 Axes>"
            ],
            "image/png": "[encoded data removed]"
          },
          "metadata": {
            "needs_background": "light"
          }
        }
      ],
      "source": [
        "# Plot the distribution of Sentiment of tweets for each airline\n",
        "g = sns.FacetGrid(data, col='airline', col_wrap=3, height=5, aspect =0.7) # Multi-plot grid for plotting conditional relationships.\n",
        "g = g.map(sns.countplot, 'airline_sentiment', order =data.airline_sentiment.value_counts().index, palette= 'plasma') \n",
        "plt.show()"
      ]
    },
    {
      "cell_type": "markdown",
      "metadata": {
        "id": "LEeIsMfpx6Zw"
      },
      "source": [
        "- Here we can see that United Airlines, US Airways, American Airlines has the most number of negative review\n",
        "- Virgin America has the least number of negative reviews"
      ]
    },
    {
      "cell_type": "code",
      "execution_count": 146,
      "metadata": {
        "colab": {
          "base_uri": "https://localhost:8080/",
          "height": 688
        },
        "id": "kTdKc-euXhCo",
        "outputId": "d1633e9a-99ab-4879-dddd-88262eb0227f"
      },
      "outputs": [
        {
          "output_type": "stream",
          "name": "stdout",
          "text": [
            "Customer Service Issue         2898\n",
            "Late Flight                    1655\n",
            "Can't Tell                     1190\n",
            "Cancelled Flight                839\n",
            "Lost Luggage                    718\n",
            "Bad Flight                      580\n",
            "Flight Booking Problems         529\n",
            "Flight Attendant Complaints     479\n",
            "longlines                       178\n",
            "Damaged Luggage                  74\n",
            "Name: negativereason, dtype: int64\n"
          ]
        },
        {
          "output_type": "display_data",
          "data": {
            "text/plain": [
              "<Figure size 1800x576 with 1 Axes>"
            ],
            "image/png": "[encoded data removed]"
          },
          "metadata": {
            "needs_background": "light"
          }
        }
      ],
      "source": [
        "# Plot the distribution of all the negative reasons\n",
        "y = data['negativereason']\n",
        "print(y.value_counts())\n",
        "plt.figure(figsize=(25,8)) \n",
        "g = sns.countplot(y)"
      ]
    },
    {
      "cell_type": "markdown",
      "metadata": {
        "id": "LnRUGVy7yfwk"
      },
      "source": [
        "- Customer service and Late flight seems to be the main reason why customers are giving bad feedback"
      ]
    },
    {
      "cell_type": "markdown",
      "metadata": {
        "id": "cm0iuzalsUHW"
      },
      "source": [
        "### Plot the word cloud graph of tweets for positive and negative sentiment separately"
      ]
    },
    {
      "cell_type": "code",
      "source": [
        "# Function for the three types of wordclouds: Positive Tweets, Negative Tweets and Neutral Tweets\n",
        "def plot_wordcloud(text, mask=None, max_words=200, max_font_size=100, figure_size=(24.0,16.0), color = 'white',\n",
        "                   title = None, title_size=40, image_color=False):\n",
        "    \n",
        "    wordcloud = WordCloud(background_color=color,\n",
        "                    max_words = max_words,\n",
        "                    max_font_size = max_font_size, \n",
        "                    random_state = 42,\n",
        "                    width=400, \n",
        "                    height=200,\n",
        "                    mask = mask)\n",
        "    wordcloud.generate(str(text))\n",
        "    \n",
        "    plt.figure(figsize=figure_size)\n",
        "    if image_color:\n",
        "        image_colors = ImageColorGenerator(mask);\n",
        "        plt.imshow(wordcloud.recolor(color_func=image_colors), interpolation=\"bilinear\");\n",
        "        plt.title(title, fontdict={'size': title_size,  \n",
        "                                  'verticalalignment': 'bottom'})\n",
        "    else:\n",
        "        plt.imshow(wordcloud);\n",
        "        plt.title(title, fontdict={'size': title_size, 'color': 'black', \n",
        "                                  'verticalalignment': 'bottom'})\n",
        "    plt.axis('off');\n",
        "    plt.tight_layout()  \n",
        "d = data[\"text\"]"
      ],
      "metadata": {
        "id": "zEjuVlKuzYTT"
      },
      "execution_count": 239,
      "outputs": []
    },
    {
      "cell_type": "code",
      "source": [
        "# Plot the word cloud graph of tweets for Negative sentiment\n",
        "plot_wordcloud(Negative_sent)"
      ],
      "metadata": {
        "id": "u_F7iR-CGVQf"
      },
      "execution_count": null,
      "outputs": []
    },
    {
      "cell_type": "markdown",
      "source": [
        "- So we see that overall the tweets are neutral in nature, followed by negative sentiment for the time in which they are analysed."
      ],
      "metadata": {
        "id": "ESOj6bBq2pgn"
      }
    },
    {
      "cell_type": "code",
      "execution_count": null,
      "metadata": {
        "id": "hh8G9HNOXqwy"
      },
      "outputs": [],
      "source": [
        "# Plot the word cloud graph of tweets for positive sentiment\n",
        "plot_wordcloud(Positive_sent)"
      ]
    },
    {
      "cell_type": "code",
      "source": [
        "Positive_sent = data[data['sentiment']=='positive']\n",
        "Negative_sent = data[data['sentiment']=='negative']\n",
        "Neutral_sent = data[data['sentiment']=='neutral']\n",
        "print('Number of tweets with positive sentiment', Positive_sent['sentiment'].count())\n",
        "print('Number of tweets with negative sentiment', Negative_sent['sentiment'].count())\n",
        "print('Number of tweets with neutral sentiment', Neutral_sent['sentiment'].count())"
      ],
      "metadata": {
        "id": "kkz1IJjFIcQ_"
      },
      "execution_count": null,
      "outputs": []
    },
    {
      "cell_type": "markdown",
      "source": [
        "- We can observe that the first review mentioned a lot about VirginAmerica and the said in the POS."
      ],
      "metadata": {
        "id": "BLBOoPHNBgv2"
      }
    },
    {
      "cell_type": "markdown",
      "metadata": {
        "id": "M1aD2F74Xv2m"
      },
      "source": [
        "### **Observations & Insights on EDA**\n",
        "- There are 14640 rows and 15 columns in the tweet data\n",
        "- There are 36 duplicate records in the data set\n",
        "- Here we can see that United Airlines, US Airways, American Airlines has the most number of negative review\n",
        "- Virgin America has the least number of negative reviews\n",
        "- Customer service and Late flight seems to be the main reason why customers are giving bad feedback"
      ]
    },
    {
      "cell_type": "markdown",
      "metadata": {
        "id": "NmcY7gktU2Ud"
      },
      "source": [
        "## **3. Understanding of Data Columns**\n",
        "Understand of data columns:  \n",
        "- a. Drop all other columns except “text” and “airline_sentiment”. \n",
        "- b. Check the shape of the data. \n",
        "- c. Print the first 5 rows of data."
      ]
    },
    {
      "cell_type": "markdown",
      "metadata": {
        "id": "Q8pVJ2np5Du0"
      },
      "source": [
        "### Drop all other columns except “text” and “airline_sentiment”"
      ]
    },
    {
      "cell_type": "code",
      "execution_count": 163,
      "metadata": {
        "colab": {
          "base_uri": "https://localhost:8080/"
        },
        "id": "4zgeJrsV4sFv",
        "outputId": "74221724-18c9-41c2-e7da-394dfbf6bdb7"
      },
      "outputs": [
        {
          "output_type": "execute_result",
          "data": {
            "text/plain": [
              "Index(['tweet_id', 'airline_sentiment', 'airline_sentiment_confidence',\n",
              "       'negativereason', 'negativereason_confidence', 'airline',\n",
              "       'airline_sentiment_gold', 'name', 'negativereason_gold',\n",
              "       'retweet_count', 'text', 'tweet_coord', 'tweet_created',\n",
              "       'tweet_location', 'user_timezone'],\n",
              "      dtype='object')"
            ]
          },
          "metadata": {},
          "execution_count": 163
        }
      ],
      "source": [
        "data.columns"
      ]
    },
    {
      "cell_type": "code",
      "execution_count": 164,
      "metadata": {
        "id": "eFIhldHm4r6U"
      },
      "outputs": [],
      "source": [
        "# Let us now remove irrelevant columns\n",
        "df = data.drop(['tweet_id', 'airline_sentiment_confidence',\n",
        "       'negativereason', 'negativereason_confidence', 'airline',\n",
        "       'airline_sentiment_gold', 'name', 'negativereason_gold',\n",
        "       'retweet_count','tweet_coord', 'tweet_created',\n",
        "       'tweet_location', 'user_timezone'], axis =1)"
      ]
    },
    {
      "cell_type": "code",
      "execution_count": 165,
      "metadata": {
        "colab": {
          "base_uri": "https://localhost:8080/"
        },
        "id": "Hk8S7tbS4rsQ",
        "outputId": "eaf687b6-48f7-418b-c906-87157ef2cd48"
      },
      "outputs": [
        {
          "output_type": "execute_result",
          "data": {
            "text/plain": [
              "(14568, 2)"
            ]
          },
          "metadata": {},
          "execution_count": 165
        }
      ],
      "source": [
        "# Shape of Data\n",
        "df.shape"
      ]
    },
    {
      "cell_type": "code",
      "execution_count": 166,
      "metadata": {
        "colab": {
          "base_uri": "https://localhost:8080/",
          "height": 196
        },
        "id": "o-GUvhN-5qX1",
        "outputId": "54e5344c-51cf-416b-9d9d-951565527f0a"
      },
      "outputs": [
        {
          "output_type": "execute_result",
          "data": {
            "text/plain": [
              "  airline_sentiment                                               text\n",
              "0           neutral                @VirginAmerica What @dhepburn said.\n",
              "1          positive  @VirginAmerica plus you've added commercials t...\n",
              "2           neutral  @VirginAmerica I didn't today... Must mean I n...\n",
              "3          negative  @VirginAmerica it's really aggressive to blast...\n",
              "4          negative  @VirginAmerica and it's a really big bad thing..."
            ],
            "text/html": [
              "\n",
              "  <div id=\"df-874f6ea3-64a6-4e64-8075-47517f8f23cf\">\n",
              "    <div class=\"colab-df-container\">\n",
              "      <div>\n",
              "<style scoped>\n",
              "    .dataframe tbody tr th:only-of-type {\n",
              "        vertical-align: middle;\n",
              "    }\n",
              "\n",
              "    .dataframe tbody tr th {\n",
              "        vertical-align: top;\n",
              "    }\n",
              "\n",
              "    .dataframe thead th {\n",
              "        text-align: right;\n",
              "    }\n",
              "</style>\n",
              "<table border=\"1\" class=\"dataframe\">\n",
              "  <thead>\n",
              "    <tr style=\"text-align: right;\">\n",
              "      <th></th>\n",
              "      <th>airline_sentiment</th>\n",
              "      <th>text</th>\n",
              "    </tr>\n",
              "  </thead>\n",
              "  <tbody>\n",
              "    <tr>\n",
              "      <th>0</th>\n",
              "      <td>neutral</td>\n",
              "      <td>@VirginAmerica What @dhepburn said.</td>\n",
              "    </tr>\n",
              "    <tr>\n",
              "      <th>1</th>\n",
              "      <td>positive</td>\n",
              "      <td>@VirginAmerica plus you've added commercials t...</td>\n",
              "    </tr>\n",
              "    <tr>\n",
              "      <th>2</th>\n",
              "      <td>neutral</td>\n",
              "      <td>@VirginAmerica I didn't today... Must mean I n...</td>\n",
              "    </tr>\n",
              "    <tr>\n",
              "      <th>3</th>\n",
              "      <td>negative</td>\n",
              "      <td>@VirginAmerica it's really aggressive to blast...</td>\n",
              "    </tr>\n",
              "    <tr>\n",
              "      <th>4</th>\n",
              "      <td>negative</td>\n",
              "      <td>@VirginAmerica and it's a really big bad thing...</td>\n",
              "    </tr>\n",
              "  </tbody>\n",
              "</table>\n",
              "</div>\n",
              "      <button class=\"colab-df-convert\" onclick=\"convertToInteractive('df-874f6ea3-64a6-4e64-8075-47517f8f23cf')\"\n",
              "              title=\"Convert this dataframe to an interactive table.\"\n",
              "              style=\"display:none;\">\n",
              "        \n",
              "  <svg xmlns=\"http://www.w3.org/2000/svg\" height=\"24px\"viewBox=\"0 0 24 24\"\n",
              "       width=\"24px\">\n",
              "    <path d=\"M0 0h24v24H0V0z\" fill=\"none\"/>\n",
              "    <path d=\"M18.56 5.44l.94 2.06.94-2.06 2.06-.94-2.06-.94-.94-2.06-.94 2.06-2.06.94zm-11 1L8.5 8.5l.94-2.06 2.06-.94-2.06-.94L8.5 2.5l-.94 2.06-2.06.94zm10 10l.94 2.06.94-2.06 2.06-.94-2.06-.94-.94-2.06-.94 2.06-2.06.94z\"/><path d=\"M17.41 7.96l-1.37-1.37c-.4-.4-.92-.59-1.43-.59-.52 0-1.04.2-1.43.59L10.3 9.45l-7.72 7.72c-.78.78-.78 2.05 0 2.83L4 21.41c.39.39.9.59 1.41.59.51 0 1.02-.2 1.41-.59l7.78-7.78 2.81-2.81c.8-.78.8-2.07 0-2.86zM5.41 20L4 18.59l7.72-7.72 1.47 1.35L5.41 20z\"/>\n",
              "  </svg>\n",
              "      </button>\n",
              "      \n",
              "  <style>\n",
              "    .colab-df-container {\n",
              "      display:flex;\n",
              "      flex-wrap:wrap;\n",
              "      gap: 12px;\n",
              "    }\n",
              "\n",
              "    .colab-df-convert {\n",
              "      background-color: #E8F0FE;\n",
              "      border: none;\n",
              "      border-radius: 50%;\n",
              "      cursor: pointer;\n",
              "      display: none;\n",
              "      fill: #1967D2;\n",
              "      height: 32px;\n",
              "      padding: 0 0 0 0;\n",
              "      width: 32px;\n",
              "    }\n",
              "\n",
              "    .colab-df-convert:hover {\n",
              "      background-color: #E2EBFA;\n",
              "      box-shadow: 0px 1px 2px rgba(60, 64, 67, 0.3), 0px 1px 3px 1px rgba(60, 64, 67, 0.15);\n",
              "      fill: #174EA6;\n",
              "    }\n",
              "\n",
              "    [theme=dark] .colab-df-convert {\n",
              "      background-color: #3B4455;\n",
              "      fill: #D2E3FC;\n",
              "    }\n",
              "\n",
              "    [theme=dark] .colab-df-convert:hover {\n",
              "      background-color: #434B5C;\n",
              "      box-shadow: 0px 1px 3px 1px rgba(0, 0, 0, 0.15);\n",
              "      filter: drop-shadow(0px 1px 2px rgba(0, 0, 0, 0.3));\n",
              "      fill: #FFFFFF;\n",
              "    }\n",
              "  </style>\n",
              "\n",
              "      <script>\n",
              "        const buttonEl =\n",
              "          document.querySelector('#df-874f6ea3-64a6-4e64-8075-47517f8f23cf button.colab-df-convert');\n",
              "        buttonEl.style.display =\n",
              "          google.colab.kernel.accessAllowed ? 'block' : 'none';\n",
              "\n",
              "        async function convertToInteractive(key) {\n",
              "          const element = document.querySelector('#df-874f6ea3-64a6-4e64-8075-47517f8f23cf');\n",
              "          const dataTable =\n",
              "            await google.colab.kernel.invokeFunction('convertToInteractive',\n",
              "                                                     [key], {});\n",
              "          if (!dataTable) return;\n",
              "\n",
              "          const docLinkHtml = 'Like what you see? Visit the ' +\n",
              "            '<a target=\"_blank\" href=https://colab.research.google.com/notebooks/data_table.ipynb>data table notebook</a>'\n",
              "            + ' to learn more about interactive tables.';\n",
              "          element.innerHTML = '';\n",
              "          dataTable['output_type'] = 'display_data';\n",
              "          await google.colab.output.renderOutput(dataTable, element);\n",
              "          const docLink = document.createElement('div');\n",
              "          docLink.innerHTML = docLinkHtml;\n",
              "          element.appendChild(docLink);\n",
              "        }\n",
              "      </script>\n",
              "    </div>\n",
              "  </div>\n",
              "  "
            ],
            "application/vnd.google.colaboratory.module+javascript": "\n      import \"https://ssl.gstatic.com/colaboratory/data_table/f872b2c2305463fd/data_table.js\";\n\n      window.createDataTable({\n        data: [[{\n            'v': 0,\n            'f': \"0\",\n        },\n\"neutral\",\n\"@VirginAmerica What @dhepburn said.\"],\n [{\n            'v': 1,\n            'f': \"1\",\n        },\n\"positive\",\n\"@VirginAmerica plus you've added commercials to the experience... tacky.\"],\n [{\n            'v': 2,\n            'f': \"2\",\n        },\n\"neutral\",\n\"@VirginAmerica I didn't today... Must mean I need to take another trip!\"],\n [{\n            'v': 3,\n            'f': \"3\",\n        },\n\"negative\",\n\"@VirginAmerica it's really aggressive to blast obnoxious \\\"entertainment\\\" in your guests' faces &amp; they have little recourse\"],\n [{\n            'v': 4,\n            'f': \"4\",\n        },\n\"negative\",\n\"@VirginAmerica and it's a really big bad thing about it\"]],\n        columns: [[\"number\", \"index\"], [\"string\", \"airline_sentiment\"], [\"string\", \"text\"]],\n        columnOptions: [{\"width\": \"1px\", \"className\": \"index_column\"}],\n        rowsPerPage: 25,\n        helpUrl: \"https://colab.research.google.com/notebooks/data_table.ipynb\",\n        suppressOutputScrolling: true,\n        minimumWidth: undefined,\n      });\n    "
          },
          "metadata": {},
          "execution_count": 166
        }
      ],
      "source": [
        "# Printing first 5 rows of data\n",
        "df.head(5)"
      ]
    },
    {
      "cell_type": "markdown",
      "metadata": {
        "id": "M8HPGu9X5Y55"
      },
      "source": [
        "- There are 14568 rows and 2 columns (This is result of keeping relevant rows and duplicate data cleanup)"
      ]
    },
    {
      "cell_type": "code",
      "execution_count": 167,
      "metadata": {
        "colab": {
          "base_uri": "https://localhost:8080/"
        },
        "id": "Dkg1al4-517T",
        "outputId": "3831aa5b-3084-4b74-d682-b554aa8e52bc"
      },
      "outputs": [
        {
          "output_type": "stream",
          "name": "stdout",
          "text": [
            "negative    9140\n",
            "neutral     3083\n",
            "positive    2345\n",
            "Name: airline_sentiment, dtype: int64\n"
          ]
        }
      ],
      "source": [
        "# Class distribution in the target variable\n",
        "print(df.airline_sentiment.value_counts())"
      ]
    },
    {
      "cell_type": "markdown",
      "source": [
        "- We observe that the class distribution in the target variable is highly inblanced such that our model cannot generalize well in with unseen data. We will use one of the resampling techniques to balance the class distribution in the target variable. Also, we will remove the neutral sentiment, given that the negative and positive sentinents matter more. "
      ],
      "metadata": {
        "id": "2v_OU9AEf1BE"
      }
    },
    {
      "cell_type": "code",
      "source": [
        "#removing the neutral sentiments considering that positive and negative sentiments matter more \n",
        "df=df[df['airline_sentiment']!='neutral']\n",
        "#now since neutral elements are deleted so I need to reset the indices\n",
        "df.reset_index(inplace=True,drop=True)\n",
        "#positive sentiments to 1 and negative to 0 \n",
        "def partition(x):\n",
        "    if x =='positive':\n",
        "        return 1\n",
        "    return 0\n",
        "actualSentiment = df['airline_sentiment']\n",
        "positiveNegative = actualSentiment.map(partition) \n",
        "df['Sentiment'] = positiveNegative\n",
        "df['Sentiment'].value_counts() "
      ],
      "metadata": {
        "colab": {
          "base_uri": "https://localhost:8080/"
        },
        "id": "BdV8WwLKRVim",
        "outputId": "3bf326ea-901f-44db-bcd8-129ea3c5ff07"
      },
      "execution_count": 168,
      "outputs": [
        {
          "output_type": "execute_result",
          "data": {
            "text/plain": [
              "0    9140\n",
              "1    2345\n",
              "Name: Sentiment, dtype: int64"
            ]
          },
          "metadata": {},
          "execution_count": 168
        }
      ]
    },
    {
      "cell_type": "code",
      "source": [
        "df.head()"
      ],
      "metadata": {
        "colab": {
          "base_uri": "https://localhost:8080/",
          "height": 196
        },
        "id": "WShIJNVhTUpX",
        "outputId": "9eae2278-580e-4cf7-b9a1-7b1b30fd4552"
      },
      "execution_count": 169,
      "outputs": [
        {
          "output_type": "execute_result",
          "data": {
            "text/plain": [
              "  airline_sentiment                                               text  \\\n",
              "0          positive  @VirginAmerica plus you've added commercials t...   \n",
              "1          negative  @VirginAmerica it's really aggressive to blast...   \n",
              "2          negative  @VirginAmerica and it's a really big bad thing...   \n",
              "3          negative  @VirginAmerica seriously would pay $30 a fligh...   \n",
              "4          positive  @VirginAmerica yes, nearly every time I fly VX...   \n",
              "\n",
              "   Sentiment  \n",
              "0          1  \n",
              "1          0  \n",
              "2          0  \n",
              "3          0  \n",
              "4          1  "
            ],
            "text/html": [
              "\n",
              "  <div id=\"df-59034c75-c89f-4f3d-bf0c-0c2c7acf3563\">\n",
              "    <div class=\"colab-df-container\">\n",
              "      <div>\n",
              "<style scoped>\n",
              "    .dataframe tbody tr th:only-of-type {\n",
              "        vertical-align: middle;\n",
              "    }\n",
              "\n",
              "    .dataframe tbody tr th {\n",
              "        vertical-align: top;\n",
              "    }\n",
              "\n",
              "    .dataframe thead th {\n",
              "        text-align: right;\n",
              "    }\n",
              "</style>\n",
              "<table border=\"1\" class=\"dataframe\">\n",
              "  <thead>\n",
              "    <tr style=\"text-align: right;\">\n",
              "      <th></th>\n",
              "      <th>airline_sentiment</th>\n",
              "      <th>text</th>\n",
              "      <th>Sentiment</th>\n",
              "    </tr>\n",
              "  </thead>\n",
              "  <tbody>\n",
              "    <tr>\n",
              "      <th>0</th>\n",
              "      <td>positive</td>\n",
              "      <td>@VirginAmerica plus you've added commercials t...</td>\n",
              "      <td>1</td>\n",
              "    </tr>\n",
              "    <tr>\n",
              "      <th>1</th>\n",
              "      <td>negative</td>\n",
              "      <td>@VirginAmerica it's really aggressive to blast...</td>\n",
              "      <td>0</td>\n",
              "    </tr>\n",
              "    <tr>\n",
              "      <th>2</th>\n",
              "      <td>negative</td>\n",
              "      <td>@VirginAmerica and it's a really big bad thing...</td>\n",
              "      <td>0</td>\n",
              "    </tr>\n",
              "    <tr>\n",
              "      <th>3</th>\n",
              "      <td>negative</td>\n",
              "      <td>@VirginAmerica seriously would pay $30 a fligh...</td>\n",
              "      <td>0</td>\n",
              "    </tr>\n",
              "    <tr>\n",
              "      <th>4</th>\n",
              "      <td>positive</td>\n",
              "      <td>@VirginAmerica yes, nearly every time I fly VX...</td>\n",
              "      <td>1</td>\n",
              "    </tr>\n",
              "  </tbody>\n",
              "</table>\n",
              "</div>\n",
              "      <button class=\"colab-df-convert\" onclick=\"convertToInteractive('df-59034c75-c89f-4f3d-bf0c-0c2c7acf3563')\"\n",
              "              title=\"Convert this dataframe to an interactive table.\"\n",
              "              style=\"display:none;\">\n",
              "        \n",
              "  <svg xmlns=\"http://www.w3.org/2000/svg\" height=\"24px\"viewBox=\"0 0 24 24\"\n",
              "       width=\"24px\">\n",
              "    <path d=\"M0 0h24v24H0V0z\" fill=\"none\"/>\n",
              "    <path d=\"M18.56 5.44l.94 2.06.94-2.06 2.06-.94-2.06-.94-.94-2.06-.94 2.06-2.06.94zm-11 1L8.5 8.5l.94-2.06 2.06-.94-2.06-.94L8.5 2.5l-.94 2.06-2.06.94zm10 10l.94 2.06.94-2.06 2.06-.94-2.06-.94-.94-2.06-.94 2.06-2.06.94z\"/><path d=\"M17.41 7.96l-1.37-1.37c-.4-.4-.92-.59-1.43-.59-.52 0-1.04.2-1.43.59L10.3 9.45l-7.72 7.72c-.78.78-.78 2.05 0 2.83L4 21.41c.39.39.9.59 1.41.59.51 0 1.02-.2 1.41-.59l7.78-7.78 2.81-2.81c.8-.78.8-2.07 0-2.86zM5.41 20L4 18.59l7.72-7.72 1.47 1.35L5.41 20z\"/>\n",
              "  </svg>\n",
              "      </button>\n",
              "      \n",
              "  <style>\n",
              "    .colab-df-container {\n",
              "      display:flex;\n",
              "      flex-wrap:wrap;\n",
              "      gap: 12px;\n",
              "    }\n",
              "\n",
              "    .colab-df-convert {\n",
              "      background-color: #E8F0FE;\n",
              "      border: none;\n",
              "      border-radius: 50%;\n",
              "      cursor: pointer;\n",
              "      display: none;\n",
              "      fill: #1967D2;\n",
              "      height: 32px;\n",
              "      padding: 0 0 0 0;\n",
              "      width: 32px;\n",
              "    }\n",
              "\n",
              "    .colab-df-convert:hover {\n",
              "      background-color: #E2EBFA;\n",
              "      box-shadow: 0px 1px 2px rgba(60, 64, 67, 0.3), 0px 1px 3px 1px rgba(60, 64, 67, 0.15);\n",
              "      fill: #174EA6;\n",
              "    }\n",
              "\n",
              "    [theme=dark] .colab-df-convert {\n",
              "      background-color: #3B4455;\n",
              "      fill: #D2E3FC;\n",
              "    }\n",
              "\n",
              "    [theme=dark] .colab-df-convert:hover {\n",
              "      background-color: #434B5C;\n",
              "      box-shadow: 0px 1px 3px 1px rgba(0, 0, 0, 0.15);\n",
              "      filter: drop-shadow(0px 1px 2px rgba(0, 0, 0, 0.3));\n",
              "      fill: #FFFFFF;\n",
              "    }\n",
              "  </style>\n",
              "\n",
              "      <script>\n",
              "        const buttonEl =\n",
              "          document.querySelector('#df-59034c75-c89f-4f3d-bf0c-0c2c7acf3563 button.colab-df-convert');\n",
              "        buttonEl.style.display =\n",
              "          google.colab.kernel.accessAllowed ? 'block' : 'none';\n",
              "\n",
              "        async function convertToInteractive(key) {\n",
              "          const element = document.querySelector('#df-59034c75-c89f-4f3d-bf0c-0c2c7acf3563');\n",
              "          const dataTable =\n",
              "            await google.colab.kernel.invokeFunction('convertToInteractive',\n",
              "                                                     [key], {});\n",
              "          if (!dataTable) return;\n",
              "\n",
              "          const docLinkHtml = 'Like what you see? Visit the ' +\n",
              "            '<a target=\"_blank\" href=https://colab.research.google.com/notebooks/data_table.ipynb>data table notebook</a>'\n",
              "            + ' to learn more about interactive tables.';\n",
              "          element.innerHTML = '';\n",
              "          dataTable['output_type'] = 'display_data';\n",
              "          await google.colab.output.renderOutput(dataTable, element);\n",
              "          const docLink = document.createElement('div');\n",
              "          docLink.innerHTML = docLinkHtml;\n",
              "          element.appendChild(docLink);\n",
              "        }\n",
              "      </script>\n",
              "    </div>\n",
              "  </div>\n",
              "  "
            ],
            "application/vnd.google.colaboratory.module+javascript": "\n      import \"https://ssl.gstatic.com/colaboratory/data_table/f872b2c2305463fd/data_table.js\";\n\n      window.createDataTable({\n        data: [[{\n            'v': 0,\n            'f': \"0\",\n        },\n\"positive\",\n\"@VirginAmerica plus you've added commercials to the experience... tacky.\",\n{\n            'v': 1,\n            'f': \"1\",\n        }],\n [{\n            'v': 1,\n            'f': \"1\",\n        },\n\"negative\",\n\"@VirginAmerica it's really aggressive to blast obnoxious \\\"entertainment\\\" in your guests' faces &amp; they have little recourse\",\n{\n            'v': 0,\n            'f': \"0\",\n        }],\n [{\n            'v': 2,\n            'f': \"2\",\n        },\n\"negative\",\n\"@VirginAmerica and it's a really big bad thing about it\",\n{\n            'v': 0,\n            'f': \"0\",\n        }],\n [{\n            'v': 3,\n            'f': \"3\",\n        },\n\"negative\",\n\"@VirginAmerica seriously would pay $30 a flight for seats that didn't have this playing.\\nit's really the only bad thing about flying VA\",\n{\n            'v': 0,\n            'f': \"0\",\n        }],\n [{\n            'v': 4,\n            'f': \"4\",\n        },\n\"positive\",\n\"@VirginAmerica yes, nearly every time I fly VX this \\u201cear worm\\u201d won\\u2019t go away :)\",\n{\n            'v': 1,\n            'f': \"1\",\n        }]],\n        columns: [[\"number\", \"index\"], [\"string\", \"airline_sentiment\"], [\"string\", \"text\"], [\"number\", \"Sentiment\"]],\n        columnOptions: [{\"width\": \"1px\", \"className\": \"index_column\"}],\n        rowsPerPage: 25,\n        helpUrl: \"https://colab.research.google.com/notebooks/data_table.ipynb\",\n        suppressOutputScrolling: true,\n        minimumWidth: undefined,\n      });\n    "
          },
          "metadata": {},
          "execution_count": 169
        }
      ]
    },
    {
      "cell_type": "markdown",
      "metadata": {
        "id": "ofgk8bmKVNz4"
      },
      "source": [
        "## **4. Text pre-processing: Data preparation.**\n",
        " \n",
        "\n",
        "**NOTE:-** Each text pre-processing step should be mentioned in the notebook separately. We perform preprocessing tasks in two groups and in order. First, we apply the functions to remove html tags, followed by replacing contractions, then remove accented characters and finally remove number. This is performed on the DataFrame before tokenization and the remaining text preprocessing activities, which constitute the second group. \n",
        "\n",
        "- a. Html tag removal. \n",
        "- b. Tokenization. \n",
        "- c. Remove the numbers. \n",
        "- d. Removal of Special Characters and Punctuations. \n",
        "- e. Removal of stopwords \n",
        "- f. Conversion to lowercase. \n",
        "- g. Lemmatize or stemming. \n",
        "- h. Join the words in the list to convert back to text string in the data frame. (So that each row contains the data in text format.) \n",
        "- i. Print the first 5 rows of data after pre-processing."
      ]
    },
    {
      "cell_type": "markdown",
      "source": [
        "**Group 1:** Perform the operations irrespective of whether the issues are there because it is challenging to observe the aspects in larage data. "
      ],
      "metadata": {
        "id": "TbY_1YwdrdHW"
      }
    },
    {
      "cell_type": "markdown",
      "source": [
        "**Html tag removal**"
      ],
      "metadata": {
        "id": "xP6V3n09GuLS"
      }
    },
    {
      "cell_type": "code",
      "source": [
        "#Function to Remove HTML Tags in original text\n",
        "def strip_html(text):\n",
        "    \n",
        "    \"\"\"1. Replace html tags in the Text\"\"\"\n",
        "    \n",
        "    NewText = BeautifulSoup(text, \"html.parser\").get_text()\n",
        "    \n",
        "    return NewText"
      ],
      "metadata": {
        "id": "PbmK7aMKINtI"
      },
      "execution_count": 170,
      "outputs": []
    },
    {
      "cell_type": "markdown",
      "source": [
        "**Replace Contraction**"
      ],
      "metadata": {
        "id": "veD50HCNGt3u"
      }
    },
    {
      "cell_type": "code",
      "source": [
        "#Function to Replace Contractions with complete words in original text\n",
        "def replace_contractions(text):\n",
        "    \n",
        "    \"\"\"Replace contractions in string of text. e.g. don't -> do not\"\"\"\n",
        "    NewText = contractions.fix(text)\n",
        "    return NewText"
      ],
      "metadata": {
        "id": "DnWF9TCBKPLW"
      },
      "execution_count": 171,
      "outputs": []
    },
    {
      "cell_type": "markdown",
      "source": [
        "**Remove accented characters from text**"
      ],
      "metadata": {
        "id": "64SDFo8-Lfem"
      }
    },
    {
      "cell_type": "code",
      "source": [
        "#Function to remove Accented Characters using unidecode\n",
        "#!pip install unidecode\n",
        "#import unicodedata \n",
        "\n",
        "import unidecode\n",
        "\n",
        "def remove_accented_chars(text):\n",
        "    \n",
        "    \"\"\"Remove accented characters from text, e.g. café\"\"\"\n",
        "    \n",
        "    NewText = unidecode.unidecode(text)\n",
        "    \n",
        "    return NewText\n"
      ],
      "metadata": {
        "id": "OkZeR0PKLkuD"
      },
      "execution_count": 172,
      "outputs": []
    },
    {
      "cell_type": "markdown",
      "source": [
        "**Removal of Numbers**"
      ],
      "metadata": {
        "id": "JigWQNKhGtjv"
      }
    },
    {
      "cell_type": "code",
      "source": [
        "#Function to Remove Numbers from the Abstract\n",
        "\n",
        "def remove_numbers(text):\n",
        "    \"\"\"Removing Numbers using Regular Expression\"\"\"\n",
        "    text = re.sub(r'\\d+', '', text)\n",
        "    \n",
        "    return text"
      ],
      "metadata": {
        "id": "cPXXhRv1McJa"
      },
      "execution_count": 173,
      "outputs": []
    },
    {
      "cell_type": "code",
      "source": [
        "# Apply the finctions on the DataFrame\n",
        "\n",
        "df['text'] = df['text'].apply(lambda x: strip_html(x))\n",
        "df['text'] = df['text'].apply(lambda x: replace_contractions(x))\n",
        "df['text'] = df['text'].apply(lambda x: remove_accented_chars(x))\n",
        "df['text'] = df['text'].apply(lambda x: remove_numbers(x))"
      ],
      "metadata": {
        "id": "hQJUjRBjrYld"
      },
      "execution_count": 174,
      "outputs": []
    },
    {
      "cell_type": "code",
      "source": [
        "# Print first five rows\n",
        "df.head()"
      ],
      "metadata": {
        "colab": {
          "base_uri": "https://localhost:8080/",
          "height": 196
        },
        "id": "arM_bWdOt17V",
        "outputId": "d360a818-56a3-4aa8-8402-5eb4d3429a35"
      },
      "execution_count": 175,
      "outputs": [
        {
          "output_type": "execute_result",
          "data": {
            "text/plain": [
              "  airline_sentiment                                               text  \\\n",
              "0          positive  @VirginAmerica plus you have added commercials...   \n",
              "1          negative  @VirginAmerica it is really aggressive to blas...   \n",
              "2          negative  @VirginAmerica and it is a really big bad thin...   \n",
              "3          negative  @VirginAmerica seriously would pay $ a flight ...   \n",
              "4          positive  @VirginAmerica yes, nearly every time I fly VX...   \n",
              "\n",
              "   Sentiment  \n",
              "0          1  \n",
              "1          0  \n",
              "2          0  \n",
              "3          0  \n",
              "4          1  "
            ],
            "text/html": [
              "\n",
              "  <div id=\"df-74678576-c5ac-4d2d-9156-5f62d2056e36\">\n",
              "    <div class=\"colab-df-container\">\n",
              "      <div>\n",
              "<style scoped>\n",
              "    .dataframe tbody tr th:only-of-type {\n",
              "        vertical-align: middle;\n",
              "    }\n",
              "\n",
              "    .dataframe tbody tr th {\n",
              "        vertical-align: top;\n",
              "    }\n",
              "\n",
              "    .dataframe thead th {\n",
              "        text-align: right;\n",
              "    }\n",
              "</style>\n",
              "<table border=\"1\" class=\"dataframe\">\n",
              "  <thead>\n",
              "    <tr style=\"text-align: right;\">\n",
              "      <th></th>\n",
              "      <th>airline_sentiment</th>\n",
              "      <th>text</th>\n",
              "      <th>Sentiment</th>\n",
              "    </tr>\n",
              "  </thead>\n",
              "  <tbody>\n",
              "    <tr>\n",
              "      <th>0</th>\n",
              "      <td>positive</td>\n",
              "      <td>@VirginAmerica plus you have added commercials...</td>\n",
              "      <td>1</td>\n",
              "    </tr>\n",
              "    <tr>\n",
              "      <th>1</th>\n",
              "      <td>negative</td>\n",
              "      <td>@VirginAmerica it is really aggressive to blas...</td>\n",
              "      <td>0</td>\n",
              "    </tr>\n",
              "    <tr>\n",
              "      <th>2</th>\n",
              "      <td>negative</td>\n",
              "      <td>@VirginAmerica and it is a really big bad thin...</td>\n",
              "      <td>0</td>\n",
              "    </tr>\n",
              "    <tr>\n",
              "      <th>3</th>\n",
              "      <td>negative</td>\n",
              "      <td>@VirginAmerica seriously would pay $ a flight ...</td>\n",
              "      <td>0</td>\n",
              "    </tr>\n",
              "    <tr>\n",
              "      <th>4</th>\n",
              "      <td>positive</td>\n",
              "      <td>@VirginAmerica yes, nearly every time I fly VX...</td>\n",
              "      <td>1</td>\n",
              "    </tr>\n",
              "  </tbody>\n",
              "</table>\n",
              "</div>\n",
              "      <button class=\"colab-df-convert\" onclick=\"convertToInteractive('df-74678576-c5ac-4d2d-9156-5f62d2056e36')\"\n",
              "              title=\"Convert this dataframe to an interactive table.\"\n",
              "              style=\"display:none;\">\n",
              "        \n",
              "  <svg xmlns=\"http://www.w3.org/2000/svg\" height=\"24px\"viewBox=\"0 0 24 24\"\n",
              "       width=\"24px\">\n",
              "    <path d=\"M0 0h24v24H0V0z\" fill=\"none\"/>\n",
              "    <path d=\"M18.56 5.44l.94 2.06.94-2.06 2.06-.94-2.06-.94-.94-2.06-.94 2.06-2.06.94zm-11 1L8.5 8.5l.94-2.06 2.06-.94-2.06-.94L8.5 2.5l-.94 2.06-2.06.94zm10 10l.94 2.06.94-2.06 2.06-.94-2.06-.94-.94-2.06-.94 2.06-2.06.94z\"/><path d=\"M17.41 7.96l-1.37-1.37c-.4-.4-.92-.59-1.43-.59-.52 0-1.04.2-1.43.59L10.3 9.45l-7.72 7.72c-.78.78-.78 2.05 0 2.83L4 21.41c.39.39.9.59 1.41.59.51 0 1.02-.2 1.41-.59l7.78-7.78 2.81-2.81c.8-.78.8-2.07 0-2.86zM5.41 20L4 18.59l7.72-7.72 1.47 1.35L5.41 20z\"/>\n",
              "  </svg>\n",
              "      </button>\n",
              "      \n",
              "  <style>\n",
              "    .colab-df-container {\n",
              "      display:flex;\n",
              "      flex-wrap:wrap;\n",
              "      gap: 12px;\n",
              "    }\n",
              "\n",
              "    .colab-df-convert {\n",
              "      background-color: #E8F0FE;\n",
              "      border: none;\n",
              "      border-radius: 50%;\n",
              "      cursor: pointer;\n",
              "      display: none;\n",
              "      fill: #1967D2;\n",
              "      height: 32px;\n",
              "      padding: 0 0 0 0;\n",
              "      width: 32px;\n",
              "    }\n",
              "\n",
              "    .colab-df-convert:hover {\n",
              "      background-color: #E2EBFA;\n",
              "      box-shadow: 0px 1px 2px rgba(60, 64, 67, 0.3), 0px 1px 3px 1px rgba(60, 64, 67, 0.15);\n",
              "      fill: #174EA6;\n",
              "    }\n",
              "\n",
              "    [theme=dark] .colab-df-convert {\n",
              "      background-color: #3B4455;\n",
              "      fill: #D2E3FC;\n",
              "    }\n",
              "\n",
              "    [theme=dark] .colab-df-convert:hover {\n",
              "      background-color: #434B5C;\n",
              "      box-shadow: 0px 1px 3px 1px rgba(0, 0, 0, 0.15);\n",
              "      filter: drop-shadow(0px 1px 2px rgba(0, 0, 0, 0.3));\n",
              "      fill: #FFFFFF;\n",
              "    }\n",
              "  </style>\n",
              "\n",
              "      <script>\n",
              "        const buttonEl =\n",
              "          document.querySelector('#df-74678576-c5ac-4d2d-9156-5f62d2056e36 button.colab-df-convert');\n",
              "        buttonEl.style.display =\n",
              "          google.colab.kernel.accessAllowed ? 'block' : 'none';\n",
              "\n",
              "        async function convertToInteractive(key) {\n",
              "          const element = document.querySelector('#df-74678576-c5ac-4d2d-9156-5f62d2056e36');\n",
              "          const dataTable =\n",
              "            await google.colab.kernel.invokeFunction('convertToInteractive',\n",
              "                                                     [key], {});\n",
              "          if (!dataTable) return;\n",
              "\n",
              "          const docLinkHtml = 'Like what you see? Visit the ' +\n",
              "            '<a target=\"_blank\" href=https://colab.research.google.com/notebooks/data_table.ipynb>data table notebook</a>'\n",
              "            + ' to learn more about interactive tables.';\n",
              "          element.innerHTML = '';\n",
              "          dataTable['output_type'] = 'display_data';\n",
              "          await google.colab.output.renderOutput(dataTable, element);\n",
              "          const docLink = document.createElement('div');\n",
              "          docLink.innerHTML = docLinkHtml;\n",
              "          element.appendChild(docLink);\n",
              "        }\n",
              "      </script>\n",
              "    </div>\n",
              "  </div>\n",
              "  "
            ],
            "application/vnd.google.colaboratory.module+javascript": "\n      import \"https://ssl.gstatic.com/colaboratory/data_table/f872b2c2305463fd/data_table.js\";\n\n      window.createDataTable({\n        data: [[{\n            'v': 0,\n            'f': \"0\",\n        },\n\"positive\",\n\"@VirginAmerica plus you have added commercials to the experience... tacky.\",\n{\n            'v': 1,\n            'f': \"1\",\n        }],\n [{\n            'v': 1,\n            'f': \"1\",\n        },\n\"negative\",\n\"@VirginAmerica it is really aggressive to blast obnoxious \\\"entertainment\\\" in your guests' faces & they have little recourse\",\n{\n            'v': 0,\n            'f': \"0\",\n        }],\n [{\n            'v': 2,\n            'f': \"2\",\n        },\n\"negative\",\n\"@VirginAmerica and it is a really big bad thing about it\",\n{\n            'v': 0,\n            'f': \"0\",\n        }],\n [{\n            'v': 3,\n            'f': \"3\",\n        },\n\"negative\",\n\"@VirginAmerica seriously would pay $ a flight for seats that did not have this playing.\\nit is really the only bad thing about flying VA\",\n{\n            'v': 0,\n            'f': \"0\",\n        }],\n [{\n            'v': 4,\n            'f': \"4\",\n        },\n\"positive\",\n\"@VirginAmerica yes, nearly every time I fly VX this \\\"ear worm\\\" will not go away :)\",\n{\n            'v': 1,\n            'f': \"1\",\n        }]],\n        columns: [[\"number\", \"index\"], [\"string\", \"airline_sentiment\"], [\"string\", \"text\"], [\"number\", \"Sentiment\"]],\n        columnOptions: [{\"width\": \"1px\", \"className\": \"index_column\"}],\n        rowsPerPage: 25,\n        helpUrl: \"https://colab.research.google.com/notebooks/data_table.ipynb\",\n        suppressOutputScrolling: true,\n        minimumWidth: undefined,\n      });\n    "
          },
          "metadata": {},
          "execution_count": 175
        }
      ]
    },
    {
      "cell_type": "markdown",
      "source": [
        "**Group 2:** First perform tokenization because the rest of the preprocessing activities are performed on tokens."
      ],
      "metadata": {
        "id": "2js7Lpsirznc"
      }
    },
    {
      "cell_type": "markdown",
      "source": [
        "**Tokenization**"
      ],
      "metadata": {
        "id": "s3hHCSQSGtxj"
      }
    },
    {
      "cell_type": "code",
      "source": [
        "# Tokenization of data\n",
        "df['text'] = df.apply(lambda row: nltk.word_tokenize(row['text']), axis=1) \n",
        "# Print the first five rows of the tokenized DataFrame\n",
        "df.head()"
      ],
      "metadata": {
        "colab": {
          "base_uri": "https://localhost:8080/",
          "height": 196
        },
        "id": "ZHrW4Yt1vNoH",
        "outputId": "74d5c0ab-2669-4dc8-dc47-2fcb62f0451f"
      },
      "execution_count": 176,
      "outputs": [
        {
          "output_type": "execute_result",
          "data": {
            "text/plain": [
              "  airline_sentiment                                               text  \\\n",
              "0          positive  [@, VirginAmerica, plus, you, have, added, com...   \n",
              "1          negative  [@, VirginAmerica, it, is, really, aggressive,...   \n",
              "2          negative  [@, VirginAmerica, and, it, is, a, really, big...   \n",
              "3          negative  [@, VirginAmerica, seriously, would, pay, $, a...   \n",
              "4          positive  [@, VirginAmerica, yes, ,, nearly, every, time...   \n",
              "\n",
              "   Sentiment  \n",
              "0          1  \n",
              "1          0  \n",
              "2          0  \n",
              "3          0  \n",
              "4          1  "
            ],
            "text/html": [
              "\n",
              "  <div id=\"df-be75ef4f-499f-4e13-a437-aa08100d8587\">\n",
              "    <div class=\"colab-df-container\">\n",
              "      <div>\n",
              "<style scoped>\n",
              "    .dataframe tbody tr th:only-of-type {\n",
              "        vertical-align: middle;\n",
              "    }\n",
              "\n",
              "    .dataframe tbody tr th {\n",
              "        vertical-align: top;\n",
              "    }\n",
              "\n",
              "    .dataframe thead th {\n",
              "        text-align: right;\n",
              "    }\n",
              "</style>\n",
              "<table border=\"1\" class=\"dataframe\">\n",
              "  <thead>\n",
              "    <tr style=\"text-align: right;\">\n",
              "      <th></th>\n",
              "      <th>airline_sentiment</th>\n",
              "      <th>text</th>\n",
              "      <th>Sentiment</th>\n",
              "    </tr>\n",
              "  </thead>\n",
              "  <tbody>\n",
              "    <tr>\n",
              "      <th>0</th>\n",
              "      <td>positive</td>\n",
              "      <td>[@, VirginAmerica, plus, you, have, added, com...</td>\n",
              "      <td>1</td>\n",
              "    </tr>\n",
              "    <tr>\n",
              "      <th>1</th>\n",
              "      <td>negative</td>\n",
              "      <td>[@, VirginAmerica, it, is, really, aggressive,...</td>\n",
              "      <td>0</td>\n",
              "    </tr>\n",
              "    <tr>\n",
              "      <th>2</th>\n",
              "      <td>negative</td>\n",
              "      <td>[@, VirginAmerica, and, it, is, a, really, big...</td>\n",
              "      <td>0</td>\n",
              "    </tr>\n",
              "    <tr>\n",
              "      <th>3</th>\n",
              "      <td>negative</td>\n",
              "      <td>[@, VirginAmerica, seriously, would, pay, $, a...</td>\n",
              "      <td>0</td>\n",
              "    </tr>\n",
              "    <tr>\n",
              "      <th>4</th>\n",
              "      <td>positive</td>\n",
              "      <td>[@, VirginAmerica, yes, ,, nearly, every, time...</td>\n",
              "      <td>1</td>\n",
              "    </tr>\n",
              "  </tbody>\n",
              "</table>\n",
              "</div>\n",
              "      <button class=\"colab-df-convert\" onclick=\"convertToInteractive('df-be75ef4f-499f-4e13-a437-aa08100d8587')\"\n",
              "              title=\"Convert this dataframe to an interactive table.\"\n",
              "              style=\"display:none;\">\n",
              "        \n",
              "  <svg xmlns=\"http://www.w3.org/2000/svg\" height=\"24px\"viewBox=\"0 0 24 24\"\n",
              "       width=\"24px\">\n",
              "    <path d=\"M0 0h24v24H0V0z\" fill=\"none\"/>\n",
              "    <path d=\"M18.56 5.44l.94 2.06.94-2.06 2.06-.94-2.06-.94-.94-2.06-.94 2.06-2.06.94zm-11 1L8.5 8.5l.94-2.06 2.06-.94-2.06-.94L8.5 2.5l-.94 2.06-2.06.94zm10 10l.94 2.06.94-2.06 2.06-.94-2.06-.94-.94-2.06-.94 2.06-2.06.94z\"/><path d=\"M17.41 7.96l-1.37-1.37c-.4-.4-.92-.59-1.43-.59-.52 0-1.04.2-1.43.59L10.3 9.45l-7.72 7.72c-.78.78-.78 2.05 0 2.83L4 21.41c.39.39.9.59 1.41.59.51 0 1.02-.2 1.41-.59l7.78-7.78 2.81-2.81c.8-.78.8-2.07 0-2.86zM5.41 20L4 18.59l7.72-7.72 1.47 1.35L5.41 20z\"/>\n",
              "  </svg>\n",
              "      </button>\n",
              "      \n",
              "  <style>\n",
              "    .colab-df-container {\n",
              "      display:flex;\n",
              "      flex-wrap:wrap;\n",
              "      gap: 12px;\n",
              "    }\n",
              "\n",
              "    .colab-df-convert {\n",
              "      background-color: #E8F0FE;\n",
              "      border: none;\n",
              "      border-radius: 50%;\n",
              "      cursor: pointer;\n",
              "      display: none;\n",
              "      fill: #1967D2;\n",
              "      height: 32px;\n",
              "      padding: 0 0 0 0;\n",
              "      width: 32px;\n",
              "    }\n",
              "\n",
              "    .colab-df-convert:hover {\n",
              "      background-color: #E2EBFA;\n",
              "      box-shadow: 0px 1px 2px rgba(60, 64, 67, 0.3), 0px 1px 3px 1px rgba(60, 64, 67, 0.15);\n",
              "      fill: #174EA6;\n",
              "    }\n",
              "\n",
              "    [theme=dark] .colab-df-convert {\n",
              "      background-color: #3B4455;\n",
              "      fill: #D2E3FC;\n",
              "    }\n",
              "\n",
              "    [theme=dark] .colab-df-convert:hover {\n",
              "      background-color: #434B5C;\n",
              "      box-shadow: 0px 1px 3px 1px rgba(0, 0, 0, 0.15);\n",
              "      filter: drop-shadow(0px 1px 2px rgba(0, 0, 0, 0.3));\n",
              "      fill: #FFFFFF;\n",
              "    }\n",
              "  </style>\n",
              "\n",
              "      <script>\n",
              "        const buttonEl =\n",
              "          document.querySelector('#df-be75ef4f-499f-4e13-a437-aa08100d8587 button.colab-df-convert');\n",
              "        buttonEl.style.display =\n",
              "          google.colab.kernel.accessAllowed ? 'block' : 'none';\n",
              "\n",
              "        async function convertToInteractive(key) {\n",
              "          const element = document.querySelector('#df-be75ef4f-499f-4e13-a437-aa08100d8587');\n",
              "          const dataTable =\n",
              "            await google.colab.kernel.invokeFunction('convertToInteractive',\n",
              "                                                     [key], {});\n",
              "          if (!dataTable) return;\n",
              "\n",
              "          const docLinkHtml = 'Like what you see? Visit the ' +\n",
              "            '<a target=\"_blank\" href=https://colab.research.google.com/notebooks/data_table.ipynb>data table notebook</a>'\n",
              "            + ' to learn more about interactive tables.';\n",
              "          element.innerHTML = '';\n",
              "          dataTable['output_type'] = 'display_data';\n",
              "          await google.colab.output.renderOutput(dataTable, element);\n",
              "          const docLink = document.createElement('div');\n",
              "          docLink.innerHTML = docLinkHtml;\n",
              "          element.appendChild(docLink);\n",
              "        }\n",
              "      </script>\n",
              "    </div>\n",
              "  </div>\n",
              "  "
            ],
            "application/vnd.google.colaboratory.module+javascript": "\n      import \"https://ssl.gstatic.com/colaboratory/data_table/f872b2c2305463fd/data_table.js\";\n\n      window.createDataTable({\n        data: [[{\n            'v': 0,\n            'f': \"0\",\n        },\n\"positive\",\n[\"@\", \"VirginAmerica\", \"plus\", \"you\", \"have\", \"added\", \"commercials\", \"to\", \"the\", \"experience\", \"...\", \"tacky\", \".\"],\n{\n            'v': 1,\n            'f': \"1\",\n        }],\n [{\n            'v': 1,\n            'f': \"1\",\n        },\n\"negative\",\n[\"@\", \"VirginAmerica\", \"it\", \"is\", \"really\", \"aggressive\", \"to\", \"blast\", \"obnoxious\", \"``\", \"entertainment\", \"''\", \"in\", \"your\", \"guests\", \"'\", \"faces\", \"&\", \"they\", \"have\", \"little\", \"recourse\"],\n{\n            'v': 0,\n            'f': \"0\",\n        }],\n [{\n            'v': 2,\n            'f': \"2\",\n        },\n\"negative\",\n[\"@\", \"VirginAmerica\", \"and\", \"it\", \"is\", \"a\", \"really\", \"big\", \"bad\", \"thing\", \"about\", \"it\"],\n{\n            'v': 0,\n            'f': \"0\",\n        }],\n [{\n            'v': 3,\n            'f': \"3\",\n        },\n\"negative\",\n[\"@\", \"VirginAmerica\", \"seriously\", \"would\", \"pay\", \"$\", \"a\", \"flight\", \"for\", \"seats\", \"that\", \"did\", \"not\", \"have\", \"this\", \"playing\", \".\", \"it\", \"is\", \"really\", \"the\", \"only\", \"bad\", \"thing\", \"about\", \"flying\", \"VA\"],\n{\n            'v': 0,\n            'f': \"0\",\n        }],\n [{\n            'v': 4,\n            'f': \"4\",\n        },\n\"positive\",\n[\"@\", \"VirginAmerica\", \"yes\", \",\", \"nearly\", \"every\", \"time\", \"I\", \"fly\", \"VX\", \"this\", \"``\", \"ear\", \"worm\", \"''\", \"will\", \"not\", \"go\", \"away\", \":\", \")\"],\n{\n            'v': 1,\n            'f': \"1\",\n        }]],\n        columns: [[\"number\", \"index\"], [\"string\", \"airline_sentiment\"], [\"string\", \"text\"], [\"number\", \"Sentiment\"]],\n        columnOptions: [{\"width\": \"1px\", \"className\": \"index_column\"}],\n        rowsPerPage: 25,\n        helpUrl: \"https://colab.research.google.com/notebooks/data_table.ipynb\",\n        suppressOutputScrolling: true,\n        minimumWidth: undefined,\n      });\n    "
          },
          "metadata": {},
          "execution_count": 176
        }
      ]
    },
    {
      "cell_type": "markdown",
      "source": [
        "**Remove special characters and punctuations**"
      ],
      "metadata": {
        "id": "SkhJMRTIGtcc"
      }
    },
    {
      "cell_type": "code",
      "source": [
        "# Function to remove Special Characters and Punctuations\n",
        "def remove_special_character_punctuation(list_of_words): \n",
        "    pattern = '[^A-Za-z0-9]+'\n",
        "    list = [re.sub(pattern, '', i) for i in list_of_words] \n",
        "    return list"
      ],
      "metadata": {
        "id": "B3RJlKTrRg6M"
      },
      "execution_count": 177,
      "outputs": []
    },
    {
      "cell_type": "markdown",
      "source": [
        "**Removal of stopwords**"
      ],
      "metadata": {
        "id": "4b24t4ZsV5NM"
      }
    },
    {
      "cell_type": "code",
      "source": [
        "# download a file with English stopwords\n",
        "import nltk\n",
        "nltk.download('stopwords')\n",
        "\n",
        "# verifying the stopwords have been downloaded and imported successfully\n",
        "from nltk.corpus import stopwords\n",
        "#stopwords.words('english')\n",
        "#stopwords.words()[::3]"
      ],
      "metadata": {
        "colab": {
          "base_uri": "https://localhost:8080/"
        },
        "id": "6o9K_TiUWCPU",
        "outputId": "ec42a24b-eae1-44b5-8bcc-12812fa24272"
      },
      "execution_count": 178,
      "outputs": [
        {
          "output_type": "stream",
          "name": "stdout",
          "text": [
            "[nltk_data] Downloading package stopwords to /root/nltk_data...\n",
            "[nltk_data]   Package stopwords is already up-to-date!\n"
          ]
        }
      ]
    },
    {
      "cell_type": "code",
      "source": [
        "# create an english stopword object\n",
        "stopwords = stopwords.words('english')\n",
        "\n",
        "#Function to remove Stop words\n",
        "def remove_stopwords(words):\n",
        "    \"\"\"Remove stop words from list of tokenized words\"\"\"\n",
        "    new_words = []   \n",
        "    for word in words:  \n",
        "        if word not in stopwords:\n",
        "            #Append Tokens not falling under stopwords\n",
        "            new_words.append(word)\n",
        "    return new_words"
      ],
      "metadata": {
        "id": "-6MflA06g0hE"
      },
      "execution_count": 179,
      "outputs": []
    },
    {
      "cell_type": "markdown",
      "source": [
        "**Conversion to Lower case**"
      ],
      "metadata": {
        "id": "dab5ZzpgGtVP"
      }
    },
    {
      "cell_type": "code",
      "source": [
        "def to_lowercase(words):\n",
        "    \"\"\"Convert all characters to lowercase from list of tokenized words\"\"\"\n",
        "    new_words = []                        # Create empty list to store pre-processed words.\n",
        "    for word in words:\n",
        "        new_word = word.lower()           # Converting token to lowercase\n",
        "        new_words.append(new_word)        # Append processed procesed token back to new list.\n",
        "    return new_words"
      ],
      "metadata": {
        "id": "MF4Qw2BNRMYX"
      },
      "execution_count": 180,
      "outputs": []
    },
    {
      "cell_type": "markdown",
      "source": [
        "**Stemming**"
      ],
      "metadata": {
        "id": "mmJ82-mSGtGX"
      }
    },
    {
      "cell_type": "code",
      "source": [
        "def stem_words(words):\n",
        "\n",
        "    \"\"\"Stem words in list of tokenized words\"\"\"\n",
        "    stemmer = LancasterStemmer()\n",
        "     \n",
        "    stems = []             # Create empty list to store tokens post stemming words              \n",
        "    for word in words:\n",
        "        stem = stemmer.stem(word)\n",
        "        stems.append(stem)                # Append processed words to new list.\n",
        "    return ' '.join(stems)    #Join the words in the list to convert back to text string in the dataframe\n",
        "\n"
      ],
      "metadata": {
        "id": "5qMKfsBbYRbG"
      },
      "execution_count": 181,
      "outputs": []
    },
    {
      "cell_type": "markdown",
      "source": [
        "**Lemmatization**"
      ],
      "metadata": {
        "id": "IbzekCUeHUK2"
      }
    },
    {
      "cell_type": "code",
      "source": [
        "def lemmatize_verbs(words):\n",
        "    \"\"\"Lemmatize verbs in list of tokenized words\"\"\"\n",
        "    lemmatizer = WordNetLemmatizer()      #Creating Object for Word Net Lemmatizer\n",
        "    lemmas = []                           # Create empty list to store pre-processed words.\n",
        "    for word in words:\n",
        "        lemma = lemmatizer.lemmatize(word, pos='v')\n",
        "        lemmas.append(lemma)              # Append processed words to new list.\n",
        "    return lemmas"
      ],
      "metadata": {
        "id": "iSVSWvz5W7Y8"
      },
      "execution_count": 182,
      "outputs": []
    },
    {
      "cell_type": "markdown",
      "source": [
        "**Remove non ASCII words**"
      ],
      "metadata": {
        "id": "hEma6J3hQNeW"
      }
    },
    {
      "cell_type": "code",
      "source": [
        "#Function to remove non ASCII words\n",
        "def remove_non_ascii(words):\n",
        "    \"\"\"Remove non-ASCII characters from list of tokenized words\"\"\"\n",
        "    new_words = []\n",
        "    for word in words:\n",
        "        #Encode & Decode Tokens to UTF-8\n",
        "        new_word = unicodedata.normalize('NFKD', word).encode('ascii', 'ignore').decode('utf-8', 'ignore')\n",
        "        #Append Tokens Back\n",
        "        new_words.append(new_word)\n",
        "    return new_words"
      ],
      "metadata": {
        "id": "ttGon7vEQRP4"
      },
      "execution_count": 183,
      "outputs": []
    },
    {
      "cell_type": "markdown",
      "source": [
        "**Remove empty String**"
      ],
      "metadata": {
        "id": "vnuzZ0B2GtPG"
      }
    },
    {
      "cell_type": "code",
      "source": [
        "def remove_empty_string(words):\n",
        "  return list(filter(None, words))"
      ],
      "metadata": {
        "id": "ppt-MgxiWto3"
      },
      "execution_count": 184,
      "outputs": []
    },
    {
      "cell_type": "markdown",
      "source": [
        "**Complete Pre-preocessing**"
      ],
      "metadata": {
        "id": "rlY9sxd3HUF3"
      }
    },
    {
      "cell_type": "code",
      "source": [
        "#Function to call all functions and finally join the tokens back\n",
        "def clean_data(words):\n",
        "    #Function Call\n",
        "    words = remove_non_ascii(words)\n",
        "    words = to_lowercase(words)\n",
        "    words = remove_special_character_punctuation(words)\n",
        "    words = remove_stopwords(words)\n",
        "    #words = stem_words(words)\n",
        "    words = lemmatize_verbs(words)\n",
        "    words =  remove_empty_string(words)\n",
        "    return words"
      ],
      "metadata": {
        "id": "2l3IKuOoZO4w"
      },
      "execution_count": 185,
      "outputs": []
    },
    {
      "cell_type": "code",
      "source": [
        "df['text'] = df['text'].apply(lambda x: clean_data(x))"
      ],
      "metadata": {
        "id": "L4bq93cqx1Ua"
      },
      "execution_count": 186,
      "outputs": []
    },
    {
      "cell_type": "code",
      "source": [
        "#Visualize preprocessed Text\n",
        "df.head()"
      ],
      "metadata": {
        "colab": {
          "base_uri": "https://localhost:8080/",
          "height": 196
        },
        "id": "J5BLDFGkhjOz",
        "outputId": "2500a11a-0d67-4792-b527-cd8960bc5081"
      },
      "execution_count": 187,
      "outputs": [
        {
          "output_type": "execute_result",
          "data": {
            "text/plain": [
              "  airline_sentiment                                               text  \\\n",
              "0          positive  [virginamerica, plus, add, commercials, experi...   \n",
              "1          negative  [virginamerica, really, aggressive, blast, obn...   \n",
              "2          negative           [virginamerica, really, big, bad, thing]   \n",
              "3          negative  [virginamerica, seriously, would, pay, flight,...   \n",
              "4          positive  [virginamerica, yes, nearly, every, time, fly,...   \n",
              "\n",
              "   Sentiment  \n",
              "0          1  \n",
              "1          0  \n",
              "2          0  \n",
              "3          0  \n",
              "4          1  "
            ],
            "text/html": [
              "\n",
              "  <div id=\"df-8d5a9455-418e-4afd-a933-5dadb1de0b81\">\n",
              "    <div class=\"colab-df-container\">\n",
              "      <div>\n",
              "<style scoped>\n",
              "    .dataframe tbody tr th:only-of-type {\n",
              "        vertical-align: middle;\n",
              "    }\n",
              "\n",
              "    .dataframe tbody tr th {\n",
              "        vertical-align: top;\n",
              "    }\n",
              "\n",
              "    .dataframe thead th {\n",
              "        text-align: right;\n",
              "    }\n",
              "</style>\n",
              "<table border=\"1\" class=\"dataframe\">\n",
              "  <thead>\n",
              "    <tr style=\"text-align: right;\">\n",
              "      <th></th>\n",
              "      <th>airline_sentiment</th>\n",
              "      <th>text</th>\n",
              "      <th>Sentiment</th>\n",
              "    </tr>\n",
              "  </thead>\n",
              "  <tbody>\n",
              "    <tr>\n",
              "      <th>0</th>\n",
              "      <td>positive</td>\n",
              "      <td>[virginamerica, plus, add, commercials, experi...</td>\n",
              "      <td>1</td>\n",
              "    </tr>\n",
              "    <tr>\n",
              "      <th>1</th>\n",
              "      <td>negative</td>\n",
              "      <td>[virginamerica, really, aggressive, blast, obn...</td>\n",
              "      <td>0</td>\n",
              "    </tr>\n",
              "    <tr>\n",
              "      <th>2</th>\n",
              "      <td>negative</td>\n",
              "      <td>[virginamerica, really, big, bad, thing]</td>\n",
              "      <td>0</td>\n",
              "    </tr>\n",
              "    <tr>\n",
              "      <th>3</th>\n",
              "      <td>negative</td>\n",
              "      <td>[virginamerica, seriously, would, pay, flight,...</td>\n",
              "      <td>0</td>\n",
              "    </tr>\n",
              "    <tr>\n",
              "      <th>4</th>\n",
              "      <td>positive</td>\n",
              "      <td>[virginamerica, yes, nearly, every, time, fly,...</td>\n",
              "      <td>1</td>\n",
              "    </tr>\n",
              "  </tbody>\n",
              "</table>\n",
              "</div>\n",
              "      <button class=\"colab-df-convert\" onclick=\"convertToInteractive('df-8d5a9455-418e-4afd-a933-5dadb1de0b81')\"\n",
              "              title=\"Convert this dataframe to an interactive table.\"\n",
              "              style=\"display:none;\">\n",
              "        \n",
              "  <svg xmlns=\"http://www.w3.org/2000/svg\" height=\"24px\"viewBox=\"0 0 24 24\"\n",
              "       width=\"24px\">\n",
              "    <path d=\"M0 0h24v24H0V0z\" fill=\"none\"/>\n",
              "    <path d=\"M18.56 5.44l.94 2.06.94-2.06 2.06-.94-2.06-.94-.94-2.06-.94 2.06-2.06.94zm-11 1L8.5 8.5l.94-2.06 2.06-.94-2.06-.94L8.5 2.5l-.94 2.06-2.06.94zm10 10l.94 2.06.94-2.06 2.06-.94-2.06-.94-.94-2.06-.94 2.06-2.06.94z\"/><path d=\"M17.41 7.96l-1.37-1.37c-.4-.4-.92-.59-1.43-.59-.52 0-1.04.2-1.43.59L10.3 9.45l-7.72 7.72c-.78.78-.78 2.05 0 2.83L4 21.41c.39.39.9.59 1.41.59.51 0 1.02-.2 1.41-.59l7.78-7.78 2.81-2.81c.8-.78.8-2.07 0-2.86zM5.41 20L4 18.59l7.72-7.72 1.47 1.35L5.41 20z\"/>\n",
              "  </svg>\n",
              "      </button>\n",
              "      \n",
              "  <style>\n",
              "    .colab-df-container {\n",
              "      display:flex;\n",
              "      flex-wrap:wrap;\n",
              "      gap: 12px;\n",
              "    }\n",
              "\n",
              "    .colab-df-convert {\n",
              "      background-color: #E8F0FE;\n",
              "      border: none;\n",
              "      border-radius: 50%;\n",
              "      cursor: pointer;\n",
              "      display: none;\n",
              "      fill: #1967D2;\n",
              "      height: 32px;\n",
              "      padding: 0 0 0 0;\n",
              "      width: 32px;\n",
              "    }\n",
              "\n",
              "    .colab-df-convert:hover {\n",
              "      background-color: #E2EBFA;\n",
              "      box-shadow: 0px 1px 2px rgba(60, 64, 67, 0.3), 0px 1px 3px 1px rgba(60, 64, 67, 0.15);\n",
              "      fill: #174EA6;\n",
              "    }\n",
              "\n",
              "    [theme=dark] .colab-df-convert {\n",
              "      background-color: #3B4455;\n",
              "      fill: #D2E3FC;\n",
              "    }\n",
              "\n",
              "    [theme=dark] .colab-df-convert:hover {\n",
              "      background-color: #434B5C;\n",
              "      box-shadow: 0px 1px 3px 1px rgba(0, 0, 0, 0.15);\n",
              "      filter: drop-shadow(0px 1px 2px rgba(0, 0, 0, 0.3));\n",
              "      fill: #FFFFFF;\n",
              "    }\n",
              "  </style>\n",
              "\n",
              "      <script>\n",
              "        const buttonEl =\n",
              "          document.querySelector('#df-8d5a9455-418e-4afd-a933-5dadb1de0b81 button.colab-df-convert');\n",
              "        buttonEl.style.display =\n",
              "          google.colab.kernel.accessAllowed ? 'block' : 'none';\n",
              "\n",
              "        async function convertToInteractive(key) {\n",
              "          const element = document.querySelector('#df-8d5a9455-418e-4afd-a933-5dadb1de0b81');\n",
              "          const dataTable =\n",
              "            await google.colab.kernel.invokeFunction('convertToInteractive',\n",
              "                                                     [key], {});\n",
              "          if (!dataTable) return;\n",
              "\n",
              "          const docLinkHtml = 'Like what you see? Visit the ' +\n",
              "            '<a target=\"_blank\" href=https://colab.research.google.com/notebooks/data_table.ipynb>data table notebook</a>'\n",
              "            + ' to learn more about interactive tables.';\n",
              "          element.innerHTML = '';\n",
              "          dataTable['output_type'] = 'display_data';\n",
              "          await google.colab.output.renderOutput(dataTable, element);\n",
              "          const docLink = document.createElement('div');\n",
              "          docLink.innerHTML = docLinkHtml;\n",
              "          element.appendChild(docLink);\n",
              "        }\n",
              "      </script>\n",
              "    </div>\n",
              "  </div>\n",
              "  "
            ],
            "application/vnd.google.colaboratory.module+javascript": "\n      import \"https://ssl.gstatic.com/colaboratory/data_table/f872b2c2305463fd/data_table.js\";\n\n      window.createDataTable({\n        data: [[{\n            'v': 0,\n            'f': \"0\",\n        },\n\"positive\",\n[\"virginamerica\", \"plus\", \"add\", \"commercials\", \"experience\", \"tacky\"],\n{\n            'v': 1,\n            'f': \"1\",\n        }],\n [{\n            'v': 1,\n            'f': \"1\",\n        },\n\"negative\",\n[\"virginamerica\", \"really\", \"aggressive\", \"blast\", \"obnoxious\", \"entertainment\", \"guests\", \"face\", \"little\", \"recourse\"],\n{\n            'v': 0,\n            'f': \"0\",\n        }],\n [{\n            'v': 2,\n            'f': \"2\",\n        },\n\"negative\",\n[\"virginamerica\", \"really\", \"big\", \"bad\", \"thing\"],\n{\n            'v': 0,\n            'f': \"0\",\n        }],\n [{\n            'v': 3,\n            'f': \"3\",\n        },\n\"negative\",\n[\"virginamerica\", \"seriously\", \"would\", \"pay\", \"flight\", \"seat\", \"play\", \"really\", \"bad\", \"thing\", \"fly\", \"va\"],\n{\n            'v': 0,\n            'f': \"0\",\n        }],\n [{\n            'v': 4,\n            'f': \"4\",\n        },\n\"positive\",\n[\"virginamerica\", \"yes\", \"nearly\", \"every\", \"time\", \"fly\", \"vx\", \"ear\", \"worm\", \"go\", \"away\"],\n{\n            'v': 1,\n            'f': \"1\",\n        }]],\n        columns: [[\"number\", \"index\"], [\"string\", \"airline_sentiment\"], [\"string\", \"text\"], [\"number\", \"Sentiment\"]],\n        columnOptions: [{\"width\": \"1px\", \"className\": \"index_column\"}],\n        rowsPerPage: 25,\n        helpUrl: \"https://colab.research.google.com/notebooks/data_table.ipynb\",\n        suppressOutputScrolling: true,\n        minimumWidth: undefined,\n      });\n    "
          },
          "metadata": {},
          "execution_count": 187
        }
      ]
    },
    {
      "cell_type": "code",
      "source": [
        "# # show which stop words have been removed\n",
        "# from nltk.corpus import stopwords\n",
        "# en_stops = list(stopwords.words('english'))\n",
        "\n",
        "# all_words = list(df['text'])\n",
        "# for word in all_words: \n",
        "#     if word not in en_stops:\n",
        "#         print(word)"
      ],
      "metadata": {
        "id": "RVPbSUNciH1c"
      },
      "execution_count": null,
      "outputs": []
    },
    {
      "cell_type": "markdown",
      "source": [
        "**Join the words in the list to convert back to text string in the dataframe**"
      ],
      "metadata": {
        "id": "8gTq2pFbHixF"
      }
    },
    {
      "cell_type": "code",
      "source": [
        "# convert string to list of tokens\n",
        "import nltk\n",
        "nltk.download('averaged_perceptron_tagger')\n",
        "\n",
        "for i, row in df.iterrows():\n",
        "    \n",
        "    sentence=str(df.at[i,'text'])\n",
        "    \n",
        "    tagged_sentence = nltk.tag.pos_tag(sentence.split())\n",
        "    \n",
        "    edited_sentence = [word for word,tag in tagged_sentence if tag != 'NNP' and tag != 'NNPS']\n",
        "    \n",
        "    df.at[i,'text']=(' '.join(edited_sentence))\n",
        "    \n",
        "#df.head()"
      ],
      "metadata": {
        "colab": {
          "base_uri": "https://localhost:8080/"
        },
        "id": "FVeGyB8Nj0Kd",
        "outputId": "5ec4d6a3-5d99-4f55-b78c-d1589b2fbdcc"
      },
      "execution_count": 190,
      "outputs": [
        {
          "output_type": "stream",
          "name": "stdout",
          "text": [
            "[nltk_data] Downloading package averaged_perceptron_tagger to\n",
            "[nltk_data]     /root/nltk_data...\n",
            "[nltk_data]   Package averaged_perceptron_tagger is already up-to-\n",
            "[nltk_data]       date!\n"
          ]
        }
      ]
    },
    {
      "cell_type": "markdown",
      "source": [
        "**Print the first five rows of the DataFrame after preprocessing**"
      ],
      "metadata": {
        "id": "R5p0T6fXGmij"
      }
    },
    {
      "cell_type": "code",
      "source": [
        "df.head()"
      ],
      "metadata": {
        "colab": {
          "base_uri": "https://localhost:8080/",
          "height": 196
        },
        "id": "cG60JajJHtyH",
        "outputId": "f7b4326d-5014-424d-e0e6-16879c9611c5"
      },
      "execution_count": 189,
      "outputs": [
        {
          "output_type": "execute_result",
          "data": {
            "text/plain": [
              "  airline_sentiment                                               text  \\\n",
              "0          positive  ['virginamerica', 'plus', 'add', 'commercials'...   \n",
              "1          negative  ['virginamerica', 'really', 'aggressive', 'bla...   \n",
              "2          negative  ['virginamerica', 'really', 'big', 'bad', 'thi...   \n",
              "3          negative  ['virginamerica', 'seriously', 'would', 'pay',...   \n",
              "4          positive  ['virginamerica', 'yes', 'nearly', 'every', 't...   \n",
              "\n",
              "   Sentiment  \n",
              "0          1  \n",
              "1          0  \n",
              "2          0  \n",
              "3          0  \n",
              "4          1  "
            ],
            "text/html": [
              "\n",
              "  <div id=\"df-2dd9f878-8cd9-4bbc-8636-f2a0ccc3b580\">\n",
              "    <div class=\"colab-df-container\">\n",
              "      <div>\n",
              "<style scoped>\n",
              "    .dataframe tbody tr th:only-of-type {\n",
              "        vertical-align: middle;\n",
              "    }\n",
              "\n",
              "    .dataframe tbody tr th {\n",
              "        vertical-align: top;\n",
              "    }\n",
              "\n",
              "    .dataframe thead th {\n",
              "        text-align: right;\n",
              "    }\n",
              "</style>\n",
              "<table border=\"1\" class=\"dataframe\">\n",
              "  <thead>\n",
              "    <tr style=\"text-align: right;\">\n",
              "      <th></th>\n",
              "      <th>airline_sentiment</th>\n",
              "      <th>text</th>\n",
              "      <th>Sentiment</th>\n",
              "    </tr>\n",
              "  </thead>\n",
              "  <tbody>\n",
              "    <tr>\n",
              "      <th>0</th>\n",
              "      <td>positive</td>\n",
              "      <td>['virginamerica', 'plus', 'add', 'commercials'...</td>\n",
              "      <td>1</td>\n",
              "    </tr>\n",
              "    <tr>\n",
              "      <th>1</th>\n",
              "      <td>negative</td>\n",
              "      <td>['virginamerica', 'really', 'aggressive', 'bla...</td>\n",
              "      <td>0</td>\n",
              "    </tr>\n",
              "    <tr>\n",
              "      <th>2</th>\n",
              "      <td>negative</td>\n",
              "      <td>['virginamerica', 'really', 'big', 'bad', 'thi...</td>\n",
              "      <td>0</td>\n",
              "    </tr>\n",
              "    <tr>\n",
              "      <th>3</th>\n",
              "      <td>negative</td>\n",
              "      <td>['virginamerica', 'seriously', 'would', 'pay',...</td>\n",
              "      <td>0</td>\n",
              "    </tr>\n",
              "    <tr>\n",
              "      <th>4</th>\n",
              "      <td>positive</td>\n",
              "      <td>['virginamerica', 'yes', 'nearly', 'every', 't...</td>\n",
              "      <td>1</td>\n",
              "    </tr>\n",
              "  </tbody>\n",
              "</table>\n",
              "</div>\n",
              "      <button class=\"colab-df-convert\" onclick=\"convertToInteractive('df-2dd9f878-8cd9-4bbc-8636-f2a0ccc3b580')\"\n",
              "              title=\"Convert this dataframe to an interactive table.\"\n",
              "              style=\"display:none;\">\n",
              "        \n",
              "  <svg xmlns=\"http://www.w3.org/2000/svg\" height=\"24px\"viewBox=\"0 0 24 24\"\n",
              "       width=\"24px\">\n",
              "    <path d=\"M0 0h24v24H0V0z\" fill=\"none\"/>\n",
              "    <path d=\"M18.56 5.44l.94 2.06.94-2.06 2.06-.94-2.06-.94-.94-2.06-.94 2.06-2.06.94zm-11 1L8.5 8.5l.94-2.06 2.06-.94-2.06-.94L8.5 2.5l-.94 2.06-2.06.94zm10 10l.94 2.06.94-2.06 2.06-.94-2.06-.94-.94-2.06-.94 2.06-2.06.94z\"/><path d=\"M17.41 7.96l-1.37-1.37c-.4-.4-.92-.59-1.43-.59-.52 0-1.04.2-1.43.59L10.3 9.45l-7.72 7.72c-.78.78-.78 2.05 0 2.83L4 21.41c.39.39.9.59 1.41.59.51 0 1.02-.2 1.41-.59l7.78-7.78 2.81-2.81c.8-.78.8-2.07 0-2.86zM5.41 20L4 18.59l7.72-7.72 1.47 1.35L5.41 20z\"/>\n",
              "  </svg>\n",
              "      </button>\n",
              "      \n",
              "  <style>\n",
              "    .colab-df-container {\n",
              "      display:flex;\n",
              "      flex-wrap:wrap;\n",
              "      gap: 12px;\n",
              "    }\n",
              "\n",
              "    .colab-df-convert {\n",
              "      background-color: #E8F0FE;\n",
              "      border: none;\n",
              "      border-radius: 50%;\n",
              "      cursor: pointer;\n",
              "      display: none;\n",
              "      fill: #1967D2;\n",
              "      height: 32px;\n",
              "      padding: 0 0 0 0;\n",
              "      width: 32px;\n",
              "    }\n",
              "\n",
              "    .colab-df-convert:hover {\n",
              "      background-color: #E2EBFA;\n",
              "      box-shadow: 0px 1px 2px rgba(60, 64, 67, 0.3), 0px 1px 3px 1px rgba(60, 64, 67, 0.15);\n",
              "      fill: #174EA6;\n",
              "    }\n",
              "\n",
              "    [theme=dark] .colab-df-convert {\n",
              "      background-color: #3B4455;\n",
              "      fill: #D2E3FC;\n",
              "    }\n",
              "\n",
              "    [theme=dark] .colab-df-convert:hover {\n",
              "      background-color: #434B5C;\n",
              "      box-shadow: 0px 1px 3px 1px rgba(0, 0, 0, 0.15);\n",
              "      filter: drop-shadow(0px 1px 2px rgba(0, 0, 0, 0.3));\n",
              "      fill: #FFFFFF;\n",
              "    }\n",
              "  </style>\n",
              "\n",
              "      <script>\n",
              "        const buttonEl =\n",
              "          document.querySelector('#df-2dd9f878-8cd9-4bbc-8636-f2a0ccc3b580 button.colab-df-convert');\n",
              "        buttonEl.style.display =\n",
              "          google.colab.kernel.accessAllowed ? 'block' : 'none';\n",
              "\n",
              "        async function convertToInteractive(key) {\n",
              "          const element = document.querySelector('#df-2dd9f878-8cd9-4bbc-8636-f2a0ccc3b580');\n",
              "          const dataTable =\n",
              "            await google.colab.kernel.invokeFunction('convertToInteractive',\n",
              "                                                     [key], {});\n",
              "          if (!dataTable) return;\n",
              "\n",
              "          const docLinkHtml = 'Like what you see? Visit the ' +\n",
              "            '<a target=\"_blank\" href=https://colab.research.google.com/notebooks/data_table.ipynb>data table notebook</a>'\n",
              "            + ' to learn more about interactive tables.';\n",
              "          element.innerHTML = '';\n",
              "          dataTable['output_type'] = 'display_data';\n",
              "          await google.colab.output.renderOutput(dataTable, element);\n",
              "          const docLink = document.createElement('div');\n",
              "          docLink.innerHTML = docLinkHtml;\n",
              "          element.appendChild(docLink);\n",
              "        }\n",
              "      </script>\n",
              "    </div>\n",
              "  </div>\n",
              "  "
            ],
            "application/vnd.google.colaboratory.module+javascript": "\n      import \"https://ssl.gstatic.com/colaboratory/data_table/f872b2c2305463fd/data_table.js\";\n\n      window.createDataTable({\n        data: [[{\n            'v': 0,\n            'f': \"0\",\n        },\n\"positive\",\n\"['virginamerica', 'plus', 'add', 'commercials', 'experience', 'tacky']\",\n{\n            'v': 1,\n            'f': \"1\",\n        }],\n [{\n            'v': 1,\n            'f': \"1\",\n        },\n\"negative\",\n\"['virginamerica', 'really', 'aggressive', 'blast', 'obnoxious', 'entertainment', 'guests', 'face', 'little', 'recourse']\",\n{\n            'v': 0,\n            'f': \"0\",\n        }],\n [{\n            'v': 2,\n            'f': \"2\",\n        },\n\"negative\",\n\"['virginamerica', 'really', 'big', 'bad', 'thing']\",\n{\n            'v': 0,\n            'f': \"0\",\n        }],\n [{\n            'v': 3,\n            'f': \"3\",\n        },\n\"negative\",\n\"['virginamerica', 'seriously', 'would', 'pay', 'flight', 'seat', 'play', 'really', 'bad', 'thing', 'fly', 'va']\",\n{\n            'v': 0,\n            'f': \"0\",\n        }],\n [{\n            'v': 4,\n            'f': \"4\",\n        },\n\"positive\",\n\"['virginamerica', 'yes', 'nearly', 'every', 'time', 'fly', 'vx', 'ear', 'worm', 'go', 'away']\",\n{\n            'v': 1,\n            'f': \"1\",\n        }]],\n        columns: [[\"number\", \"index\"], [\"string\", \"airline_sentiment\"], [\"string\", \"text\"], [\"number\", \"Sentiment\"]],\n        columnOptions: [{\"width\": \"1px\", \"className\": \"index_column\"}],\n        rowsPerPage: 25,\n        helpUrl: \"https://colab.research.google.com/notebooks/data_table.ipynb\",\n        suppressOutputScrolling: true,\n        minimumWidth: undefined,\n      });\n    "
          },
          "metadata": {},
          "execution_count": 189
        }
      ]
    },
    {
      "cell_type": "markdown",
      "source": [
        "**Handling Missing Values**"
      ],
      "metadata": {
        "id": "pCe8yZPNcLTn"
      }
    },
    {
      "cell_type": "code",
      "source": [
        "df.isna().sum()"
      ],
      "metadata": {
        "colab": {
          "base_uri": "https://localhost:8080/"
        },
        "id": "tb1BkLWEcKwM",
        "outputId": "d9795efc-6007-4a0c-ca1b-cc1dc600d76d"
      },
      "execution_count": 191,
      "outputs": [
        {
          "output_type": "execute_result",
          "data": {
            "text/plain": [
              "airline_sentiment    0\n",
              "text                 0\n",
              "Sentiment            0\n",
              "dtype: int64"
            ]
          },
          "metadata": {},
          "execution_count": 191
        }
      ]
    },
    {
      "cell_type": "markdown",
      "metadata": {
        "id": "NF2LEOiUVuSf"
      },
      "source": [
        "## **6. Modelling , tuning and Evaluation**\n",
        "- Fit the model using vectorized column \n",
        "- Tune the model to improve the accuracy \n",
        "- Evaluate the model using the confusion matrix \n",
        "- Target the final score >= 75% \n",
        "- Print the top 40 features and plot their word cloud using both types of vectorization. "
      ]
    },
    {
      "cell_type": "markdown",
      "source": [
        "## **Modeling Building using Classifier implementing the k-nearest neighbors vote.**"
      ],
      "metadata": {
        "id": "mltje59TtADr"
      }
    },
    {
      "cell_type": "markdown",
      "metadata": {
        "id": "nVnNVCJ7ViMW"
      },
      "source": [
        "## **5. Vectorization**\n",
        "Convert text data to numbers.\n",
        "\n",
        "- a. Use CountVectorizer. \n",
        "- b. Use TfidfVectorizer. \n",
        "- Apply count vectorizer, Tf-IDF vectorizer, on the required text column to make it suitable for fitting the model"
      ]
    },
    {
      "cell_type": "markdown",
      "source": [
        "### **KNN on CountVectorizer**"
      ],
      "metadata": {
        "id": "-bDtP-2R91Ms"
      }
    },
    {
      "cell_type": "code",
      "source": [
        "#training involves our clean text as independent varaible and the predicted sentiments as the dependent variable \n",
        "X = np.array(df['text'])\n",
        "Y = np.array(df['Sentiment'])\n",
        "# splitting into train-test-validation set\n",
        "X_train, X_test, Y_train, Y_test = train_test_split(X, Y, test_size=.33, random_state=0)\n",
        "X_tr, X_cv, Y_tr, Y_cv = train_test_split(X_train, Y_train, test_size=.2, random_state=0)"
      ],
      "metadata": {
        "id": "0OSIxk1Dd5rg"
      },
      "execution_count": 192,
      "outputs": []
    },
    {
      "cell_type": "code",
      "source": [
        "#looking at the shapes of each of the training, test and validation sets\n",
        "print('X_train, Y_train', X_train.shape, Y_train.shape)\n",
        "print('X_test, Y_test', X_test.shape, Y_test.shape)\n",
        "print('X_tr, Y_tr', X_tr.shape, Y_tr.shape)\n",
        "print('X_cv, Y_cv', X_cv.shape, Y_cv.shape)"
      ],
      "metadata": {
        "colab": {
          "base_uri": "https://localhost:8080/"
        },
        "id": "iU4bnHoymWwV",
        "outputId": "dce1e21d-c3fc-4a4d-e80a-df459cfcb03e"
      },
      "execution_count": 193,
      "outputs": [
        {
          "output_type": "stream",
          "name": "stdout",
          "text": [
            "X_train, Y_train (7694,) (7694,)\n",
            "X_test, Y_test (3791,) (3791,)\n",
            "X_tr, Y_tr (6155,) (6155,)\n",
            "X_cv, Y_cv (1539,) (1539,)\n"
          ]
        }
      ]
    },
    {
      "cell_type": "code",
      "source": [
        "from sklearn.neighbors import KNeighborsClassifier\n",
        "#uses training and cross validation sets for hyperparamter tuning\n",
        "def KNN(X_train,X_cv,Y_train,Y_cv,algo):\n",
        "    k = []\n",
        "    max_k = 0\n",
        "    #appending auc scores of cross validation and training set in the below arrays respectively\n",
        "    pred_cv = []\n",
        "    pred_train = []\n",
        "    max_roc_auc=-1\n",
        "    for i in range(1,30,2):\n",
        "        if algo == 'brute':\n",
        "            knn =KNeighborsClassifier(n_neighbors=i,algorithm='brute') \n",
        "        else:\n",
        "            knn =KNeighborsClassifier(n_neighbors=i,algorithm='kd_tree')\n",
        "        knn.fit(X_train,Y_train)\n",
        "        probs = knn.predict_proba(X_cv)\n",
        "        prob = knn.predict_proba(X_train)\n",
        "        # keep probabilities for the positive outcome only\n",
        "        probs = probs[:, 1]\n",
        "        prob  = prob[:, 1]\n",
        "        auc_score_test = roc_auc_score(Y_cv,probs)   #find AUC score\n",
        "        auc_score_train = roc_auc_score(Y_train,prob)\n",
        "        print(i,\" ------> \",auc_score_test)\n",
        "        pred_cv.append(auc_score_test)\n",
        "        pred_train.append(auc_score_train)\n",
        "        k.append(i)\n",
        "        if(max_roc_auc<auc_score_test):\n",
        "            max_roc_auc=auc_score_test\n",
        "            max_k=i\n",
        "    print('\\nThe optimal number of neighbors is %d.' % max_k)\n",
        "    plt.plot(k, pred_cv,'r-', label = 'CV Data')\n",
        "    plt.plot(k,pred_train,'g-', label ='Train Data')\n",
        "    plt.legend(loc='upper right')\n",
        "    plt.title(\"K v/s Auc Score\")\n",
        "    plt.ylabel('Auc Score')\n",
        "    plt.xlabel('K')\n",
        "    plt.show()\n",
        "    # calculate roc curve\n",
        "    fpr, tpr, thresholds = roc_curve(Y_cv,probs)\n",
        "    # plot no skill curve\n",
        "    plt.plot([0, 1], [0, 1], linestyle='--')\n",
        "    # plot the roc curve for the model\n",
        "    plt.plot(fpr, tpr, marker='.')\n",
        "    #plt.plot(k,pred_cv)\n",
        "    plt.title(\"Line Plot of ROC Curve\")\n",
        "    plt.ylabel('True Positive Rate')\n",
        "    plt.xlabel('False Positive Rate')\n",
        "    plt.show()"
      ],
      "metadata": {
        "id": "xBubNJ9Qm6v4"
      },
      "execution_count": 194,
      "outputs": []
    },
    {
      "cell_type": "code",
      "source": [
        "#The below two lists are created to store auc and f1 scores respectively for all the vectorizations we are going to use \n",
        "AUC,F1=[],[]\n",
        "def testing(X_train,Y_train,X_test,Y_test,algo,optimal_k):\n",
        "    if algo == 'brute':\n",
        "        knn =KNeighborsClassifier(n_neighbors=optimal_k,algorithm='brute') \n",
        "    else:\n",
        "        knn =KNeighborsClassifier(n_neighbors=optimal_k,algorithm='kd_tree')\n",
        "    knn.fit(X_train,Y_train)\n",
        "    probs = knn.predict_proba(X_test) \n",
        "    # keep probabilities for the positive outcome only\n",
        "    probs = probs[:, 1]\n",
        "    print(\"AUC Score\",roc_auc_score(Y_test,probs))\n",
        "    AUC.append(round(roc_auc_score(Y_test,probs),2))\n",
        "    # calculate roc curve\n",
        "    fpr, tpr, thresholds = roc_curve(Y_test,probs)\n",
        "    # plot no skill\n",
        "    plt.plot([0, 1], [0, 1], linestyle='--')\n",
        "    # plot the roc curve for the model\n",
        "    plt.plot(fpr, tpr, marker='.')\n",
        "    plt.title(\"Line Plot of ROC Curve on Test Data\")\n",
        "    plt.ylabel('True Positive Rate')\n",
        "    plt.xlabel('False Positive Rate')    \n",
        "    plt.show()\n",
        "    prediction=knn.predict(X_test)\n",
        "    cm=confusion_matrix(Y_test,prediction)\n",
        "    cm1 = pd.DataFrame(cm , index = ['positive','negative'] , columns = ['positive','negative'])\n",
        "    plt.figure(figsize = (10,10))\n",
        "    ax=sns.heatmap(cm1,cmap= \"Blues\", linecolor = 'black' , linewidth = 1 , annot = True, fmt='')\n",
        "    ax.set(xlabel=\"Actual Sentiment\", ylabel = \"Predicted Sentiment\")\n",
        "    #printing f1 score and hamming loss\n",
        "    print(\"f1 score for data :\",metrics.f1_score(Y_test, prediction))\n",
        "    F1.append(round(metrics.f1_score(Y_test, prediction),2))\n",
        "    print(\"hamming loss for data:\",metrics.hamming_loss(Y_test,prediction))\n",
        "    print(\"Precision recall report for data:\\n\",metrics.classification_report(Y_test, prediction))"
      ],
      "metadata": {
        "id": "mc1Y_VeDnEAE"
      },
      "execution_count": 195,
      "outputs": []
    },
    {
      "cell_type": "code",
      "source": [
        "#Bag Of Words Vectorization with unigrams and bigrams\n",
        "count_vect = CountVectorizer(ngram_range=(1,2)) #in scikit-learn\n",
        "# In below line we get a Bag of Word model that has cleaned the text, removing non-aphanumeric characters and stop words by the fitting part and \n",
        "# a matrix where each row represents a specific text in corpus and each column represents a word in vocabulary, that is, all words found in corpus\n",
        "#from the transform\n",
        "bow= count_vect.fit(X_tr)\n",
        "bow_train = bow.transform(X_tr)\n",
        "sum_words = bow_train.sum(axis=0) \n",
        "words_freq = [(word, sum_words[0, idx]) for word, idx in bow.vocabulary_.items()]\n",
        "words_freq =sorted(words_freq, key = lambda x: x[1], reverse=True)\n",
        "print(\"Top 20 words with their frequencies in training set are\",words_freq[:20])\n",
        "print(\"The type of count vectorizer \",type(bow_train))\n",
        "print(\"The shape of out text BOW vectorizer \",bow_train.get_shape())\n",
        "#print(\"the number of unique words \", final_counts.get_shape()[1])\n",
        "bow_cv = count_vect.transform(X_cv)\n",
        "bow_test = count_vect.transform(X_test)\n",
        "print(\"CV Data Size: \",bow_cv.shape)\n",
        "print(\"Test Data Size: \",bow_test.shape)"
      ],
      "metadata": {
        "colab": {
          "base_uri": "https://localhost:8080/"
        },
        "id": "2Ks5LcC_nJnJ",
        "outputId": "5a7f3c25-635d-4a11-9718-f8265fa40c7c"
      },
      "execution_count": 196,
      "outputs": [
        {
          "output_type": "stream",
          "name": "stdout",
          "text": [
            "Top 20 words with their frequencies in training set are [('flight', 2215), ('unite', 1852), ('usairways', 1400), ('americanair', 1305), ('get', 969), ('southwestair', 939), ('jetblue', 873), ('thank', 754), ('cancel', 544), ('service', 526), ('delay', 497), ('time', 461), ('help', 419), ('wait', 411), ('call', 402), ('customer', 401), ('bag', 383), ('hold', 374), ('hours', 350), ('go', 349)]\n",
            "The type of count vectorizer  <class 'scipy.sparse.csr.csr_matrix'>\n",
            "The shape of out text BOW vectorizer  (6155, 46581)\n",
            "CV Data Size:  (1539, 46581)\n",
            "Test Data Size:  (3791, 46581)\n"
          ]
        }
      ]
    },
    {
      "cell_type": "code",
      "source": [
        "#Normalize bow data for effective model training\n",
        "from sklearn import preprocessing\n",
        "from sklearn.preprocessing import Normalizer\n",
        "bow_train=preprocessing.normalize(bow_train)\n",
        "bow_cv=preprocessing.normalize(bow_cv)\n",
        "bow_test=preprocessing.normalize(bow_test)\n",
        "print(\"The shape of out text BOW vectorizer \",bow_train.get_shape())\n",
        "print(\"CV Data Size: \",bow_cv.shape)\n",
        "print(\"Test Data Size: \",bow_test.shape)"
      ],
      "metadata": {
        "colab": {
          "base_uri": "https://localhost:8080/"
        },
        "id": "NnUf7GDtnU-n",
        "outputId": "8bbb6749-ace2-47a3-d957-7a285224147e"
      },
      "execution_count": 197,
      "outputs": [
        {
          "output_type": "stream",
          "name": "stdout",
          "text": [
            "The shape of out text BOW vectorizer  (6155, 46581)\n",
            "CV Data Size:  (1539, 46581)\n",
            "Test Data Size:  (3791, 46581)\n"
          ]
        }
      ]
    },
    {
      "cell_type": "code",
      "source": [
        "#importing libraries for model evaluation and algorithms\n",
        "import pandas as pd\n",
        "import numpy as np\n",
        "import matplotlib.pyplot as plt\n",
        "import seaborn as sns\n",
        "from sklearn import preprocessing\n",
        "from sklearn.metrics import roc_curve,auc\n",
        "from sklearn.metrics import roc_auc_score\n",
        "from sklearn.model_selection import train_test_split\n",
        "from sklearn.metrics import confusion_matrix\n",
        "from sklearn import metrics\n",
        "from IPython.display import display\n",
        "import warnings\n",
        "warnings.filterwarnings(\"ignore\")\n",
        "import nltk\n",
        "from nltk.tokenize import sent_tokenize, word_tokenize\n",
        "from sklearn.feature_extraction.text import TfidfTransformer\n",
        "from sklearn.feature_extraction.text import TfidfVectorizer\n",
        "from sklearn.feature_extraction.text import CountVectorizer\n",
        "from sklearn.naive_bayes import  MultinomialNB\n",
        "import re\n",
        "from nltk.corpus import stopwords\n",
        "from nltk.stem import PorterStemmer\n",
        "from nltk.stem.wordnet import WordNetLemmatizer"
      ],
      "metadata": {
        "id": "Q4L4H0_6nv8Z"
      },
      "execution_count": 198,
      "outputs": []
    },
    {
      "cell_type": "code",
      "source": [
        "# find optimal alpha for kdtree approach\n",
        "KNN(bow_train,bow_cv,Y_tr,Y_cv,'kdtree')"
      ],
      "metadata": {
        "colab": {
          "base_uri": "https://localhost:8080/",
          "height": 868
        },
        "id": "XmvVkiE7ndty",
        "outputId": "39c48c13-da70-4144-98e0-e427dd442f2d"
      },
      "execution_count": 199,
      "outputs": [
        {
          "output_type": "stream",
          "name": "stdout",
          "text": [
            "1  ------>  0.788487391996133\n",
            "3  ------>  0.8715257497331373\n",
            "5  ------>  0.8960695655676623\n",
            "7  ------>  0.8952312138728323\n",
            "9  ------>  0.9014898994984994\n",
            "11  ------>  0.9035152867011742\n",
            "13  ------>  0.9050384181587481\n",
            "15  ------>  0.905758443938692\n",
            "17  ------>  0.9063765080260215\n",
            "19  ------>  0.9052964693561056\n",
            "21  ------>  0.9035240982054742\n",
            "23  ------>  0.9013627620793137\n",
            "25  ------>  0.9002764294777547\n",
            "27  ------>  0.8986601478318665\n",
            "29  ------>  0.8965617510221345\n",
            "\n",
            "The optimal number of neighbors is 17.\n"
          ]
        },
        {
          "output_type": "display_data",
          "data": {
            "text/plain": [
              "<Figure size 432x288 with 1 Axes>"
            ],
            "image/png": "[encoded data removed]"
          },
          "metadata": {
            "needs_background": "light"
          }
        },
        {
          "output_type": "display_data",
          "data": {
            "text/plain": [
              "<Figure size 432x288 with 1 Axes>"
            ],
            "image/png": "[encoded data removed]"
          },
          "metadata": {
            "needs_background": "light"
          }
        }
      ]
    },
    {
      "cell_type": "code",
      "source": [
        "#optimal_k=17 used for testing\n",
        "testing(bow_train,Y_tr,bow_test,Y_test,'kdtree',optimal_k=17)"
      ],
      "metadata": {
        "colab": {
          "base_uri": "https://localhost:8080/",
          "height": 1000
        },
        "id": "o5f7A0qKol6q",
        "outputId": "41b33ced-179c-402c-e3b0-8b24522d3bec"
      },
      "execution_count": 205,
      "outputs": [
        {
          "output_type": "stream",
          "name": "stdout",
          "text": [
            "AUC Score 0.8875294942522944\n"
          ]
        },
        {
          "output_type": "display_data",
          "data": {
            "text/plain": [
              "<Figure size 432x288 with 1 Axes>"
            ],
            "image/png": "[encoded data removed]"
          },
          "metadata": {
            "needs_background": "light"
          }
        },
        {
          "output_type": "stream",
          "name": "stdout",
          "text": [
            "f1 score for data : 0.6733542319749216\n",
            "hamming loss for data: 0.1374307570561857\n",
            "Precision recall report for data:\n",
            "               precision    recall  f1-score   support\n",
            "\n",
            "           0       0.91      0.91      0.91      2996\n",
            "           1       0.67      0.68      0.67       795\n",
            "\n",
            "    accuracy                           0.86      3791\n",
            "   macro avg       0.79      0.79      0.79      3791\n",
            "weighted avg       0.86      0.86      0.86      3791\n",
            "\n"
          ]
        },
        {
          "output_type": "display_data",
          "data": {
            "text/plain": [
              "<Figure size 720x720 with 2 Axes>"
            ],
            "image/png": "[encoded data removed]"
          },
          "metadata": {
            "needs_background": "light"
          }
        }
      ]
    },
    {
      "cell_type": "markdown",
      "source": [
        "## **KNN on TF-IDF Vectorization**"
      ],
      "metadata": {
        "id": "1s60qeFeouo0"
      }
    },
    {
      "cell_type": "code",
      "source": [
        "#TF-IDF Vectorization with unigrams and bigrams\n",
        "tf_idf_vect = TfidfVectorizer(ngram_range=(1,2))\n",
        "tfidf_train = tf_idf_vect.fit_transform(X_tr)\n",
        "features = tf_idf_vect.get_feature_names()\n",
        "print(\"some sample features(unique words in the corpus)\",features[10000:10010])                                                              \n",
        "print(\"The type of count vectorizer \",type(tfidf_train))\n",
        "print(\"The shape of out text TFIDF vectorizer \",tfidf_train.get_shape())\n",
        "tfidf_cv = tf_idf_vect.transform(X_cv)\n",
        "tfidf_test = tf_idf_vect.transform(X_test)\n",
        "print(\"CV Data Size: \",tfidf_cv.shape)\n",
        "print(\"Test Data Size: \",tfidf_test.shape)"
      ],
      "metadata": {
        "colab": {
          "base_uri": "https://localhost:8080/"
        },
        "id": "r8jeGhh3o1Pb",
        "outputId": "24bde4c7-10f0-4f61-a1ad-788be3378fa3"
      },
      "execution_count": 201,
      "outputs": [
        {
          "output_type": "stream",
          "name": "stdout",
          "text": [
            "some sample features(unique words in the corpus) ['delay worst', 'delay worstunitedflightsever', 'delay would', 'delay wout', 'delay wow', 'delay yet', 'delay yxe', 'delayedcancelled', 'delayedcancelled flight', 'delayedcancelled flightled']\n",
            "The type of count vectorizer  <class 'scipy.sparse.csr.csr_matrix'>\n",
            "The shape of out text TFIDF vectorizer  (6155, 46581)\n",
            "CV Data Size:  (1539, 46581)\n",
            "Test Data Size:  (3791, 46581)\n"
          ]
        }
      ]
    },
    {
      "cell_type": "code",
      "source": [
        "#displaying top 25 tfidf features\n",
        "def top_tfidf_feats(row, features, top_n=25):\n",
        "    ''' Get top n tfidf values in row and return them with their corresponding feature names.'''\n",
        "    topn_ids = np.argsort(row)[::-1][:top_n]\n",
        "    top_feats = [(features[i], row[i]) for i in topn_ids]\n",
        "    df = pd.DataFrame(top_feats)\n",
        "    df.columns = ['feature', 'tfidf']\n",
        "    return df\n",
        "\n",
        "top_tfidf = top_tfidf_feats(tfidf_train[1,:].toarray()[0],features,10)\n",
        "top_tfidf"
      ],
      "metadata": {
        "colab": {
          "base_uri": "https://localhost:8080/",
          "height": 304
        },
        "id": "quKzJBcjo6Wr",
        "outputId": "f7a4844f-b040-41b6-8d82-aacfa34b7b40"
      },
      "execution_count": 202,
      "outputs": [
        {
          "output_type": "execute_result",
          "data": {
            "text/plain": [
              "             feature     tfidf\n",
              "0     communicate us  0.400178\n",
              "1  would communicate  0.400178\n",
              "2           get wish  0.382213\n",
              "3         wish would  0.369467\n",
              "4        communicate  0.344673\n",
              "5        jetblue get  0.308045\n",
              "6               wish  0.291966\n",
              "7              would  0.179220\n",
              "8                 us  0.176579\n",
              "9            jetblue  0.134167"
            ],
            "text/html": [
              "\n",
              "  <div id=\"df-b043fbac-e59b-42cc-8938-3025beb25b6a\">\n",
              "    <div class=\"colab-df-container\">\n",
              "      <div>\n",
              "<style scoped>\n",
              "    .dataframe tbody tr th:only-of-type {\n",
              "        vertical-align: middle;\n",
              "    }\n",
              "\n",
              "    .dataframe tbody tr th {\n",
              "        vertical-align: top;\n",
              "    }\n",
              "\n",
              "    .dataframe thead th {\n",
              "        text-align: right;\n",
              "    }\n",
              "</style>\n",
              "<table border=\"1\" class=\"dataframe\">\n",
              "  <thead>\n",
              "    <tr style=\"text-align: right;\">\n",
              "      <th></th>\n",
              "      <th>feature</th>\n",
              "      <th>tfidf</th>\n",
              "    </tr>\n",
              "  </thead>\n",
              "  <tbody>\n",
              "    <tr>\n",
              "      <th>0</th>\n",
              "      <td>communicate us</td>\n",
              "      <td>0.400178</td>\n",
              "    </tr>\n",
              "    <tr>\n",
              "      <th>1</th>\n",
              "      <td>would communicate</td>\n",
              "      <td>0.400178</td>\n",
              "    </tr>\n",
              "    <tr>\n",
              "      <th>2</th>\n",
              "      <td>get wish</td>\n",
              "      <td>0.382213</td>\n",
              "    </tr>\n",
              "    <tr>\n",
              "      <th>3</th>\n",
              "      <td>wish would</td>\n",
              "      <td>0.369467</td>\n",
              "    </tr>\n",
              "    <tr>\n",
              "      <th>4</th>\n",
              "      <td>communicate</td>\n",
              "      <td>0.344673</td>\n",
              "    </tr>\n",
              "    <tr>\n",
              "      <th>5</th>\n",
              "      <td>jetblue get</td>\n",
              "      <td>0.308045</td>\n",
              "    </tr>\n",
              "    <tr>\n",
              "      <th>6</th>\n",
              "      <td>wish</td>\n",
              "      <td>0.291966</td>\n",
              "    </tr>\n",
              "    <tr>\n",
              "      <th>7</th>\n",
              "      <td>would</td>\n",
              "      <td>0.179220</td>\n",
              "    </tr>\n",
              "    <tr>\n",
              "      <th>8</th>\n",
              "      <td>us</td>\n",
              "      <td>0.176579</td>\n",
              "    </tr>\n",
              "    <tr>\n",
              "      <th>9</th>\n",
              "      <td>jetblue</td>\n",
              "      <td>0.134167</td>\n",
              "    </tr>\n",
              "  </tbody>\n",
              "</table>\n",
              "</div>\n",
              "      <button class=\"colab-df-convert\" onclick=\"convertToInteractive('df-b043fbac-e59b-42cc-8938-3025beb25b6a')\"\n",
              "              title=\"Convert this dataframe to an interactive table.\"\n",
              "              style=\"display:none;\">\n",
              "        \n",
              "  <svg xmlns=\"http://www.w3.org/2000/svg\" height=\"24px\"viewBox=\"0 0 24 24\"\n",
              "       width=\"24px\">\n",
              "    <path d=\"M0 0h24v24H0V0z\" fill=\"none\"/>\n",
              "    <path d=\"M18.56 5.44l.94 2.06.94-2.06 2.06-.94-2.06-.94-.94-2.06-.94 2.06-2.06.94zm-11 1L8.5 8.5l.94-2.06 2.06-.94-2.06-.94L8.5 2.5l-.94 2.06-2.06.94zm10 10l.94 2.06.94-2.06 2.06-.94-2.06-.94-.94-2.06-.94 2.06-2.06.94z\"/><path d=\"M17.41 7.96l-1.37-1.37c-.4-.4-.92-.59-1.43-.59-.52 0-1.04.2-1.43.59L10.3 9.45l-7.72 7.72c-.78.78-.78 2.05 0 2.83L4 21.41c.39.39.9.59 1.41.59.51 0 1.02-.2 1.41-.59l7.78-7.78 2.81-2.81c.8-.78.8-2.07 0-2.86zM5.41 20L4 18.59l7.72-7.72 1.47 1.35L5.41 20z\"/>\n",
              "  </svg>\n",
              "      </button>\n",
              "      \n",
              "  <style>\n",
              "    .colab-df-container {\n",
              "      display:flex;\n",
              "      flex-wrap:wrap;\n",
              "      gap: 12px;\n",
              "    }\n",
              "\n",
              "    .colab-df-convert {\n",
              "      background-color: #E8F0FE;\n",
              "      border: none;\n",
              "      border-radius: 50%;\n",
              "      cursor: pointer;\n",
              "      display: none;\n",
              "      fill: #1967D2;\n",
              "      height: 32px;\n",
              "      padding: 0 0 0 0;\n",
              "      width: 32px;\n",
              "    }\n",
              "\n",
              "    .colab-df-convert:hover {\n",
              "      background-color: #E2EBFA;\n",
              "      box-shadow: 0px 1px 2px rgba(60, 64, 67, 0.3), 0px 1px 3px 1px rgba(60, 64, 67, 0.15);\n",
              "      fill: #174EA6;\n",
              "    }\n",
              "\n",
              "    [theme=dark] .colab-df-convert {\n",
              "      background-color: #3B4455;\n",
              "      fill: #D2E3FC;\n",
              "    }\n",
              "\n",
              "    [theme=dark] .colab-df-convert:hover {\n",
              "      background-color: #434B5C;\n",
              "      box-shadow: 0px 1px 3px 1px rgba(0, 0, 0, 0.15);\n",
              "      filter: drop-shadow(0px 1px 2px rgba(0, 0, 0, 0.3));\n",
              "      fill: #FFFFFF;\n",
              "    }\n",
              "  </style>\n",
              "\n",
              "      <script>\n",
              "        const buttonEl =\n",
              "          document.querySelector('#df-b043fbac-e59b-42cc-8938-3025beb25b6a button.colab-df-convert');\n",
              "        buttonEl.style.display =\n",
              "          google.colab.kernel.accessAllowed ? 'block' : 'none';\n",
              "\n",
              "        async function convertToInteractive(key) {\n",
              "          const element = document.querySelector('#df-b043fbac-e59b-42cc-8938-3025beb25b6a');\n",
              "          const dataTable =\n",
              "            await google.colab.kernel.invokeFunction('convertToInteractive',\n",
              "                                                     [key], {});\n",
              "          if (!dataTable) return;\n",
              "\n",
              "          const docLinkHtml = 'Like what you see? Visit the ' +\n",
              "            '<a target=\"_blank\" href=https://colab.research.google.com/notebooks/data_table.ipynb>data table notebook</a>'\n",
              "            + ' to learn more about interactive tables.';\n",
              "          element.innerHTML = '';\n",
              "          dataTable['output_type'] = 'display_data';\n",
              "          await google.colab.output.renderOutput(dataTable, element);\n",
              "          const docLink = document.createElement('div');\n",
              "          docLink.innerHTML = docLinkHtml;\n",
              "          element.appendChild(docLink);\n",
              "        }\n",
              "      </script>\n",
              "    </div>\n",
              "  </div>\n",
              "  "
            ],
            "application/vnd.google.colaboratory.module+javascript": "\n      import \"https://ssl.gstatic.com/colaboratory/data_table/f872b2c2305463fd/data_table.js\";\n\n      window.createDataTable({\n        data: [[{\n            'v': 0,\n            'f': \"0\",\n        },\n\"communicate us\",\n{\n            'v': 0.40017821023778294,\n            'f': \"0.40017821023778294\",\n        }],\n [{\n            'v': 1,\n            'f': \"1\",\n        },\n\"would communicate\",\n{\n            'v': 0.40017821023778294,\n            'f': \"0.40017821023778294\",\n        }],\n [{\n            'v': 2,\n            'f': \"2\",\n        },\n\"get wish\",\n{\n            'v': 0.3822134552707687,\n            'f': \"0.3822134552707687\",\n        }],\n [{\n            'v': 3,\n            'f': \"3\",\n        },\n\"wish would\",\n{\n            'v': 0.36946725877530995,\n            'f': \"0.36946725877530995\",\n        }],\n [{\n            'v': 4,\n            'f': \"4\",\n        },\n\"communicate\",\n{\n            'v': 0.34467262095101026,\n            'f': \"0.34467262095101026\",\n        }],\n [{\n            'v': 5,\n            'f': \"5\",\n        },\n\"jetblue get\",\n{\n            'v': 0.308045355850364,\n            'f': \"0.308045355850364\",\n        }],\n [{\n            'v': 6,\n            'f': \"6\",\n        },\n\"wish\",\n{\n            'v': 0.2919662700302997,\n            'f': \"0.2919662700302997\",\n        }],\n [{\n            'v': 7,\n            'f': \"7\",\n        },\n\"would\",\n{\n            'v': 0.17922038169732643,\n            'f': \"0.17922038169732643\",\n        }],\n [{\n            'v': 8,\n            'f': \"8\",\n        },\n\"us\",\n{\n            'v': 0.17657881250690993,\n            'f': \"0.17657881250690993\",\n        }],\n [{\n            'v': 9,\n            'f': \"9\",\n        },\n\"jetblue\",\n{\n            'v': 0.13416676349839582,\n            'f': \"0.13416676349839582\",\n        }]],\n        columns: [[\"number\", \"index\"], [\"string\", \"feature\"], [\"number\", \"tfidf\"]],\n        columnOptions: [{\"width\": \"1px\", \"className\": \"index_column\"}],\n        rowsPerPage: 25,\n        helpUrl: \"https://colab.research.google.com/notebooks/data_table.ipynb\",\n        suppressOutputScrolling: true,\n        minimumWidth: undefined,\n      });\n    "
          },
          "metadata": {},
          "execution_count": 202
        }
      ]
    },
    {
      "cell_type": "code",
      "source": [
        "#Normalize Data for effective model training\n",
        "from sklearn import preprocessing\n",
        "from sklearn.preprocessing import Normalizer\n",
        "tfidf_train=preprocessing.normalize(tfidf_train)\n",
        "tfidf_cv=preprocessing.normalize(tfidf_cv)\n",
        "tfidf_test=preprocessing.normalize(tfidf_test)\n",
        "print(\"The shape of out text TFIDF vectorizer \",tfidf_train.get_shape())\n",
        "print(\"CV Data Size: \",tfidf_cv.shape)\n",
        "print(\"Test Data Size: \",tfidf_test.shape)"
      ],
      "metadata": {
        "colab": {
          "base_uri": "https://localhost:8080/"
        },
        "id": "ASzc4vrEpLae",
        "outputId": "dd7bcaca-912f-4952-94f4-1674664c5dfe"
      },
      "execution_count": 203,
      "outputs": [
        {
          "output_type": "stream",
          "name": "stdout",
          "text": [
            "The shape of out text TFIDF vectorizer  (6155, 46581)\n",
            "CV Data Size:  (1539, 46581)\n",
            "Test Data Size:  (3791, 46581)\n"
          ]
        }
      ]
    },
    {
      "cell_type": "code",
      "source": [
        "# find optimal_k using brute approach for tfidf vectorization\n",
        "KNN(tfidf_train,tfidf_cv,Y_tr,Y_cv,'brute')"
      ],
      "metadata": {
        "colab": {
          "base_uri": "https://localhost:8080/",
          "height": 868
        },
        "id": "38U1iqFbpQaL",
        "outputId": "1e7daab0-bc03-480c-ac0a-2d282bafaef5"
      },
      "execution_count": 204,
      "outputs": [
        {
          "output_type": "stream",
          "name": "stdout",
          "text": [
            "1  ------>  0.7740365249441099\n",
            "3  ------>  0.8648403355420837\n",
            "5  ------>  0.8826911844675837\n",
            "7  ------>  0.8970577128355924\n",
            "9  ------>  0.9042944754385611\n",
            "11  ------>  0.9078719461843668\n",
            "13  ------>  0.9106400173208998\n",
            "15  ------>  0.9149249259833638\n",
            "17  ------>  0.920351553845844\n",
            "19  ------>  0.9240133632756642\n",
            "21  ------>  0.9229522064006767\n",
            "23  ------>  0.9237880405228495\n",
            "25  ------>  0.9236533503856921\n",
            "27  ------>  0.9240788201647498\n",
            "29  ------>  0.9254131336730378\n",
            "\n",
            "The optimal number of neighbors is 29.\n"
          ]
        },
        {
          "output_type": "display_data",
          "data": {
            "text/plain": [
              "<Figure size 432x288 with 1 Axes>"
            ],
            "image/png": "[encoded data removed]"
          },
          "metadata": {
            "needs_background": "light"
          }
        },
        {
          "output_type": "display_data",
          "data": {
            "text/plain": [
              "<Figure size 432x288 with 1 Axes>"
            ],
            "image/png": "[encoded data removed]"
          },
          "metadata": {
            "needs_background": "light"
          }
        }
      ]
    },
    {
      "cell_type": "code",
      "source": [
        "#using optimal k=29 for testing\n",
        "testing(tfidf_train,Y_tr,tfidf_test,Y_test,'brute',optimal_k=29)"
      ],
      "metadata": {
        "colab": {
          "base_uri": "https://localhost:8080/",
          "height": 1000
        },
        "id": "enRJnADnpesl",
        "outputId": "689290e4-3589-4709-e479-f02c79f7bd52"
      },
      "execution_count": 206,
      "outputs": [
        {
          "output_type": "stream",
          "name": "stdout",
          "text": [
            "AUC Score 0.9200993358020337\n"
          ]
        },
        {
          "output_type": "display_data",
          "data": {
            "text/plain": [
              "<Figure size 432x288 with 1 Axes>"
            ],
            "image/png": "[encoded data removed]"
          },
          "metadata": {
            "needs_background": "light"
          }
        },
        {
          "output_type": "stream",
          "name": "stdout",
          "text": [
            "f1 score for data : 0.6918056562726613\n",
            "hamming loss for data: 0.11210762331838565\n",
            "Precision recall report for data:\n",
            "               precision    recall  f1-score   support\n",
            "\n",
            "           0       0.90      0.96      0.93      2996\n",
            "           1       0.82      0.60      0.69       795\n",
            "\n",
            "    accuracy                           0.89      3791\n",
            "   macro avg       0.86      0.78      0.81      3791\n",
            "weighted avg       0.88      0.89      0.88      3791\n",
            "\n"
          ]
        },
        {
          "output_type": "display_data",
          "data": {
            "text/plain": [
              "<Figure size 720x720 with 2 Axes>"
            ],
            "image/png": "[encoded data removed]"
          },
          "metadata": {
            "needs_background": "light"
          }
        }
      ]
    },
    {
      "cell_type": "code",
      "source": [
        "# Here I have displayed how the KNN performed for both BOW and TF-IDF Vectorizations\n",
        "from IPython.display import display\n",
        " # intialise data of lists.\n",
        "results = {'Category':['BOW Vectorization','TF-IDF Vectorization'],\n",
        "        'AUC Score':AUC,\n",
        "        'F1-Score':F1}\n",
        "#results = pd.DataFrame(results)\n",
        " \n",
        "# Print the output.\n",
        "display(results)      "
      ],
      "metadata": {
        "colab": {
          "base_uri": "https://localhost:8080/",
          "height": 69
        },
        "id": "NHxE0XilqqWk",
        "outputId": "d75a1771-84d2-4123-c676-ba3fd3342ebd"
      },
      "execution_count": 230,
      "outputs": [
        {
          "output_type": "display_data",
          "data": {
            "text/plain": [
              "{'AUC Score': [0.89, 0.89, 0.92],\n",
              " 'Category': ['BOW Vectorization', 'TF-IDF Vectorization'],\n",
              " 'F1-Score': [0.68, 0.67, 0.69]}"
            ]
          },
          "metadata": {}
        }
      ]
    },
    {
      "cell_type": "code",
      "source": [
        "df.head()"
      ],
      "metadata": {
        "colab": {
          "base_uri": "https://localhost:8080/",
          "height": 196
        },
        "id": "RB7VhKLJHhsn",
        "outputId": "825a861e-fe2a-4b67-b5af-fa100737a3b1"
      },
      "execution_count": 209,
      "outputs": [
        {
          "output_type": "execute_result",
          "data": {
            "text/plain": [
              "  airline_sentiment                                               text  \\\n",
              "0          positive  ['virginamerica', 'plus', 'add', 'commercials'...   \n",
              "1          negative  ['virginamerica', 'really', 'aggressive', 'bla...   \n",
              "2          negative  ['virginamerica', 'really', 'big', 'bad', 'thi...   \n",
              "3          negative  ['virginamerica', 'seriously', 'would', 'pay',...   \n",
              "4          positive  ['virginamerica', 'yes', 'nearly', 'every', 't...   \n",
              "\n",
              "   Sentiment  \n",
              "0          1  \n",
              "1          0  \n",
              "2          0  \n",
              "3          0  \n",
              "4          1  "
            ],
            "text/html": [
              "\n",
              "  <div id=\"df-76357089-4f11-431c-84a3-f4931cfc7918\">\n",
              "    <div class=\"colab-df-container\">\n",
              "      <div>\n",
              "<style scoped>\n",
              "    .dataframe tbody tr th:only-of-type {\n",
              "        vertical-align: middle;\n",
              "    }\n",
              "\n",
              "    .dataframe tbody tr th {\n",
              "        vertical-align: top;\n",
              "    }\n",
              "\n",
              "    .dataframe thead th {\n",
              "        text-align: right;\n",
              "    }\n",
              "</style>\n",
              "<table border=\"1\" class=\"dataframe\">\n",
              "  <thead>\n",
              "    <tr style=\"text-align: right;\">\n",
              "      <th></th>\n",
              "      <th>airline_sentiment</th>\n",
              "      <th>text</th>\n",
              "      <th>Sentiment</th>\n",
              "    </tr>\n",
              "  </thead>\n",
              "  <tbody>\n",
              "    <tr>\n",
              "      <th>0</th>\n",
              "      <td>positive</td>\n",
              "      <td>['virginamerica', 'plus', 'add', 'commercials'...</td>\n",
              "      <td>1</td>\n",
              "    </tr>\n",
              "    <tr>\n",
              "      <th>1</th>\n",
              "      <td>negative</td>\n",
              "      <td>['virginamerica', 'really', 'aggressive', 'bla...</td>\n",
              "      <td>0</td>\n",
              "    </tr>\n",
              "    <tr>\n",
              "      <th>2</th>\n",
              "      <td>negative</td>\n",
              "      <td>['virginamerica', 'really', 'big', 'bad', 'thi...</td>\n",
              "      <td>0</td>\n",
              "    </tr>\n",
              "    <tr>\n",
              "      <th>3</th>\n",
              "      <td>negative</td>\n",
              "      <td>['virginamerica', 'seriously', 'would', 'pay',...</td>\n",
              "      <td>0</td>\n",
              "    </tr>\n",
              "    <tr>\n",
              "      <th>4</th>\n",
              "      <td>positive</td>\n",
              "      <td>['virginamerica', 'yes', 'nearly', 'every', 't...</td>\n",
              "      <td>1</td>\n",
              "    </tr>\n",
              "  </tbody>\n",
              "</table>\n",
              "</div>\n",
              "      <button class=\"colab-df-convert\" onclick=\"convertToInteractive('df-76357089-4f11-431c-84a3-f4931cfc7918')\"\n",
              "              title=\"Convert this dataframe to an interactive table.\"\n",
              "              style=\"display:none;\">\n",
              "        \n",
              "  <svg xmlns=\"http://www.w3.org/2000/svg\" height=\"24px\"viewBox=\"0 0 24 24\"\n",
              "       width=\"24px\">\n",
              "    <path d=\"M0 0h24v24H0V0z\" fill=\"none\"/>\n",
              "    <path d=\"M18.56 5.44l.94 2.06.94-2.06 2.06-.94-2.06-.94-.94-2.06-.94 2.06-2.06.94zm-11 1L8.5 8.5l.94-2.06 2.06-.94-2.06-.94L8.5 2.5l-.94 2.06-2.06.94zm10 10l.94 2.06.94-2.06 2.06-.94-2.06-.94-.94-2.06-.94 2.06-2.06.94z\"/><path d=\"M17.41 7.96l-1.37-1.37c-.4-.4-.92-.59-1.43-.59-.52 0-1.04.2-1.43.59L10.3 9.45l-7.72 7.72c-.78.78-.78 2.05 0 2.83L4 21.41c.39.39.9.59 1.41.59.51 0 1.02-.2 1.41-.59l7.78-7.78 2.81-2.81c.8-.78.8-2.07 0-2.86zM5.41 20L4 18.59l7.72-7.72 1.47 1.35L5.41 20z\"/>\n",
              "  </svg>\n",
              "      </button>\n",
              "      \n",
              "  <style>\n",
              "    .colab-df-container {\n",
              "      display:flex;\n",
              "      flex-wrap:wrap;\n",
              "      gap: 12px;\n",
              "    }\n",
              "\n",
              "    .colab-df-convert {\n",
              "      background-color: #E8F0FE;\n",
              "      border: none;\n",
              "      border-radius: 50%;\n",
              "      cursor: pointer;\n",
              "      display: none;\n",
              "      fill: #1967D2;\n",
              "      height: 32px;\n",
              "      padding: 0 0 0 0;\n",
              "      width: 32px;\n",
              "    }\n",
              "\n",
              "    .colab-df-convert:hover {\n",
              "      background-color: #E2EBFA;\n",
              "      box-shadow: 0px 1px 2px rgba(60, 64, 67, 0.3), 0px 1px 3px 1px rgba(60, 64, 67, 0.15);\n",
              "      fill: #174EA6;\n",
              "    }\n",
              "\n",
              "    [theme=dark] .colab-df-convert {\n",
              "      background-color: #3B4455;\n",
              "      fill: #D2E3FC;\n",
              "    }\n",
              "\n",
              "    [theme=dark] .colab-df-convert:hover {\n",
              "      background-color: #434B5C;\n",
              "      box-shadow: 0px 1px 3px 1px rgba(0, 0, 0, 0.15);\n",
              "      filter: drop-shadow(0px 1px 2px rgba(0, 0, 0, 0.3));\n",
              "      fill: #FFFFFF;\n",
              "    }\n",
              "  </style>\n",
              "\n",
              "      <script>\n",
              "        const buttonEl =\n",
              "          document.querySelector('#df-76357089-4f11-431c-84a3-f4931cfc7918 button.colab-df-convert');\n",
              "        buttonEl.style.display =\n",
              "          google.colab.kernel.accessAllowed ? 'block' : 'none';\n",
              "\n",
              "        async function convertToInteractive(key) {\n",
              "          const element = document.querySelector('#df-76357089-4f11-431c-84a3-f4931cfc7918');\n",
              "          const dataTable =\n",
              "            await google.colab.kernel.invokeFunction('convertToInteractive',\n",
              "                                                     [key], {});\n",
              "          if (!dataTable) return;\n",
              "\n",
              "          const docLinkHtml = 'Like what you see? Visit the ' +\n",
              "            '<a target=\"_blank\" href=https://colab.research.google.com/notebooks/data_table.ipynb>data table notebook</a>'\n",
              "            + ' to learn more about interactive tables.';\n",
              "          element.innerHTML = '';\n",
              "          dataTable['output_type'] = 'display_data';\n",
              "          await google.colab.output.renderOutput(dataTable, element);\n",
              "          const docLink = document.createElement('div');\n",
              "          docLink.innerHTML = docLinkHtml;\n",
              "          element.appendChild(docLink);\n",
              "        }\n",
              "      </script>\n",
              "    </div>\n",
              "  </div>\n",
              "  "
            ],
            "application/vnd.google.colaboratory.module+javascript": "\n      import \"https://ssl.gstatic.com/colaboratory/data_table/f872b2c2305463fd/data_table.js\";\n\n      window.createDataTable({\n        data: [[{\n            'v': 0,\n            'f': \"0\",\n        },\n\"positive\",\n\"['virginamerica', 'plus', 'add', 'commercials', 'experience', 'tacky']\",\n{\n            'v': 1,\n            'f': \"1\",\n        }],\n [{\n            'v': 1,\n            'f': \"1\",\n        },\n\"negative\",\n\"['virginamerica', 'really', 'aggressive', 'blast', 'obnoxious', 'entertainment', 'guests', 'face', 'little', 'recourse']\",\n{\n            'v': 0,\n            'f': \"0\",\n        }],\n [{\n            'v': 2,\n            'f': \"2\",\n        },\n\"negative\",\n\"['virginamerica', 'really', 'big', 'bad', 'thing']\",\n{\n            'v': 0,\n            'f': \"0\",\n        }],\n [{\n            'v': 3,\n            'f': \"3\",\n        },\n\"negative\",\n\"['virginamerica', 'seriously', 'would', 'pay', 'flight', 'seat', 'play', 'really', 'bad', 'thing', 'fly', 'va']\",\n{\n            'v': 0,\n            'f': \"0\",\n        }],\n [{\n            'v': 4,\n            'f': \"4\",\n        },\n\"positive\",\n\"['virginamerica', 'yes', 'nearly', 'every', 'time', 'fly', 'vx', 'ear', 'worm', 'go', 'away']\",\n{\n            'v': 1,\n            'f': \"1\",\n        }]],\n        columns: [[\"number\", \"index\"], [\"string\", \"airline_sentiment\"], [\"string\", \"text\"], [\"number\", \"Sentiment\"]],\n        columnOptions: [{\"width\": \"1px\", \"className\": \"index_column\"}],\n        rowsPerPage: 25,\n        helpUrl: \"https://colab.research.google.com/notebooks/data_table.ipynb\",\n        suppressOutputScrolling: true,\n        minimumWidth: undefined,\n      });\n    "
          },
          "metadata": {},
          "execution_count": 209
        }
      ]
    },
    {
      "cell_type": "markdown",
      "metadata": {
        "id": "Hu8TkVCbV9yt"
      },
      "source": [
        "## **7. Conclusion**\n",
        "- Summary from the understanding of the application of Various Pre-processing, Vectorization, and performance of the model on the dataset."
      ]
    },
    {
      "cell_type": "markdown",
      "source": [
        "- We observe that KNN model has 89% on AUC Score using BOW vectorization and TF-IDF Vectorization. On F1 Score, our model accuracy drops to 68%. We could improve our model accuracy and generalization on yet unseen data by resampling the target class distribution and trying other classifiers such as Random Forest or even CNN. "
      ],
      "metadata": {
        "id": "X1vVcB2PPYoS"
      }
    }
  ],
  "metadata": {
    "accelerator": "TPU",
    "colab": {
      "collapsed_sections": [],
      "name": "Twitter_US_Airline_Sentiment_Solution_Notebook.ipynb",
      "provenance": []
    },
    "kernelspec": {
      "display_name": "Python 3",
      "name": "python3"
    },
    "language_info": {
      "name": "python"
    }
  },
  "nbformat": 4,
  "nbformat_minor": 0
}